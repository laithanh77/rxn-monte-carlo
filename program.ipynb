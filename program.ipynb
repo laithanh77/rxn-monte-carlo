{
 "cells": [
  {
   "cell_type": "code",
   "execution_count": 1,
   "metadata": {},
   "outputs": [],
   "source": [
    "%%capture\n",
    "from tqdm import tqdm_notebook as tqdm\n",
    "tqdm().pandas()\n",
    "from tqdm import tnrange\n",
    "from tqdm import trange"
   ]
  },
  {
   "cell_type": "code",
   "execution_count": 2,
   "metadata": {},
   "outputs": [],
   "source": [
    "%matplotlib inline\n",
    "from collections import OrderedDict\n",
    "import matplotlib.pyplot as plt\n",
    "from IPython.display import display, clear_output\n",
    "import time\n",
    "import random as rand\n",
    "import math\n",
    "from math import exp\n",
    "from mpl_toolkits.mplot3d import Axes3D as plt3d\n",
    "import numpy as np\n",
    "import time\n",
    "import numpy as np\n",
    "from scipy.integrate import quad as integrate\n",
    "#fig, ax = plt.subplots(figsize=(20,10))"
   ]
  },
  {
   "cell_type": "code",
   "execution_count": 19,
   "metadata": {},
   "outputs": [],
   "source": [
    "dt = 2.9116223400000000865 #average time step\n",
    "#qualitative: for intensity at 100: 100*np.exp(-(1/500)*(t-60)**2)\n",
    "def pulse(t):\n",
    "    #guassian form\n",
    "    return 100*np.exp(-(1/500)*(t-60)**2)\n",
    "\n",
    "def rand_vel_comp(M, T):\n",
    "    #https://scicomp.stackexchange.com/questions/19969/how-do-i-generate-maxwell-boltzmann-variates-using-a-uniform-distribution-random\n",
    "    #M = mass\n",
    "    #T = temperature\n",
    "    '''\n",
    "    Uses uniform random number generator to return a velocity component from maxwell boltzmann distribution\n",
    "    '''\n",
    "    kb = 1.38064852e-23\n",
    "    \n",
    "    #did some test and found that the results for most probable velocity is off by a factor of sqrt(2)\n",
    "    #the distribution does not fully represent the tail end of actual distributions...? not sure\n",
    "    return math.sqrt((2*kb*T)/M) * rand.uniform(0,1)\n",
    "\n",
    "total_pulse_area = integrate(pulse, 0, 120)[0]\n",
    "\n",
    "def distance(atom1, atom2):\n",
    "    #gives distance between atom\n",
    "    return ((atom1.x - atom2.x)**2 + (atom1.y - atom2.y)**2)**(1/2)\n",
    "\n",
    "def rand_sign():\n",
    "    #returns a random sign\n",
    "    if rand.random() < 0.5:\n",
    "        return 1\n",
    "    else:\n",
    "        return -1\n",
    "\n",
    "class Ensemble():\n",
    "    #basically a numpy array containing objects but with more functionalities\n",
    "    def __init__(self, N_I2, N_H2, lim = (20, 20), T = 300):\n",
    "        self.configuration = np.array([])\n",
    "        self.lim = lim\n",
    "        self.T = T\n",
    "        self.B = ((1.38064852e-23) * T)**-1\n",
    "        #for i in range(N):\n",
    "        #    self.Spawn(N)\n",
    "        self.Spawn(N_I2, N_H2)\n",
    "        #during sampling, any accepted configuration will have its energy sotred in this list.\n",
    "        self.configuration_total_energies = np.array([self.Energy_Total()])\n",
    "    def __getitem__(self, key):\n",
    "        return self.configuration[key]\n",
    "    \n",
    "    def __setitem__(self, key, value):\n",
    "        self.configuration[key] = value\n",
    "\n",
    "    def append(self, value):\n",
    "        self.configuration = np.append(self.configuration, value)\n",
    "    \n",
    "    def Distance(self, atom1, atom2):\n",
    "    #gives distance between atom\n",
    "        return ((atom1.x - atom2.x)**2 + (atom1.y - atom2.y)**2)**(1/2)\n",
    "    \n",
    "    def Check_VDW_Collision(self, testAtom, atom, k = 1):\n",
    "        '''\n",
    "        Parameters: k is a scaling factor for collision\n",
    "        returns True if there exists a atom within testAtom's vdw radius\n",
    "        '''\n",
    "        return self.Distance(testAtom, atom) <= (testAtom.vdw + atom.vdw)*k\n",
    "    \n",
    "    def Spawn_deprecated(self, N):\n",
    "        #deprecated\n",
    "        for attempt in range(N+50):\n",
    "            testAtom = Atom(rand.uniform(0, self.lim[0]), rand.uniform(0, self.lim[1]))\n",
    "            if not any((testAtom.x, testAtom.y) == (atom.x, atom.y) or self.Check_VDW_Collision(testAtom, atom) for atom in self.configuration):\n",
    "                self.configuration = np.append(self.configuration, testAtom)\n",
    "                #print(\"INITIAL:\", (testAtom.x, testAtom.y))\n",
    "                break\n",
    "\n",
    "        else:\n",
    "            print(\"Failed to spawn!\")\n",
    "            return None\n",
    "        return None\n",
    "    \n",
    "    def Spawn_Diatomic(self, N):\n",
    "        pos1 = np.array((rand.uniform(0+10, self.lim[0]-10), rand.uniform(0+10, self.lim[1]-10)))\n",
    "        dx = rand.uniform(-2.666, 2.666)\n",
    "        pos2 = np.array((pos1[0]+dx,(2.666**2-(dx)**2)**0.5+pos1[1]))\n",
    "        \n",
    "        \n",
    "        self.configuration = np.append(self.configuration, I2({0: pos1, 1: pos2}))\n",
    "    \n",
    "    def Spawn(self, N_I2, N_H2):\n",
    "        spawn_tol = 2 #temporary variable to restrict spawn area\n",
    "        for i in range(N_I2):\n",
    "            pos1 = np.array((rand.uniform(0+spawn_tol, self.lim[0]-spawn_tol), rand.uniform(0+spawn_tol, self.lim[1]-spawn_tol)))\n",
    "            dx = rand.uniform(-2.666, 2.666)\n",
    "            pos2 = np.array((pos1[0]+dx,(2.666**2-(dx)**2)**0.5+pos1[1]))\n",
    "            self.configuration = np.append(self.configuration, I2({0: pos1, 1: pos2}))\n",
    "        \n",
    "        for i in range(N_H2):\n",
    "            pos1 = np.array((rand.uniform(0+spawn_tol, self.lim[0]-spawn_tol), rand.uniform(0+spawn_tol, self.lim[1]-spawn_tol)))\n",
    "            dx = rand.uniform(-0.74, 0.74)\n",
    "            pos2 = np.array((pos1[0]+dx,(0.74**2-(dx)**2)**0.5+pos1[1]))\n",
    "            self.configuration = np.append(self.configuration, H2({0: pos1, 1: pos2}))\n",
    "    \n",
    "    def Update_Energy(self):\n",
    "        #pairwise calculation & i != j\n",
    "        e0 = 8.85418782e-12 #permititivy of free space in m^-3 kg^-1 s^4 Amphere^2\n",
    "        for i in self.configuration:\n",
    "            i.V = 0\n",
    "            for j in self.configuration:\n",
    "                if i == j:\n",
    "                    continue\n",
    "                d = np.linalg.norm(i.getPosc() - j.getPosc())\n",
    "                #Lorentz-Berthelot mixing rule\n",
    "                si = (i.sigma + j.sigma)/2 \n",
    "                ep = (i.epsilon * j.epsilon)**1/2\n",
    "                i.V += ((4 * ep * ((si/d)**12 - (si/d)**6))) #joules, LJ\n",
    "                d *= 1e-10\n",
    "                i.V += ((i.charge*j.charge)/(4*math.pi*e0*d)) #joules, electrostatics\n",
    "                \n",
    "    \n",
    "    def Energy_Total(self):\n",
    "        self.Update_Energy()\n",
    "        return sum(atom.V for atom in self.configuration)\n",
    "    \n",
    "    def AcceptanceRule(self, Uo, Ut):\n",
    "        #Canonical acceptance function\n",
    "        try:\n",
    "            return min(1, exp((-1)*self.B*(Ut - Uo)))\n",
    "        except OverflowError:\n",
    "            print(\"Overflow error! - Ensemble.AcceptanceRule()\")\n",
    "            return 1\n",
    "    \n",
    "    def Cycle(self, time_pulse, time_total):\n",
    "        #check dissociation\n",
    "        for particle in self.configuration:\n",
    "            chance = rand.uniform(0, 1)\n",
    "            if isinstance(particle, I2) and chance <= (integrate(pulse, time_pulse, time_pulse+dt)[0]/total_pulse_area):\n",
    "                print(\"Dissociation!\")\n",
    "                print(\"Integral chance:\", (integrate(pulse, time_pulse, time_pulse+dt)[0]/total_pulse_area)*100, \"%\")\n",
    "                print(\"Random chance:\", chance * 100, \"%\")\n",
    "                print(\"Time pulse:\",time_pulse)\n",
    "                print(\"Time total:\", time_total)\n",
    "                print()\n",
    "                particle.Dissociate(self, self.lim)\n",
    "                \n",
    "        \n",
    "        #this boolean is to check if velocities has been assigned this cycle. Velocities are only assigned\n",
    "        #if theres a possibility of recombination to save computational time\n",
    "        assign_vel = False\n",
    "        #check for recombination\n",
    "        \n",
    "        #I2 bond energy = 2.51542e-19 joules per bond\n",
    "        for particle in self.configuration:\n",
    "            if isinstance(particle, Iodide):\n",
    "                for otherParticle in self.configuration:\n",
    "                    if otherParticle != particle and isinstance(otherParticle, Iodide):\n",
    "                        #if distance between two atoms are less than/equal to I2 bond length, check if recombination\n",
    "                        #is possible\n",
    "                        d = ((otherParticle.pos[0] - particle.pos[0])**2 + (otherParticle.pos[1] - particle.pos[1])**2)**0.5\n",
    "                        if d <= 2.666:\n",
    "                            #assign velocities\n",
    "                            if assign_vel == False:\n",
    "                                for all_particle in self.configuration:\n",
    "                                    all_particle.vel[0] = rand_sign()*rand_vel_comp(all_particle.mass, self.T)\n",
    "                                    all_particle.vel[1] = rand_sign()*rand_vel_comp(all_particle.mass, self.T)\n",
    "                                assign_vel = True\n",
    "                            center = (particle.getPosc() + otherParticle.getPosc())/2\n",
    "                            for thirdParticle in self.configuration:\n",
    "                                d = ((thirdParticle.getPosc()[1] - center[0])**2 + (thirdParticle.getPosc()[1] - center[1])**2)**0.5\n",
    "                                if thirdParticle != particle and thirdParticle != otherParticle and d <= 2.666:\n",
    "                                    #set spawn diatomic with total velocity\n",
    "                                    #make thirdParticle have its velocity + the bond energy\n",
    "                                    Vel = (2*(2.51542e-19)*(thirdParticle.mass**-1))**0.5 #total bond energy converted to velocity\n",
    "                                    thirdParticle.vel += [Vel/math.sqrt(2), Vel/math.sqrt(2)]\n",
    "                                    \n",
    "                                    Vel2 = particle.vel + otherParticle.vel#velocity for diatomic formed\n",
    "                                    u = (particle.pos - otherParticle.pos)/np.linalg.norm((particle.pos - otherParticle.pos))\n",
    "                                    self.configuration = np.append(self.configuration, I2({0:particle.pos, 1:particle.pos+(u*2.666)}))\n",
    "                                    self.configuration = np.delete(system.configuration, np.argwhere(system.configuration == particle))\n",
    "                                    self.configuration = np.delete(system.configuration, np.argwhere(system.configuration == otherParticle))\n",
    "                                    self.configuration[-1].vel = Vel2\n",
    "                                    print(\"Recombination!\")\n",
    "                                    return\n",
    "        particle = self.configuration[rand.randint(0, len(self.configuration) -1)] #select random particle\n",
    "        pos_old = particle.pos\n",
    "        \n",
    "        if isinstance(particle, Diatomic):\n",
    "            if rand.uniform(0, 1.0) < 0.5: #50% chance for translation\n",
    "                #translation\n",
    "                #print(\"Translation\")\n",
    "                pos_trial = particle.Translate(self.configuration, self.lim)\n",
    "            else:\n",
    "                #rotation\n",
    "                #print(\"Rotation\")\n",
    "                pos_trial = particle.Rotate(self.configuration, self.lim)\n",
    "        else:\n",
    "            pos_trial = particle.Translate(self.configuration, self.lim)\n",
    "        Uo = self.Energy_Total() # Uo is total system of OLD/current configuration\n",
    "        particle.pos = pos_trial \n",
    "        Ut = self.Energy_Total()\n",
    "        if rand.uniform(0,1) < self.AcceptanceRule(Uo, Ut):\n",
    "            #accept Ut\n",
    "            self.configuration_total_energies = np.append(self.configuration_total_energies, Ut)\n",
    "            return\n",
    "        else:\n",
    "            #reject Ut\n",
    "            particle.pos = pos_old\n",
    "            #could it be double-counting if this is uncommented?\n",
    "            #self.configuration_total_energies = np.append(self.configuration_total_energies, Uo)\n",
    "    \n",
    "    def Average(self):\n",
    "        #takes in an array containing energies corresponding to a sampled configuration\n",
    "        #evaluates average energy by probaility weighting\n",
    "        numerator = 0\n",
    "        denominator = 0\n",
    "        for i in range(len(self.configuration_total_energies)):\n",
    "            numerator += (self.configuration_total_energies[i] * exp((-1)*self.B*self.configuration_total_energies[i]))\n",
    "            denominator += exp((-1)*self.B*self.configuration_total_energies[i])\n",
    "        return numerator/denominator\n",
    "\n",
    "    def Plot(self, title = \"\"):\n",
    "        fig, ax = plt.subplots(figsize=(20,10))\n",
    "        for atom in self.configuration:\n",
    "            if isinstance(atom, Diatomic):\n",
    "                plt.scatter(atom.pos[0][0], atom.pos[0][1], c = \"black\", s = 5)\n",
    "                plt.scatter(atom.pos[1][0], atom.pos[1][1], c = \"red\", s = 10)\n",
    "                plt.plot([atom.pos[0][0], atom.pos[1][0]], [atom.pos[0][1], atom.pos[1][1]])\n",
    "                ax.add_artist(plt.Circle((atom.pos[0][0], atom.pos[0][1]), atom.vdw, fill = False))\n",
    "                ax.add_artist(plt.Circle((atom.pos[1][0], atom.pos[1][1]), atom.vdw, fill = False))\n",
    "            else:\n",
    "                plt.scatter(atom.pos[0], atom.pos[1], c = \"black\", s = 1)\n",
    "                ax.add_artist(plt.Circle((atom.pos[0], atom.pos[1]), atom.vdw, fill = False))\n",
    "        plt.xlim([0, self.lim[0]])\n",
    "        plt.ylim([0, self.lim[1]])\n",
    "        plt.title(title)\n",
    "        ax.set_aspect('equal')\n",
    "\n",
    "class Atom():\n",
    "    def __init__(self, pos, sigma, epsilon, vdw, mass, charge):\n",
    "        '''\n",
    "        '''\n",
    "        #default parameters = argon\n",
    "        self.kb = 1.38064852e-23\n",
    "        self.mass = mass\n",
    "        self.vdw = vdw #angstrom...just random value of previous proposed\n",
    "        self.sigma = sigma # mourits and rummens. Can. J. Chem. 55, 3007 (1977)\n",
    "        self.epsilon = epsilon #joules, mourits and rummens. Can. J. Chem. 55, 3007 (1977)\n",
    "        self.V = 0\n",
    "        self.pos = pos #np.array([x,y]) #center position, which is the same as position\n",
    "        self.charge = 1.60217662e-19 * charge\n",
    "        self.vel = np.array([0, 0], dtype = float) #starts at 0. to save computation, only assign velocities during recombination\n",
    "        #self.x = x\n",
    "        #self.y = y\n",
    "    \n",
    "    def getPosc(self):\n",
    "        #redundant but creating this method so that certain lines of codes are universal regardless of\n",
    "        #Atom or Diatomic type objects.\n",
    "        return self.pos\n",
    "\n",
    "class Iodide(Atom):\n",
    "    def __init__(self, pos):\n",
    "        self.kb = 1.38064852e-23\n",
    "        #initialized with argon parameters...will change later\n",
    "        Atom.__init__(self, pos, sigma = 3.465, epsilon = 113.5*self.kb, vdw = 1.98, mass = 2.1072981168e-25, charge = 0)\n",
    "    \n",
    "    def Translate(self, configuration, lim):\n",
    "        low = -0.01\n",
    "        high = 0.01\n",
    "        pos_trial = self.pos + [rand.uniform(low, high), rand.uniform(low, high)]\n",
    "        if pos_trial[0] < 0:\n",
    "            pos_trial[0] = abs(pos_trial[0] + lim[0])\n",
    "        elif pos_trial[0] > lim[0]:\n",
    "            pos_trial[0] = pos_trial[0] - lim[0]\n",
    "        if pos_trial[1] < 0:\n",
    "            pos_trial[1] = abs(pos_trial[1] + lim[1])\n",
    "        elif pos_trial[1] > lim[1]:\n",
    "            pos_trial[1] = pos_trial[1] - lim[1]\n",
    "        return pos_trial\n",
    "        \n",
    "class Diatomic():\n",
    "    def __init__(self, pos, sigma, epsilon, bond_length, vdw, mass, charge):\n",
    "        #default parameters = I2\n",
    "        #I2 bond length = 2.666 A\n",
    "        self.kb = 1.38064852e-23\n",
    "        self.sigma = sigma \n",
    "        self.epsilon = epsilon\n",
    "        self.bond_length = bond_length #Angstrom\n",
    "        self.vdw = vdw\n",
    "        self.pos = pos #dictionary. key = atom, value = np.array([x_coord, y_coord])\n",
    "        self.V = 0 #potential energy\n",
    "        self.mass = mass\n",
    "        self.charge = 1.60217662e-19 * charge\n",
    "        self.vel = np.array([0, 0], dtype = float) #starts at 0. to save computation, only assign velocities during recombination\n",
    "    \n",
    "    def getPosc(self):\n",
    "        #return center position coordinates\n",
    "        return np.array([(self.pos[0][0] + self.pos[1][0])/2,(self.pos[0][1] + self.pos[1][1])/2]) \n",
    "    \n",
    "    def __ccw(self, A,B,C):\n",
    "        # source: https://stackoverflow.com/questions/70528/why-are-pythons-private-methods-not-actually-private\n",
    "        return (C[1]-A[1]) * (B[0]-A[0]) > (B[1]-A[1]) * (C[0]-A[0])\n",
    "\n",
    "    def __If_Intersect(self, A,B,C,D):\n",
    "        # source: https://stackoverflow.com/questions/70528/why-are-pythons-private-methods-not-actually-private\n",
    "        # Return true if line segments AB and CD intersect\n",
    "        return self.__ccw(A,C,D) != self.__ccw(B,C,D) and self.__ccw(A,B,C) != self.__ccw(A,B,D)\n",
    "    \n",
    "    \n",
    "    def __If_Collision(self, pos_test, configuration):\n",
    "        #PROBAAABBLY dont need to check collision bc if overlap then r = 0 and the probability acceptance ratio is infinity\n",
    "        #and so the translation will never be accepeted\n",
    "        #if any(np.array_equal(self.pos[0], otherParticle.pos[0]) for otherParticle in configuration if otherParticle is not self) or \\\n",
    "        #    any(np.array_equal(self.pos[1], otherParticle.pos[1]) for otherParticle in configuration if otherParticle is not self):\n",
    "        #    print(\"Collision! Atom overlap\")\n",
    "        #    return True\n",
    "        if any(self.__If_Intersect(self.pos[0], self.pos[1], otherParticle.pos[0], otherParticle.pos[1]) \\\n",
    "               for otherParticle in configuration if otherParticle is not self and isinstance(otherParticle, Diatomic)):\n",
    "            print(\"Collision! Bond overlap\")\n",
    "            return True\n",
    "        return False\n",
    "    \n",
    "    def Translate(self, configuration, lim):\n",
    "        #return trial coordinates after translation. does not update self's coordinates\n",
    "        low = -0.01\n",
    "        high = 0.01\n",
    "        dx = rand.uniform(low, high)\n",
    "        dy = rand.uniform(low, high)\n",
    "        pos_trial = {0: self.pos[0] + [dx, dy], 1: self.pos[1] + [dx, dy]}\n",
    "        attempts = 0\n",
    "        while self.__If_Collision(pos_trial, configuration) or \\\n",
    "                any(pos_trial[0] > lim) or any(pos_trial[1] > lim) or \\\n",
    "                any(pos_trial[0] < [0,0]) or any(pos_trial[1] < [0,0]) or attempts < 100:\n",
    "            #print(\"Rerolling translation coordinates\")\n",
    "            dx = rand.uniform(low, high)\n",
    "            dy = rand.uniform(low, high)\n",
    "            pos_trial = {0: self.pos[0] + [dx, dy], 1: self.pos[1] + [dx, dy]}\n",
    "            attempts += 1\n",
    "        return pos_trial\n",
    "        \n",
    "    def Rotate(self, configuration, lim):\n",
    "        #returns trial coordinates after rotation. does not update self's coordinates\n",
    "        cx = (self.pos[0][0] + self.pos[1][0])/2 #center x\n",
    "        cy = (self.pos[0][1] + self.pos[1][1])/2 #center y\n",
    "        th = rand.uniform(0, 2*math.pi) #random theta\n",
    "        \n",
    "        #trial x coordinate for atom 1\n",
    "        x1t = ((self.pos[0][0] - cx) * math.cos(th) + (self.pos[0][1] - cy) * math.sin(th) ) + cx \n",
    "        #trial y coordinate for atom 1\n",
    "        y1t = (-(self.pos[0][0] - cx) * math.sin(th) + (self.pos[0][1] - cy) * math.cos(th) ) + cy \n",
    "        \n",
    "        #trial x coordinate for atom 2\n",
    "        x2t = ((self.pos[1][0] - cx) * math.cos(th) + (self.pos[1][1] - cy) * math.sin(th) ) + cx \n",
    "        #trial y coordinate for atom 2\n",
    "        y2t = (-(self.pos[1][0] - cx) * math.sin(th) + (self.pos[1][1] - cy) * math.cos(th) ) + cy \n",
    "        \n",
    "        pos_trial = {0: np.array([x1t, y1t]), 1: np.array([x2t, y2t])}\n",
    "        attempts = 0\n",
    "        while self.__If_Collision(pos_trial, configuration) or \\\n",
    "                any(pos_trial[0] + [self.vdw, self.vdw] > lim) or any(pos_trial[1] + [self.vdw,  self.vdw] > lim) or \\\n",
    "                any(pos_trial[0] < [0,0]) or any(pos_trial[1] < [0,0]) or attempts < 100:\n",
    "            #print(\"Rerolling rotation\")\n",
    "            th = rand.uniform(0, 2*math.pi) #random theta\n",
    "        \n",
    "            #trial x coordinate for atom 1\n",
    "            x1t = ((self.pos[0][0] - cx) * math.cos(th) + (self.pos[0][1] - cy) * math.sin(th) ) + cx \n",
    "            #trial y coordinate for atom 1\n",
    "            y1t = (-(self.pos[0][0] - cx) * math.sin(th) + (self.pos[0][1] - cy) * math.cos(th) ) + cy \n",
    "\n",
    "            #trial x coordinate for atom 2\n",
    "            x2t = ((self.pos[1][0] - cx) * math.cos(th) + (self.pos[1][1] - cy) * math.sin(th) ) + cx \n",
    "            #trial y coordinate for atom 2\n",
    "            y2t = (-(self.pos[1][0] - cx) * math.sin(th) + (self.pos[1][1] - cy) * math.cos(th) ) + cy \n",
    "\n",
    "            pos_trial = {0: np.array([x1t, y1t]), 1: np.array([x2t, y2t])}\n",
    "            attempts += 1\n",
    "        return pos_trial\n",
    "    \n",
    "\n",
    "\n",
    "class H2(Diatomic):\n",
    "    def __init__(self, pos):\n",
    "        self.kb = 1.38064852e-23\n",
    "        #LJ parameters from: Michels, Graaf, Seldam 1960 physica 26 393-408\n",
    "        #suggested LJ parameters as \"best\" agreement, but still off from experimental.\n",
    "        #sigma converted from reported units to Angstroms\n",
    "        Diatomic.__init__(self, pos, sigma = 2.953, epsilon = 36.7 * self.kb, bond_length = 0.74, vdw = 1.20, \\\n",
    "                          mass = 3.34711e-27, charge = 0)\n",
    "        \n",
    "class HI(Diatomic):\n",
    "    def __init__(self, pos):\n",
    "        self.kb = 1.38064852e-23\n",
    "        #vdw is average of H and I for now..will change later. vdw is just to make plot look better a bit better\n",
    "        #pos 1 is H, pos 2 is I\n",
    "        Diatomic.__init__(self, pos, sigma = 4.080, epsilon = 333.6 * self.kb, bond_length = 1.609, vdw = 1.59, \\\n",
    "                          mass = 2.12403e-25, charge = 0)\n",
    "\n",
    "\n",
    "class I2(Diatomic):\n",
    "    def __init__(self, pos):\n",
    "        #sigma & epsilon values: Mourits and Rummens. Can. J. Chem. 55, 3007 (1977)\n",
    "        self.kb = 1.38064852e-23\n",
    "        Diatomic.__init__(self, pos, sigma = 4.630, epsilon = 577.4 * self.kb, bond_length = 2.666, vdw = 1.98, \\\n",
    "                          mass = 4.2145962337e-25, charge = 0)\n",
    "        \n",
    "    def Dissociate(self, system, lim):\n",
    "        for particle in system.configuration:\n",
    "            if isinstance(particle, H2):\n",
    "                #add tolerance\n",
    "                m1 = (particle.pos[0][1] - self.pos[0][1])/(self.pos[1][1]-self.pos[0][1])\n",
    "                m2 = (particle.pos[1][1] - self.pos[0][1])/(self.pos[1][1]-self.pos[0][1])\n",
    "                b1 = (particle.pos[0][0] - self.pos[0][0])/(self.pos[1][0]-self.pos[0][0])\n",
    "                b2 = (particle.pos[1][0] - self.pos[0][0])/(self.pos[1][0]-self.pos[0][0])\n",
    "                tol = 1.98 #vdw radius...a very poor approximation since nuceli must collide, but how sparse the\n",
    "                            #system is, its a good idea to make the tolerance a little bit higher\n",
    "                if (m1-tol <= b1 <= m1+tol) or (m2-tol <= b2 <= m2+tol):\n",
    "                    #if H2 center is colinear with I2\n",
    "                    H_1 = particle.pos[0] #hydrogen 1\n",
    "                    H_2 = particle.pos[1] #hydrogen 2\n",
    "\n",
    "                    d = (H_1 - H_2)/np.linalg.norm(H_1-H_2) #normalized vector distance between the two hydrogens\n",
    "                    #0: H, 1: I\n",
    "                    system.configuration = np.append(system.configuration, (HI({0:H_1, 1:H_1+d*1.609})))\n",
    "                    system.configuration = np.append(system.configuration, (HI({0:H_2, 1:H_2+d*-1.609})))\n",
    "                    system.configuration = np.delete(system.configuration, np.argwhere(system.configuration == particle))\n",
    "                    system.configuration = np.delete(system.configuration, np.argwhere(system.configuration == self))\n",
    "                    print(\"Hit H2!\")\n",
    "                    return\n",
    "        else:\n",
    "            #if no colinear H2, reaction does not proceed and I radical is formed\n",
    "            m = (self.pos[0][1] - self.pos[1][1])/(self.pos[0][0] - self.pos[1][0])\n",
    "            b = self.pos[0][1]-(self.pos[0][0]*m)\n",
    "            #y = mx + b\n",
    "            #check case intersection y = 0, x = -b/m\n",
    "            xt = -b/m\n",
    "            if 0 <= xt <= lim[0]:\n",
    "                x1 = xt\n",
    "                y1 = 0\n",
    "                \n",
    "                #check every other case to determine other radicals coordinates\n",
    "                yt = b\n",
    "                if 0 <= yt <= lim[1]:\n",
    "                    x2 = 0\n",
    "                    y2 = yt\n",
    "                yt = m*lim[0] + b\n",
    "                if 0 <= yt <= lim[1]:\n",
    "                    x2 = lim[0]\n",
    "                    y2 = yt\n",
    "                xt = (lim[1]-b)/m\n",
    "                if 0 <= xt <= lim[0]:\n",
    "                    x2 = xt\n",
    "                    y2 = lim[1]\n",
    "                \n",
    "            \n",
    "            #check case intersection x = 0, y = b\n",
    "            yt = b\n",
    "            if 0 <= yt <= lim[1]:\n",
    "                x1 = 0\n",
    "                y1 = yt\n",
    "                \n",
    "                xt = -b/m\n",
    "                if 0 <= xt <= lim[0]:\n",
    "                    x2 = xt\n",
    "                    y2 = 0\n",
    "                yt = m*lim[0] + b\n",
    "                if 0 <= yt <= lim[1]:\n",
    "                    x2 = lim[0]\n",
    "                    y2 = yt\n",
    "                xt = (lim[1]-b)/m\n",
    "                if 0 <= xt <= lim[0]:\n",
    "                    x2 = xt\n",
    "                    y2 = lim[1]\n",
    "            \n",
    "            #check case intersection x = lim\n",
    "            yt = m*lim[0] + b\n",
    "            if 0 <= yt <= lim[1]:\n",
    "                x1 = lim[0]\n",
    "                y1 = yt\n",
    "                \n",
    "                yt = b\n",
    "                if 0 <= yt <= lim[1]:\n",
    "                    x2 = 0\n",
    "                    y2 = yt\n",
    "                xt = -b/m\n",
    "                if 0 <= xt <= lim[0]:\n",
    "                    x2 = xt\n",
    "                    y2 = 0\n",
    "                xt = (lim[1]-b)/m\n",
    "                if 0 <= xt <= lim[0]:\n",
    "                    x2 = xt\n",
    "                    y2 = lim[1]\n",
    "                \n",
    "            #check case intersection y = lim\n",
    "            xt = (lim[1]-b)/m\n",
    "            if 0 <= xt <= lim[0]:\n",
    "                x1 = xt\n",
    "                y1 = lim[1]\n",
    "                \n",
    "                yt = b\n",
    "                if 0 <= yt <= lim[1]:\n",
    "                    x2 = 0\n",
    "                    y2 = yt\n",
    "                yt = m*lim[0] + b\n",
    "                if 0 <= yt <= lim[1]:\n",
    "                    x2 = lim[0]\n",
    "                    y2 = yt\n",
    "                xt = -b/m\n",
    "                if 0 <= xt <= lim[0]:\n",
    "                    x2 = xt\n",
    "                    y2 = 0\n",
    "            \n",
    "            system.configuration = np.append(system.configuration, Iodide(np.array([x1, y1])))\n",
    "            system.configuration = np.append(system.configuration, Iodide(np.array([x2, y2])))\n",
    "            system.configuration = np.delete(system.configuration, np.argwhere(system.configuration == self))\n",
    "            print(\"Formed 2I!\")\n",
    "        \n",
    "        \n",
    "def run(ncyc, N = 1, lim = (20, 20), T = 300, ensemble = None, animation = False, dframe = 0.001):\n",
    "    #initialize system\n",
    "    time_total = 0 #total \"time\" of the system\n",
    "    time_pulse = 0 #time of the pulse\n",
    "    if ensemble == None:\n",
    "        ensemble = Ensemble(N, lim, T)\n",
    "        ensemble.Plot(\"Initial Configuration\")\n",
    "    else:\n",
    "        ensemble.Plot(\"Initial Configuration\")\n",
    "    #start simulation\n",
    "    y = [ensemble.Energy_Total()]\n",
    "    start_time = time.time()\n",
    "    #for i in trange(ncyc):\n",
    "    for i in range(ncyc):\n",
    "        if (i in list(range(0, ncyc, 100000))):\n",
    "            print(\"{0} cycles: {1} s\".format(i, time.time()-start_time))\n",
    "        ensemble.Cycle(time_pulse = time_pulse, time_total = time_total)\n",
    "        y.append(ensemble.Energy_Total())\n",
    "        time_total += dt\n",
    "        if time_pulse + dt > 120:\n",
    "            time_pulse += dt - 120\n",
    "        else:\n",
    "            time_pulse += dt\n",
    "        if animation:\n",
    "            fig = ensemble.Plot()\n",
    "            clear_output(wait=True) # Clear output for dynamic display\n",
    "            display(fig)            # Reset display\n",
    "            fig.clear()             # Prevent overlapping and layered plots\n",
    "            time.sleep(dframe)\n",
    "    print(\"Elapsed time:\", time.time() - start_time, \"(s)\")\n",
    "    print(\"Initial energy:\", y[0], \"(J)\")\n",
    "    print(\"Final energy:\", y[-1], \"(J)\")\n",
    "    print(\"Average energy:\", ensemble.Average(),\"(J)\")\n",
    "\n",
    "    ensemble.Plot(\"Final Configuration\")\n",
    "    x = range(0, len(y))\n",
    "    fig, ax = plt.subplots(figsize=(20,10))\n",
    "    plt.plot(x,y)\n",
    "    plt.xlim([0, ncyc])\n",
    "    plt.ylim([min(y), max(y)])\n",
    "    plt.title(\"Total Energy vs. Cycle\")\n",
    "    return ensemble\n",
    "\n",
    "\n",
    "\n"
   ]
  },
  {
   "cell_type": "code",
   "execution_count": 5,
   "metadata": {
    "scrolled": false
   },
   "outputs": [
    {
     "data": {
      "image/png": "[encoded data removed]",
      "text/plain": [
       "<Figure size 1440x720 with 1 Axes>"
      ]
     },
     "metadata": {
      "needs_background": "light"
     },
     "output_type": "display_data"
    }
   ],
   "source": [
    "system = Ensemble(5, 5, lim = (30, 30))\n",
    "#system.configuration = np.append(system.configuration, Iodide(np.array([20, 10])))\n",
    "#system.configuration = np.append(system.configuration, Iodide(np.array([30, 15])))\n",
    "system.Plot()"
   ]
  },
  {
   "cell_type": "code",
   "execution_count": 20,
   "metadata": {
    "scrolled": true
   },
   "outputs": [
    {
     "name": "stdout",
     "output_type": "stream",
     "text": [
      "0 cycles: 6.198883056640625e-06 s\n",
      "100000 cycles: 625.8377223014832 s\n",
      "200000 cycles: 1278.8206069469452 s\n",
      "300000 cycles: 13580.075020551682 s\n"
     ]
    },
    {
     "ename": "KeyboardInterrupt",
     "evalue": "",
     "output_type": "error",
     "traceback": [
      "\u001b[0;31m---------------------------------------------------------------------------\u001b[0m",
      "\u001b[0;31mKeyboardInterrupt\u001b[0m                         Traceback (most recent call last)",
      "\u001b[0;32m<ipython-input-20-57baa0eba98b>\u001b[0m in \u001b[0;36m<module>\u001b[0;34m\u001b[0m\n\u001b[0;32m----> 1\u001b[0;31m \u001b[0mrun\u001b[0m\u001b[0;34m(\u001b[0m\u001b[0mncyc\u001b[0m \u001b[0;34m=\u001b[0m \u001b[0;36m2000000\u001b[0m\u001b[0;34m,\u001b[0m \u001b[0mensemble\u001b[0m \u001b[0;34m=\u001b[0m \u001b[0msystem\u001b[0m\u001b[0;34m)\u001b[0m\u001b[0;34m\u001b[0m\u001b[0;34m\u001b[0m\u001b[0m\n\u001b[0m",
      "\u001b[0;32m<ipython-input-19-fdb480463e63>\u001b[0m in \u001b[0;36mrun\u001b[0;34m(ncyc, N, lim, T, ensemble, animation, dframe)\u001b[0m\n\u001b[1;32m    528\u001b[0m         \u001b[0;32mif\u001b[0m \u001b[0;34m(\u001b[0m\u001b[0mi\u001b[0m \u001b[0;32min\u001b[0m \u001b[0mlist\u001b[0m\u001b[0;34m(\u001b[0m\u001b[0mrange\u001b[0m\u001b[0;34m(\u001b[0m\u001b[0;36m0\u001b[0m\u001b[0;34m,\u001b[0m \u001b[0mncyc\u001b[0m\u001b[0;34m,\u001b[0m \u001b[0;36m100000\u001b[0m\u001b[0;34m)\u001b[0m\u001b[0;34m)\u001b[0m\u001b[0;34m)\u001b[0m\u001b[0;34m:\u001b[0m\u001b[0;34m\u001b[0m\u001b[0;34m\u001b[0m\u001b[0m\n\u001b[1;32m    529\u001b[0m             \u001b[0mprint\u001b[0m\u001b[0;34m(\u001b[0m\u001b[0;34m\"{0} cycles: {1} s\"\u001b[0m\u001b[0;34m.\u001b[0m\u001b[0mformat\u001b[0m\u001b[0;34m(\u001b[0m\u001b[0mi\u001b[0m\u001b[0;34m,\u001b[0m \u001b[0mtime\u001b[0m\u001b[0;34m.\u001b[0m\u001b[0mtime\u001b[0m\u001b[0;34m(\u001b[0m\u001b[0;34m)\u001b[0m\u001b[0;34m-\u001b[0m\u001b[0mstart_time\u001b[0m\u001b[0;34m)\u001b[0m\u001b[0;34m)\u001b[0m\u001b[0;34m\u001b[0m\u001b[0;34m\u001b[0m\u001b[0m\n\u001b[0;32m--> 530\u001b[0;31m         \u001b[0mensemble\u001b[0m\u001b[0;34m.\u001b[0m\u001b[0mCycle\u001b[0m\u001b[0;34m(\u001b[0m\u001b[0mtime_pulse\u001b[0m \u001b[0;34m=\u001b[0m \u001b[0mtime_pulse\u001b[0m\u001b[0;34m,\u001b[0m \u001b[0mtime_total\u001b[0m \u001b[0;34m=\u001b[0m \u001b[0mtime_total\u001b[0m\u001b[0;34m)\u001b[0m\u001b[0;34m\u001b[0m\u001b[0;34m\u001b[0m\u001b[0m\n\u001b[0m\u001b[1;32m    531\u001b[0m         \u001b[0my\u001b[0m\u001b[0;34m.\u001b[0m\u001b[0mappend\u001b[0m\u001b[0;34m(\u001b[0m\u001b[0mensemble\u001b[0m\u001b[0;34m.\u001b[0m\u001b[0mEnergy_Total\u001b[0m\u001b[0;34m(\u001b[0m\u001b[0;34m)\u001b[0m\u001b[0;34m)\u001b[0m\u001b[0;34m\u001b[0m\u001b[0;34m\u001b[0m\u001b[0m\n\u001b[1;32m    532\u001b[0m         \u001b[0mtime_total\u001b[0m \u001b[0;34m+=\u001b[0m \u001b[0mdt\u001b[0m\u001b[0;34m\u001b[0m\u001b[0;34m\u001b[0m\u001b[0m\n",
      "\u001b[0;32m<ipython-input-3-9c23f5478ec4>\u001b[0m in \u001b[0;36mCycle\u001b[0;34m(self, time_pulse, time_total)\u001b[0m\n\u001b[1;32m    195\u001b[0m         \u001b[0mUo\u001b[0m \u001b[0;34m=\u001b[0m \u001b[0mself\u001b[0m\u001b[0;34m.\u001b[0m\u001b[0mEnergy_Total\u001b[0m\u001b[0;34m(\u001b[0m\u001b[0;34m)\u001b[0m \u001b[0;31m# Uo is total system of OLD/current configuration\u001b[0m\u001b[0;34m\u001b[0m\u001b[0;34m\u001b[0m\u001b[0m\n\u001b[1;32m    196\u001b[0m         \u001b[0mparticle\u001b[0m\u001b[0;34m.\u001b[0m\u001b[0mpos\u001b[0m \u001b[0;34m=\u001b[0m \u001b[0mpos_trial\u001b[0m\u001b[0;34m\u001b[0m\u001b[0;34m\u001b[0m\u001b[0m\n\u001b[0;32m--> 197\u001b[0;31m         \u001b[0mUt\u001b[0m \u001b[0;34m=\u001b[0m \u001b[0mself\u001b[0m\u001b[0;34m.\u001b[0m\u001b[0mEnergy_Total\u001b[0m\u001b[0;34m(\u001b[0m\u001b[0;34m)\u001b[0m\u001b[0;34m\u001b[0m\u001b[0;34m\u001b[0m\u001b[0m\n\u001b[0m\u001b[1;32m    198\u001b[0m         \u001b[0;32mif\u001b[0m \u001b[0mrand\u001b[0m\u001b[0;34m.\u001b[0m\u001b[0muniform\u001b[0m\u001b[0;34m(\u001b[0m\u001b[0;36m0\u001b[0m\u001b[0;34m,\u001b[0m\u001b[0;36m1\u001b[0m\u001b[0;34m)\u001b[0m \u001b[0;34m<\u001b[0m \u001b[0mself\u001b[0m\u001b[0;34m.\u001b[0m\u001b[0mAcceptanceRule\u001b[0m\u001b[0;34m(\u001b[0m\u001b[0mUo\u001b[0m\u001b[0;34m,\u001b[0m \u001b[0mUt\u001b[0m\u001b[0;34m)\u001b[0m\u001b[0;34m:\u001b[0m\u001b[0;34m\u001b[0m\u001b[0;34m\u001b[0m\u001b[0m\n\u001b[1;32m    199\u001b[0m             \u001b[0;31m#accept Ut\u001b[0m\u001b[0;34m\u001b[0m\u001b[0;34m\u001b[0m\u001b[0;34m\u001b[0m\u001b[0m\n",
      "\u001b[0;32m<ipython-input-3-9c23f5478ec4>\u001b[0m in \u001b[0;36mEnergy_Total\u001b[0;34m(self)\u001b[0m\n\u001b[1;32m    117\u001b[0m \u001b[0;34m\u001b[0m\u001b[0m\n\u001b[1;32m    118\u001b[0m     \u001b[0;32mdef\u001b[0m \u001b[0mEnergy_Total\u001b[0m\u001b[0;34m(\u001b[0m\u001b[0mself\u001b[0m\u001b[0;34m)\u001b[0m\u001b[0;34m:\u001b[0m\u001b[0;34m\u001b[0m\u001b[0;34m\u001b[0m\u001b[0m\n\u001b[0;32m--> 119\u001b[0;31m         \u001b[0mself\u001b[0m\u001b[0;34m.\u001b[0m\u001b[0mUpdate_Energy\u001b[0m\u001b[0;34m(\u001b[0m\u001b[0;34m)\u001b[0m\u001b[0;34m\u001b[0m\u001b[0;34m\u001b[0m\u001b[0m\n\u001b[0m\u001b[1;32m    120\u001b[0m         \u001b[0;32mreturn\u001b[0m \u001b[0msum\u001b[0m\u001b[0;34m(\u001b[0m\u001b[0matom\u001b[0m\u001b[0;34m.\u001b[0m\u001b[0mV\u001b[0m \u001b[0;32mfor\u001b[0m \u001b[0matom\u001b[0m \u001b[0;32min\u001b[0m \u001b[0mself\u001b[0m\u001b[0;34m.\u001b[0m\u001b[0mconfiguration\u001b[0m\u001b[0;34m)\u001b[0m\u001b[0;34m\u001b[0m\u001b[0;34m\u001b[0m\u001b[0m\n\u001b[1;32m    121\u001b[0m \u001b[0;34m\u001b[0m\u001b[0m\n",
      "\u001b[0;32m<ipython-input-3-9c23f5478ec4>\u001b[0m in \u001b[0;36mUpdate_Energy\u001b[0;34m(self)\u001b[0m\n\u001b[1;32m    113\u001b[0m                 \u001b[0mi\u001b[0m\u001b[0;34m.\u001b[0m\u001b[0mV\u001b[0m \u001b[0;34m+=\u001b[0m \u001b[0;34m(\u001b[0m\u001b[0;34m(\u001b[0m\u001b[0;36m4\u001b[0m \u001b[0;34m*\u001b[0m \u001b[0mep\u001b[0m \u001b[0;34m*\u001b[0m \u001b[0;34m(\u001b[0m\u001b[0;34m(\u001b[0m\u001b[0msi\u001b[0m\u001b[0;34m/\u001b[0m\u001b[0md\u001b[0m\u001b[0;34m)\u001b[0m\u001b[0;34m**\u001b[0m\u001b[0;36m12\u001b[0m \u001b[0;34m-\u001b[0m \u001b[0;34m(\u001b[0m\u001b[0msi\u001b[0m\u001b[0;34m/\u001b[0m\u001b[0md\u001b[0m\u001b[0;34m)\u001b[0m\u001b[0;34m**\u001b[0m\u001b[0;36m6\u001b[0m\u001b[0;34m)\u001b[0m\u001b[0;34m)\u001b[0m\u001b[0;34m)\u001b[0m \u001b[0;31m#joules, LJ\u001b[0m\u001b[0;34m\u001b[0m\u001b[0;34m\u001b[0m\u001b[0m\n\u001b[1;32m    114\u001b[0m                 \u001b[0md\u001b[0m \u001b[0;34m*=\u001b[0m \u001b[0;36m1e-10\u001b[0m\u001b[0;34m\u001b[0m\u001b[0;34m\u001b[0m\u001b[0m\n\u001b[0;32m--> 115\u001b[0;31m                 \u001b[0mi\u001b[0m\u001b[0;34m.\u001b[0m\u001b[0mV\u001b[0m \u001b[0;34m+=\u001b[0m \u001b[0;34m(\u001b[0m\u001b[0;34m(\u001b[0m\u001b[0mi\u001b[0m\u001b[0;34m.\u001b[0m\u001b[0mcharge\u001b[0m\u001b[0;34m*\u001b[0m\u001b[0mj\u001b[0m\u001b[0;34m.\u001b[0m\u001b[0mcharge\u001b[0m\u001b[0;34m)\u001b[0m\u001b[0;34m/\u001b[0m\u001b[0;34m(\u001b[0m\u001b[0;36m4\u001b[0m\u001b[0;34m*\u001b[0m\u001b[0mmath\u001b[0m\u001b[0;34m.\u001b[0m\u001b[0mpi\u001b[0m\u001b[0;34m*\u001b[0m\u001b[0me0\u001b[0m\u001b[0;34m*\u001b[0m\u001b[0md\u001b[0m\u001b[0;34m)\u001b[0m\u001b[0;34m)\u001b[0m \u001b[0;31m#joules, electrostatics\u001b[0m\u001b[0;34m\u001b[0m\u001b[0;34m\u001b[0m\u001b[0m\n\u001b[0m\u001b[1;32m    116\u001b[0m \u001b[0;34m\u001b[0m\u001b[0m\n\u001b[1;32m    117\u001b[0m \u001b[0;34m\u001b[0m\u001b[0m\n",
      "\u001b[0;31mKeyboardInterrupt\u001b[0m: "
     ]
    },
    {
     "name": "stdout",
     "output_type": "stream",
     "text": [
      "Error in callback <function install_repl_displayhook.<locals>.post_execute at 0x7fc31dcd6840> (for post_execute):\n"
     ]
    },
    {
     "ename": "ValueError",
     "evalue": "setting an array element with a sequence.",
     "output_type": "error",
     "traceback": [
      "\u001b[0;31m---------------------------------------------------------------------------\u001b[0m",
      "\u001b[0;31mValueError\u001b[0m                                Traceback (most recent call last)",
      "\u001b[0;32m/opt/anaconda3/lib/python3.7/site-packages/matplotlib/pyplot.py\u001b[0m in \u001b[0;36mpost_execute\u001b[0;34m()\u001b[0m\n\u001b[1;32m    107\u001b[0m             \u001b[0;32mdef\u001b[0m \u001b[0mpost_execute\u001b[0m\u001b[0;34m(\u001b[0m\u001b[0;34m)\u001b[0m\u001b[0;34m:\u001b[0m\u001b[0;34m\u001b[0m\u001b[0;34m\u001b[0m\u001b[0m\n\u001b[1;32m    108\u001b[0m                 \u001b[0;32mif\u001b[0m \u001b[0mmatplotlib\u001b[0m\u001b[0;34m.\u001b[0m\u001b[0mis_interactive\u001b[0m\u001b[0;34m(\u001b[0m\u001b[0;34m)\u001b[0m\u001b[0;34m:\u001b[0m\u001b[0;34m\u001b[0m\u001b[0;34m\u001b[0m\u001b[0m\n\u001b[0;32m--> 109\u001b[0;31m                     \u001b[0mdraw_all\u001b[0m\u001b[0;34m(\u001b[0m\u001b[0;34m)\u001b[0m\u001b[0;34m\u001b[0m\u001b[0;34m\u001b[0m\u001b[0m\n\u001b[0m\u001b[1;32m    110\u001b[0m \u001b[0;34m\u001b[0m\u001b[0m\n\u001b[1;32m    111\u001b[0m             \u001b[0;31m# IPython >= 2\u001b[0m\u001b[0;34m\u001b[0m\u001b[0;34m\u001b[0m\u001b[0;34m\u001b[0m\u001b[0m\n",
      "\u001b[0;32m/opt/anaconda3/lib/python3.7/site-packages/matplotlib/_pylab_helpers.py\u001b[0m in \u001b[0;36mdraw_all\u001b[0;34m(cls, force)\u001b[0m\n\u001b[1;32m    126\u001b[0m         \u001b[0;32mfor\u001b[0m \u001b[0mf_mgr\u001b[0m \u001b[0;32min\u001b[0m \u001b[0mcls\u001b[0m\u001b[0;34m.\u001b[0m\u001b[0mget_all_fig_managers\u001b[0m\u001b[0;34m(\u001b[0m\u001b[0;34m)\u001b[0m\u001b[0;34m:\u001b[0m\u001b[0;34m\u001b[0m\u001b[0;34m\u001b[0m\u001b[0m\n\u001b[1;32m    127\u001b[0m             \u001b[0;32mif\u001b[0m \u001b[0mforce\u001b[0m \u001b[0;32mor\u001b[0m \u001b[0mf_mgr\u001b[0m\u001b[0;34m.\u001b[0m\u001b[0mcanvas\u001b[0m\u001b[0;34m.\u001b[0m\u001b[0mfigure\u001b[0m\u001b[0;34m.\u001b[0m\u001b[0mstale\u001b[0m\u001b[0;34m:\u001b[0m\u001b[0;34m\u001b[0m\u001b[0;34m\u001b[0m\u001b[0m\n\u001b[0;32m--> 128\u001b[0;31m                 \u001b[0mf_mgr\u001b[0m\u001b[0;34m.\u001b[0m\u001b[0mcanvas\u001b[0m\u001b[0;34m.\u001b[0m\u001b[0mdraw_idle\u001b[0m\u001b[0;34m(\u001b[0m\u001b[0;34m)\u001b[0m\u001b[0;34m\u001b[0m\u001b[0;34m\u001b[0m\u001b[0m\n\u001b[0m\u001b[1;32m    129\u001b[0m \u001b[0;34m\u001b[0m\u001b[0m\n\u001b[1;32m    130\u001b[0m \u001b[0matexit\u001b[0m\u001b[0;34m.\u001b[0m\u001b[0mregister\u001b[0m\u001b[0;34m(\u001b[0m\u001b[0mGcf\u001b[0m\u001b[0;34m.\u001b[0m\u001b[0mdestroy_all\u001b[0m\u001b[0;34m)\u001b[0m\u001b[0;34m\u001b[0m\u001b[0;34m\u001b[0m\u001b[0m\n",
      "\u001b[0;32m/opt/anaconda3/lib/python3.7/site-packages/matplotlib/backend_bases.py\u001b[0m in \u001b[0;36mdraw_idle\u001b[0;34m(self, *args, **kwargs)\u001b[0m\n\u001b[1;32m   1905\u001b[0m         \u001b[0;32mif\u001b[0m \u001b[0;32mnot\u001b[0m \u001b[0mself\u001b[0m\u001b[0;34m.\u001b[0m\u001b[0m_is_idle_drawing\u001b[0m\u001b[0;34m:\u001b[0m\u001b[0;34m\u001b[0m\u001b[0;34m\u001b[0m\u001b[0m\n\u001b[1;32m   1906\u001b[0m             \u001b[0;32mwith\u001b[0m \u001b[0mself\u001b[0m\u001b[0;34m.\u001b[0m\u001b[0m_idle_draw_cntx\u001b[0m\u001b[0;34m(\u001b[0m\u001b[0;34m)\u001b[0m\u001b[0;34m:\u001b[0m\u001b[0;34m\u001b[0m\u001b[0;34m\u001b[0m\u001b[0m\n\u001b[0;32m-> 1907\u001b[0;31m                 \u001b[0mself\u001b[0m\u001b[0;34m.\u001b[0m\u001b[0mdraw\u001b[0m\u001b[0;34m(\u001b[0m\u001b[0;34m*\u001b[0m\u001b[0margs\u001b[0m\u001b[0;34m,\u001b[0m \u001b[0;34m**\u001b[0m\u001b[0mkwargs\u001b[0m\u001b[0;34m)\u001b[0m\u001b[0;34m\u001b[0m\u001b[0;34m\u001b[0m\u001b[0m\n\u001b[0m\u001b[1;32m   1908\u001b[0m \u001b[0;34m\u001b[0m\u001b[0m\n\u001b[1;32m   1909\u001b[0m     \u001b[0;32mdef\u001b[0m \u001b[0mdraw_cursor\u001b[0m\u001b[0;34m(\u001b[0m\u001b[0mself\u001b[0m\u001b[0;34m,\u001b[0m \u001b[0mevent\u001b[0m\u001b[0;34m)\u001b[0m\u001b[0;34m:\u001b[0m\u001b[0;34m\u001b[0m\u001b[0;34m\u001b[0m\u001b[0m\n",
      "\u001b[0;32m/opt/anaconda3/lib/python3.7/site-packages/matplotlib/backends/backend_agg.py\u001b[0m in \u001b[0;36mdraw\u001b[0;34m(self)\u001b[0m\n\u001b[1;32m    386\u001b[0m         \u001b[0mself\u001b[0m\u001b[0;34m.\u001b[0m\u001b[0mrenderer\u001b[0m \u001b[0;34m=\u001b[0m \u001b[0mself\u001b[0m\u001b[0;34m.\u001b[0m\u001b[0mget_renderer\u001b[0m\u001b[0;34m(\u001b[0m\u001b[0mcleared\u001b[0m\u001b[0;34m=\u001b[0m\u001b[0;32mTrue\u001b[0m\u001b[0;34m)\u001b[0m\u001b[0;34m\u001b[0m\u001b[0;34m\u001b[0m\u001b[0m\n\u001b[1;32m    387\u001b[0m         \u001b[0;32mwith\u001b[0m \u001b[0mRendererAgg\u001b[0m\u001b[0;34m.\u001b[0m\u001b[0mlock\u001b[0m\u001b[0;34m:\u001b[0m\u001b[0;34m\u001b[0m\u001b[0;34m\u001b[0m\u001b[0m\n\u001b[0;32m--> 388\u001b[0;31m             \u001b[0mself\u001b[0m\u001b[0;34m.\u001b[0m\u001b[0mfigure\u001b[0m\u001b[0;34m.\u001b[0m\u001b[0mdraw\u001b[0m\u001b[0;34m(\u001b[0m\u001b[0mself\u001b[0m\u001b[0;34m.\u001b[0m\u001b[0mrenderer\u001b[0m\u001b[0;34m)\u001b[0m\u001b[0;34m\u001b[0m\u001b[0;34m\u001b[0m\u001b[0m\n\u001b[0m\u001b[1;32m    389\u001b[0m             \u001b[0;31m# A GUI class may be need to update a window using this draw, so\u001b[0m\u001b[0;34m\u001b[0m\u001b[0;34m\u001b[0m\u001b[0;34m\u001b[0m\u001b[0m\n\u001b[1;32m    390\u001b[0m             \u001b[0;31m# don't forget to call the superclass.\u001b[0m\u001b[0;34m\u001b[0m\u001b[0;34m\u001b[0m\u001b[0;34m\u001b[0m\u001b[0m\n",
      "\u001b[0;32m/opt/anaconda3/lib/python3.7/site-packages/matplotlib/artist.py\u001b[0m in \u001b[0;36mdraw_wrapper\u001b[0;34m(artist, renderer, *args, **kwargs)\u001b[0m\n\u001b[1;32m     36\u001b[0m                 \u001b[0mrenderer\u001b[0m\u001b[0;34m.\u001b[0m\u001b[0mstart_filter\u001b[0m\u001b[0;34m(\u001b[0m\u001b[0;34m)\u001b[0m\u001b[0;34m\u001b[0m\u001b[0;34m\u001b[0m\u001b[0m\n\u001b[1;32m     37\u001b[0m \u001b[0;34m\u001b[0m\u001b[0m\n\u001b[0;32m---> 38\u001b[0;31m             \u001b[0;32mreturn\u001b[0m \u001b[0mdraw\u001b[0m\u001b[0;34m(\u001b[0m\u001b[0martist\u001b[0m\u001b[0;34m,\u001b[0m \u001b[0mrenderer\u001b[0m\u001b[0;34m,\u001b[0m \u001b[0;34m*\u001b[0m\u001b[0margs\u001b[0m\u001b[0;34m,\u001b[0m \u001b[0;34m**\u001b[0m\u001b[0mkwargs\u001b[0m\u001b[0;34m)\u001b[0m\u001b[0;34m\u001b[0m\u001b[0;34m\u001b[0m\u001b[0m\n\u001b[0m\u001b[1;32m     39\u001b[0m         \u001b[0;32mfinally\u001b[0m\u001b[0;34m:\u001b[0m\u001b[0;34m\u001b[0m\u001b[0;34m\u001b[0m\u001b[0m\n\u001b[1;32m     40\u001b[0m             \u001b[0;32mif\u001b[0m \u001b[0martist\u001b[0m\u001b[0;34m.\u001b[0m\u001b[0mget_agg_filter\u001b[0m\u001b[0;34m(\u001b[0m\u001b[0;34m)\u001b[0m \u001b[0;32mis\u001b[0m \u001b[0;32mnot\u001b[0m \u001b[0;32mNone\u001b[0m\u001b[0;34m:\u001b[0m\u001b[0;34m\u001b[0m\u001b[0;34m\u001b[0m\u001b[0m\n",
      "\u001b[0;32m/opt/anaconda3/lib/python3.7/site-packages/matplotlib/figure.py\u001b[0m in \u001b[0;36mdraw\u001b[0;34m(self, renderer)\u001b[0m\n\u001b[1;32m   1707\u001b[0m             \u001b[0mself\u001b[0m\u001b[0;34m.\u001b[0m\u001b[0mpatch\u001b[0m\u001b[0;34m.\u001b[0m\u001b[0mdraw\u001b[0m\u001b[0;34m(\u001b[0m\u001b[0mrenderer\u001b[0m\u001b[0;34m)\u001b[0m\u001b[0;34m\u001b[0m\u001b[0;34m\u001b[0m\u001b[0m\n\u001b[1;32m   1708\u001b[0m             mimage._draw_list_compositing_images(\n\u001b[0;32m-> 1709\u001b[0;31m                 renderer, self, artists, self.suppressComposite)\n\u001b[0m\u001b[1;32m   1710\u001b[0m \u001b[0;34m\u001b[0m\u001b[0m\n\u001b[1;32m   1711\u001b[0m             \u001b[0mrenderer\u001b[0m\u001b[0;34m.\u001b[0m\u001b[0mclose_group\u001b[0m\u001b[0;34m(\u001b[0m\u001b[0;34m'figure'\u001b[0m\u001b[0;34m)\u001b[0m\u001b[0;34m\u001b[0m\u001b[0;34m\u001b[0m\u001b[0m\n",
      "\u001b[0;32m/opt/anaconda3/lib/python3.7/site-packages/matplotlib/image.py\u001b[0m in \u001b[0;36m_draw_list_compositing_images\u001b[0;34m(renderer, parent, artists, suppress_composite)\u001b[0m\n\u001b[1;32m    133\u001b[0m     \u001b[0;32mif\u001b[0m \u001b[0mnot_composite\u001b[0m \u001b[0;32mor\u001b[0m \u001b[0;32mnot\u001b[0m \u001b[0mhas_images\u001b[0m\u001b[0;34m:\u001b[0m\u001b[0;34m\u001b[0m\u001b[0;34m\u001b[0m\u001b[0m\n\u001b[1;32m    134\u001b[0m         \u001b[0;32mfor\u001b[0m \u001b[0ma\u001b[0m \u001b[0;32min\u001b[0m \u001b[0martists\u001b[0m\u001b[0;34m:\u001b[0m\u001b[0;34m\u001b[0m\u001b[0;34m\u001b[0m\u001b[0m\n\u001b[0;32m--> 135\u001b[0;31m             \u001b[0ma\u001b[0m\u001b[0;34m.\u001b[0m\u001b[0mdraw\u001b[0m\u001b[0;34m(\u001b[0m\u001b[0mrenderer\u001b[0m\u001b[0;34m)\u001b[0m\u001b[0;34m\u001b[0m\u001b[0;34m\u001b[0m\u001b[0m\n\u001b[0m\u001b[1;32m    136\u001b[0m     \u001b[0;32melse\u001b[0m\u001b[0;34m:\u001b[0m\u001b[0;34m\u001b[0m\u001b[0;34m\u001b[0m\u001b[0m\n\u001b[1;32m    137\u001b[0m         \u001b[0;31m# Composite any adjacent images together\u001b[0m\u001b[0;34m\u001b[0m\u001b[0;34m\u001b[0m\u001b[0;34m\u001b[0m\u001b[0m\n",
      "\u001b[0;32m/opt/anaconda3/lib/python3.7/site-packages/matplotlib/artist.py\u001b[0m in \u001b[0;36mdraw_wrapper\u001b[0;34m(artist, renderer, *args, **kwargs)\u001b[0m\n\u001b[1;32m     36\u001b[0m                 \u001b[0mrenderer\u001b[0m\u001b[0;34m.\u001b[0m\u001b[0mstart_filter\u001b[0m\u001b[0;34m(\u001b[0m\u001b[0;34m)\u001b[0m\u001b[0;34m\u001b[0m\u001b[0;34m\u001b[0m\u001b[0m\n\u001b[1;32m     37\u001b[0m \u001b[0;34m\u001b[0m\u001b[0m\n\u001b[0;32m---> 38\u001b[0;31m             \u001b[0;32mreturn\u001b[0m \u001b[0mdraw\u001b[0m\u001b[0;34m(\u001b[0m\u001b[0martist\u001b[0m\u001b[0;34m,\u001b[0m \u001b[0mrenderer\u001b[0m\u001b[0;34m,\u001b[0m \u001b[0;34m*\u001b[0m\u001b[0margs\u001b[0m\u001b[0;34m,\u001b[0m \u001b[0;34m**\u001b[0m\u001b[0mkwargs\u001b[0m\u001b[0;34m)\u001b[0m\u001b[0;34m\u001b[0m\u001b[0;34m\u001b[0m\u001b[0m\n\u001b[0m\u001b[1;32m     39\u001b[0m         \u001b[0;32mfinally\u001b[0m\u001b[0;34m:\u001b[0m\u001b[0;34m\u001b[0m\u001b[0;34m\u001b[0m\u001b[0m\n\u001b[1;32m     40\u001b[0m             \u001b[0;32mif\u001b[0m \u001b[0martist\u001b[0m\u001b[0;34m.\u001b[0m\u001b[0mget_agg_filter\u001b[0m\u001b[0;34m(\u001b[0m\u001b[0;34m)\u001b[0m \u001b[0;32mis\u001b[0m \u001b[0;32mnot\u001b[0m \u001b[0;32mNone\u001b[0m\u001b[0;34m:\u001b[0m\u001b[0;34m\u001b[0m\u001b[0;34m\u001b[0m\u001b[0m\n",
      "\u001b[0;32m/opt/anaconda3/lib/python3.7/site-packages/matplotlib/axes/_base.py\u001b[0m in \u001b[0;36mdraw\u001b[0;34m(self, renderer, inframe)\u001b[0m\n\u001b[1;32m   2645\u001b[0m             \u001b[0mrenderer\u001b[0m\u001b[0;34m.\u001b[0m\u001b[0mstop_rasterizing\u001b[0m\u001b[0;34m(\u001b[0m\u001b[0;34m)\u001b[0m\u001b[0;34m\u001b[0m\u001b[0;34m\u001b[0m\u001b[0m\n\u001b[1;32m   2646\u001b[0m \u001b[0;34m\u001b[0m\u001b[0m\n\u001b[0;32m-> 2647\u001b[0;31m         \u001b[0mmimage\u001b[0m\u001b[0;34m.\u001b[0m\u001b[0m_draw_list_compositing_images\u001b[0m\u001b[0;34m(\u001b[0m\u001b[0mrenderer\u001b[0m\u001b[0;34m,\u001b[0m \u001b[0mself\u001b[0m\u001b[0;34m,\u001b[0m \u001b[0martists\u001b[0m\u001b[0;34m)\u001b[0m\u001b[0;34m\u001b[0m\u001b[0;34m\u001b[0m\u001b[0m\n\u001b[0m\u001b[1;32m   2648\u001b[0m \u001b[0;34m\u001b[0m\u001b[0m\n\u001b[1;32m   2649\u001b[0m         \u001b[0mrenderer\u001b[0m\u001b[0;34m.\u001b[0m\u001b[0mclose_group\u001b[0m\u001b[0;34m(\u001b[0m\u001b[0;34m'axes'\u001b[0m\u001b[0;34m)\u001b[0m\u001b[0;34m\u001b[0m\u001b[0;34m\u001b[0m\u001b[0m\n",
      "\u001b[0;32m/opt/anaconda3/lib/python3.7/site-packages/matplotlib/image.py\u001b[0m in \u001b[0;36m_draw_list_compositing_images\u001b[0;34m(renderer, parent, artists, suppress_composite)\u001b[0m\n\u001b[1;32m    133\u001b[0m     \u001b[0;32mif\u001b[0m \u001b[0mnot_composite\u001b[0m \u001b[0;32mor\u001b[0m \u001b[0;32mnot\u001b[0m \u001b[0mhas_images\u001b[0m\u001b[0;34m:\u001b[0m\u001b[0;34m\u001b[0m\u001b[0;34m\u001b[0m\u001b[0m\n\u001b[1;32m    134\u001b[0m         \u001b[0;32mfor\u001b[0m \u001b[0ma\u001b[0m \u001b[0;32min\u001b[0m \u001b[0martists\u001b[0m\u001b[0;34m:\u001b[0m\u001b[0;34m\u001b[0m\u001b[0;34m\u001b[0m\u001b[0m\n\u001b[0;32m--> 135\u001b[0;31m             \u001b[0ma\u001b[0m\u001b[0;34m.\u001b[0m\u001b[0mdraw\u001b[0m\u001b[0;34m(\u001b[0m\u001b[0mrenderer\u001b[0m\u001b[0;34m)\u001b[0m\u001b[0;34m\u001b[0m\u001b[0;34m\u001b[0m\u001b[0m\n\u001b[0m\u001b[1;32m    136\u001b[0m     \u001b[0;32melse\u001b[0m\u001b[0;34m:\u001b[0m\u001b[0;34m\u001b[0m\u001b[0;34m\u001b[0m\u001b[0m\n\u001b[1;32m    137\u001b[0m         \u001b[0;31m# Composite any adjacent images together\u001b[0m\u001b[0;34m\u001b[0m\u001b[0;34m\u001b[0m\u001b[0;34m\u001b[0m\u001b[0m\n",
      "\u001b[0;32m/opt/anaconda3/lib/python3.7/site-packages/matplotlib/artist.py\u001b[0m in \u001b[0;36mdraw_wrapper\u001b[0;34m(artist, renderer, *args, **kwargs)\u001b[0m\n\u001b[1;32m     36\u001b[0m                 \u001b[0mrenderer\u001b[0m\u001b[0;34m.\u001b[0m\u001b[0mstart_filter\u001b[0m\u001b[0;34m(\u001b[0m\u001b[0;34m)\u001b[0m\u001b[0;34m\u001b[0m\u001b[0;34m\u001b[0m\u001b[0m\n\u001b[1;32m     37\u001b[0m \u001b[0;34m\u001b[0m\u001b[0m\n\u001b[0;32m---> 38\u001b[0;31m             \u001b[0;32mreturn\u001b[0m \u001b[0mdraw\u001b[0m\u001b[0;34m(\u001b[0m\u001b[0martist\u001b[0m\u001b[0;34m,\u001b[0m \u001b[0mrenderer\u001b[0m\u001b[0;34m,\u001b[0m \u001b[0;34m*\u001b[0m\u001b[0margs\u001b[0m\u001b[0;34m,\u001b[0m \u001b[0;34m**\u001b[0m\u001b[0mkwargs\u001b[0m\u001b[0;34m)\u001b[0m\u001b[0;34m\u001b[0m\u001b[0;34m\u001b[0m\u001b[0m\n\u001b[0m\u001b[1;32m     39\u001b[0m         \u001b[0;32mfinally\u001b[0m\u001b[0;34m:\u001b[0m\u001b[0;34m\u001b[0m\u001b[0;34m\u001b[0m\u001b[0m\n\u001b[1;32m     40\u001b[0m             \u001b[0;32mif\u001b[0m \u001b[0martist\u001b[0m\u001b[0;34m.\u001b[0m\u001b[0mget_agg_filter\u001b[0m\u001b[0;34m(\u001b[0m\u001b[0;34m)\u001b[0m \u001b[0;32mis\u001b[0m \u001b[0;32mnot\u001b[0m \u001b[0;32mNone\u001b[0m\u001b[0;34m:\u001b[0m\u001b[0;34m\u001b[0m\u001b[0;34m\u001b[0m\u001b[0m\n",
      "\u001b[0;32m/opt/anaconda3/lib/python3.7/site-packages/matplotlib/patches.py\u001b[0m in \u001b[0;36mdraw\u001b[0;34m(self, renderer)\u001b[0m\n\u001b[1;32m    571\u001b[0m                 \u001b[0mself\u001b[0m\u001b[0;34m.\u001b[0m\u001b[0m_bind_draw_path_function\u001b[0m\u001b[0;34m(\u001b[0m\u001b[0mrenderer\u001b[0m\u001b[0;34m)\u001b[0m \u001b[0;32mas\u001b[0m \u001b[0mdraw_path\u001b[0m\u001b[0;34m:\u001b[0m\u001b[0;34m\u001b[0m\u001b[0;34m\u001b[0m\u001b[0m\n\u001b[1;32m    572\u001b[0m             \u001b[0mpath\u001b[0m \u001b[0;34m=\u001b[0m \u001b[0mself\u001b[0m\u001b[0;34m.\u001b[0m\u001b[0mget_path\u001b[0m\u001b[0;34m(\u001b[0m\u001b[0;34m)\u001b[0m\u001b[0;34m\u001b[0m\u001b[0;34m\u001b[0m\u001b[0m\n\u001b[0;32m--> 573\u001b[0;31m             \u001b[0mtransform\u001b[0m \u001b[0;34m=\u001b[0m \u001b[0mself\u001b[0m\u001b[0;34m.\u001b[0m\u001b[0mget_transform\u001b[0m\u001b[0;34m(\u001b[0m\u001b[0;34m)\u001b[0m\u001b[0;34m\u001b[0m\u001b[0;34m\u001b[0m\u001b[0m\n\u001b[0m\u001b[1;32m    574\u001b[0m             \u001b[0mtpath\u001b[0m \u001b[0;34m=\u001b[0m \u001b[0mtransform\u001b[0m\u001b[0;34m.\u001b[0m\u001b[0mtransform_path_non_affine\u001b[0m\u001b[0;34m(\u001b[0m\u001b[0mpath\u001b[0m\u001b[0;34m)\u001b[0m\u001b[0;34m\u001b[0m\u001b[0;34m\u001b[0m\u001b[0m\n\u001b[1;32m    575\u001b[0m             \u001b[0maffine\u001b[0m \u001b[0;34m=\u001b[0m \u001b[0mtransform\u001b[0m\u001b[0;34m.\u001b[0m\u001b[0mget_affine\u001b[0m\u001b[0;34m(\u001b[0m\u001b[0;34m)\u001b[0m\u001b[0;34m\u001b[0m\u001b[0;34m\u001b[0m\u001b[0m\n",
      "\u001b[0;32m/opt/anaconda3/lib/python3.7/site-packages/matplotlib/patches.py\u001b[0m in \u001b[0;36mget_transform\u001b[0;34m(self)\u001b[0m\n\u001b[1;32m    212\u001b[0m         \u001b[0mto\u001b[0m \u001b[0mthe\u001b[0m \u001b[0;34m:\u001b[0m\u001b[0;32mclass\u001b[0m\u001b[0;34m:\u001b[0m\u001b[0;31m`\u001b[0m\u001b[0mPatch\u001b[0m\u001b[0;31m`\u001b[0m\u001b[0;34m.\u001b[0m\u001b[0;34m\u001b[0m\u001b[0;34m\u001b[0m\u001b[0m\n\u001b[1;32m    213\u001b[0m         \"\"\"\n\u001b[0;32m--> 214\u001b[0;31m         \u001b[0;32mreturn\u001b[0m \u001b[0mself\u001b[0m\u001b[0;34m.\u001b[0m\u001b[0mget_patch_transform\u001b[0m\u001b[0;34m(\u001b[0m\u001b[0;34m)\u001b[0m \u001b[0;34m+\u001b[0m \u001b[0martist\u001b[0m\u001b[0;34m.\u001b[0m\u001b[0mArtist\u001b[0m\u001b[0;34m.\u001b[0m\u001b[0mget_transform\u001b[0m\u001b[0;34m(\u001b[0m\u001b[0mself\u001b[0m\u001b[0;34m)\u001b[0m\u001b[0;34m\u001b[0m\u001b[0;34m\u001b[0m\u001b[0m\n\u001b[0m\u001b[1;32m    215\u001b[0m \u001b[0;34m\u001b[0m\u001b[0m\n\u001b[1;32m    216\u001b[0m     \u001b[0;32mdef\u001b[0m \u001b[0mget_data_transform\u001b[0m\u001b[0;34m(\u001b[0m\u001b[0mself\u001b[0m\u001b[0;34m)\u001b[0m\u001b[0;34m:\u001b[0m\u001b[0;34m\u001b[0m\u001b[0;34m\u001b[0m\u001b[0m\n",
      "\u001b[0;32m/opt/anaconda3/lib/python3.7/site-packages/matplotlib/patches.py\u001b[0m in \u001b[0;36mget_patch_transform\u001b[0;34m(self)\u001b[0m\n\u001b[1;32m   1503\u001b[0m \u001b[0;34m\u001b[0m\u001b[0m\n\u001b[1;32m   1504\u001b[0m     \u001b[0;32mdef\u001b[0m \u001b[0mget_patch_transform\u001b[0m\u001b[0;34m(\u001b[0m\u001b[0mself\u001b[0m\u001b[0;34m)\u001b[0m\u001b[0;34m:\u001b[0m\u001b[0;34m\u001b[0m\u001b[0;34m\u001b[0m\u001b[0m\n\u001b[0;32m-> 1505\u001b[0;31m         \u001b[0mself\u001b[0m\u001b[0;34m.\u001b[0m\u001b[0m_recompute_transform\u001b[0m\u001b[0;34m(\u001b[0m\u001b[0;34m)\u001b[0m\u001b[0;34m\u001b[0m\u001b[0;34m\u001b[0m\u001b[0m\n\u001b[0m\u001b[1;32m   1506\u001b[0m         \u001b[0;32mreturn\u001b[0m \u001b[0mself\u001b[0m\u001b[0;34m.\u001b[0m\u001b[0m_patch_transform\u001b[0m\u001b[0;34m\u001b[0m\u001b[0;34m\u001b[0m\u001b[0m\n\u001b[1;32m   1507\u001b[0m \u001b[0;34m\u001b[0m\u001b[0m\n",
      "\u001b[0;32m/opt/anaconda3/lib/python3.7/site-packages/matplotlib/patches.py\u001b[0m in \u001b[0;36m_recompute_transform\u001b[0;34m(self)\u001b[0m\n\u001b[1;32m   1494\u001b[0m             \u001b[0;34m.\u001b[0m\u001b[0mscale\u001b[0m\u001b[0;34m(\u001b[0m\u001b[0mwidth\u001b[0m \u001b[0;34m*\u001b[0m \u001b[0;36m0.5\u001b[0m\u001b[0;34m,\u001b[0m \u001b[0mheight\u001b[0m \u001b[0;34m*\u001b[0m \u001b[0;36m0.5\u001b[0m\u001b[0;34m)\u001b[0m\u001b[0;31m \u001b[0m\u001b[0;31m\\\u001b[0m\u001b[0;34m\u001b[0m\u001b[0;34m\u001b[0m\u001b[0m\n\u001b[1;32m   1495\u001b[0m             \u001b[0;34m.\u001b[0m\u001b[0mrotate_deg\u001b[0m\u001b[0;34m(\u001b[0m\u001b[0mself\u001b[0m\u001b[0;34m.\u001b[0m\u001b[0mangle\u001b[0m\u001b[0;34m)\u001b[0m\u001b[0;31m \u001b[0m\u001b[0;31m\\\u001b[0m\u001b[0;34m\u001b[0m\u001b[0;34m\u001b[0m\u001b[0m\n\u001b[0;32m-> 1496\u001b[0;31m             \u001b[0;34m.\u001b[0m\u001b[0mtranslate\u001b[0m\u001b[0;34m(\u001b[0m\u001b[0;34m*\u001b[0m\u001b[0mcenter\u001b[0m\u001b[0;34m)\u001b[0m\u001b[0;34m\u001b[0m\u001b[0;34m\u001b[0m\u001b[0m\n\u001b[0m\u001b[1;32m   1497\u001b[0m \u001b[0;34m\u001b[0m\u001b[0m\n\u001b[1;32m   1498\u001b[0m     \u001b[0;32mdef\u001b[0m \u001b[0mget_path\u001b[0m\u001b[0;34m(\u001b[0m\u001b[0mself\u001b[0m\u001b[0;34m)\u001b[0m\u001b[0;34m:\u001b[0m\u001b[0;34m\u001b[0m\u001b[0;34m\u001b[0m\u001b[0m\n",
      "\u001b[0;32m/opt/anaconda3/lib/python3.7/site-packages/matplotlib/transforms.py\u001b[0m in \u001b[0;36mtranslate\u001b[0;34m(self, tx, ty)\u001b[0m\n\u001b[1;32m   1969\u001b[0m         \"\"\"\n\u001b[1;32m   1970\u001b[0m         translate_mtx = np.array(\n\u001b[0;32m-> 1971\u001b[0;31m             [[1.0, 0.0, tx], [0.0, 1.0, ty], [0.0, 0.0, 1.0]], float)\n\u001b[0m\u001b[1;32m   1972\u001b[0m         \u001b[0mself\u001b[0m\u001b[0;34m.\u001b[0m\u001b[0m_mtx\u001b[0m \u001b[0;34m=\u001b[0m \u001b[0mnp\u001b[0m\u001b[0;34m.\u001b[0m\u001b[0mdot\u001b[0m\u001b[0;34m(\u001b[0m\u001b[0mtranslate_mtx\u001b[0m\u001b[0;34m,\u001b[0m \u001b[0mself\u001b[0m\u001b[0;34m.\u001b[0m\u001b[0m_mtx\u001b[0m\u001b[0;34m)\u001b[0m\u001b[0;34m\u001b[0m\u001b[0;34m\u001b[0m\u001b[0m\n\u001b[1;32m   1973\u001b[0m         \u001b[0mself\u001b[0m\u001b[0;34m.\u001b[0m\u001b[0minvalidate\u001b[0m\u001b[0;34m(\u001b[0m\u001b[0;34m)\u001b[0m\u001b[0;34m\u001b[0m\u001b[0;34m\u001b[0m\u001b[0m\n",
      "\u001b[0;31mValueError\u001b[0m: setting an array element with a sequence."
     ]
    },
    {
     "ename": "ValueError",
     "evalue": "setting an array element with a sequence.",
     "output_type": "error",
     "traceback": [
      "\u001b[0;31m---------------------------------------------------------------------------\u001b[0m",
      "\u001b[0;31mValueError\u001b[0m                                Traceback (most recent call last)",
      "\u001b[0;32m/opt/anaconda3/lib/python3.7/site-packages/IPython/core/formatters.py\u001b[0m in \u001b[0;36m__call__\u001b[0;34m(self, obj)\u001b[0m\n\u001b[1;32m    339\u001b[0m                 \u001b[0;32mpass\u001b[0m\u001b[0;34m\u001b[0m\u001b[0;34m\u001b[0m\u001b[0m\n\u001b[1;32m    340\u001b[0m             \u001b[0;32melse\u001b[0m\u001b[0;34m:\u001b[0m\u001b[0;34m\u001b[0m\u001b[0;34m\u001b[0m\u001b[0m\n\u001b[0;32m--> 341\u001b[0;31m                 \u001b[0;32mreturn\u001b[0m \u001b[0mprinter\u001b[0m\u001b[0;34m(\u001b[0m\u001b[0mobj\u001b[0m\u001b[0;34m)\u001b[0m\u001b[0;34m\u001b[0m\u001b[0;34m\u001b[0m\u001b[0m\n\u001b[0m\u001b[1;32m    342\u001b[0m             \u001b[0;31m# Finally look for special method names\u001b[0m\u001b[0;34m\u001b[0m\u001b[0;34m\u001b[0m\u001b[0;34m\u001b[0m\u001b[0m\n\u001b[1;32m    343\u001b[0m             \u001b[0mmethod\u001b[0m \u001b[0;34m=\u001b[0m \u001b[0mget_real_method\u001b[0m\u001b[0;34m(\u001b[0m\u001b[0mobj\u001b[0m\u001b[0;34m,\u001b[0m \u001b[0mself\u001b[0m\u001b[0;34m.\u001b[0m\u001b[0mprint_method\u001b[0m\u001b[0;34m)\u001b[0m\u001b[0;34m\u001b[0m\u001b[0;34m\u001b[0m\u001b[0m\n",
      "\u001b[0;32m/opt/anaconda3/lib/python3.7/site-packages/IPython/core/pylabtools.py\u001b[0m in \u001b[0;36m<lambda>\u001b[0;34m(fig)\u001b[0m\n\u001b[1;32m    242\u001b[0m \u001b[0;34m\u001b[0m\u001b[0m\n\u001b[1;32m    243\u001b[0m     \u001b[0;32mif\u001b[0m \u001b[0;34m'png'\u001b[0m \u001b[0;32min\u001b[0m \u001b[0mformats\u001b[0m\u001b[0;34m:\u001b[0m\u001b[0;34m\u001b[0m\u001b[0;34m\u001b[0m\u001b[0m\n\u001b[0;32m--> 244\u001b[0;31m         \u001b[0mpng_formatter\u001b[0m\u001b[0;34m.\u001b[0m\u001b[0mfor_type\u001b[0m\u001b[0;34m(\u001b[0m\u001b[0mFigure\u001b[0m\u001b[0;34m,\u001b[0m \u001b[0;32mlambda\u001b[0m \u001b[0mfig\u001b[0m\u001b[0;34m:\u001b[0m \u001b[0mprint_figure\u001b[0m\u001b[0;34m(\u001b[0m\u001b[0mfig\u001b[0m\u001b[0;34m,\u001b[0m \u001b[0;34m'png'\u001b[0m\u001b[0;34m,\u001b[0m \u001b[0;34m**\u001b[0m\u001b[0mkwargs\u001b[0m\u001b[0;34m)\u001b[0m\u001b[0;34m)\u001b[0m\u001b[0;34m\u001b[0m\u001b[0;34m\u001b[0m\u001b[0m\n\u001b[0m\u001b[1;32m    245\u001b[0m     \u001b[0;32mif\u001b[0m \u001b[0;34m'retina'\u001b[0m \u001b[0;32min\u001b[0m \u001b[0mformats\u001b[0m \u001b[0;32mor\u001b[0m \u001b[0;34m'png2x'\u001b[0m \u001b[0;32min\u001b[0m \u001b[0mformats\u001b[0m\u001b[0;34m:\u001b[0m\u001b[0;34m\u001b[0m\u001b[0;34m\u001b[0m\u001b[0m\n\u001b[1;32m    246\u001b[0m         \u001b[0mpng_formatter\u001b[0m\u001b[0;34m.\u001b[0m\u001b[0mfor_type\u001b[0m\u001b[0;34m(\u001b[0m\u001b[0mFigure\u001b[0m\u001b[0;34m,\u001b[0m \u001b[0;32mlambda\u001b[0m \u001b[0mfig\u001b[0m\u001b[0;34m:\u001b[0m \u001b[0mretina_figure\u001b[0m\u001b[0;34m(\u001b[0m\u001b[0mfig\u001b[0m\u001b[0;34m,\u001b[0m \u001b[0;34m**\u001b[0m\u001b[0mkwargs\u001b[0m\u001b[0;34m)\u001b[0m\u001b[0;34m)\u001b[0m\u001b[0;34m\u001b[0m\u001b[0;34m\u001b[0m\u001b[0m\n",
      "\u001b[0;32m/opt/anaconda3/lib/python3.7/site-packages/IPython/core/pylabtools.py\u001b[0m in \u001b[0;36mprint_figure\u001b[0;34m(fig, fmt, bbox_inches, **kwargs)\u001b[0m\n\u001b[1;32m    126\u001b[0m \u001b[0;34m\u001b[0m\u001b[0m\n\u001b[1;32m    127\u001b[0m     \u001b[0mbytes_io\u001b[0m \u001b[0;34m=\u001b[0m \u001b[0mBytesIO\u001b[0m\u001b[0;34m(\u001b[0m\u001b[0;34m)\u001b[0m\u001b[0;34m\u001b[0m\u001b[0;34m\u001b[0m\u001b[0m\n\u001b[0;32m--> 128\u001b[0;31m     \u001b[0mfig\u001b[0m\u001b[0;34m.\u001b[0m\u001b[0mcanvas\u001b[0m\u001b[0;34m.\u001b[0m\u001b[0mprint_figure\u001b[0m\u001b[0;34m(\u001b[0m\u001b[0mbytes_io\u001b[0m\u001b[0;34m,\u001b[0m \u001b[0;34m**\u001b[0m\u001b[0mkw\u001b[0m\u001b[0;34m)\u001b[0m\u001b[0;34m\u001b[0m\u001b[0;34m\u001b[0m\u001b[0m\n\u001b[0m\u001b[1;32m    129\u001b[0m     \u001b[0mdata\u001b[0m \u001b[0;34m=\u001b[0m \u001b[0mbytes_io\u001b[0m\u001b[0;34m.\u001b[0m\u001b[0mgetvalue\u001b[0m\u001b[0;34m(\u001b[0m\u001b[0;34m)\u001b[0m\u001b[0;34m\u001b[0m\u001b[0;34m\u001b[0m\u001b[0m\n\u001b[1;32m    130\u001b[0m     \u001b[0;32mif\u001b[0m \u001b[0mfmt\u001b[0m \u001b[0;34m==\u001b[0m \u001b[0;34m'svg'\u001b[0m\u001b[0;34m:\u001b[0m\u001b[0;34m\u001b[0m\u001b[0;34m\u001b[0m\u001b[0m\n",
      "\u001b[0;32m/opt/anaconda3/lib/python3.7/site-packages/matplotlib/backend_bases.py\u001b[0m in \u001b[0;36mprint_figure\u001b[0;34m(self, filename, dpi, facecolor, edgecolor, orientation, format, bbox_inches, **kwargs)\u001b[0m\n\u001b[1;32m   2054\u001b[0m                         \u001b[0morientation\u001b[0m\u001b[0;34m=\u001b[0m\u001b[0morientation\u001b[0m\u001b[0;34m,\u001b[0m\u001b[0;34m\u001b[0m\u001b[0;34m\u001b[0m\u001b[0m\n\u001b[1;32m   2055\u001b[0m                         \u001b[0mdryrun\u001b[0m\u001b[0;34m=\u001b[0m\u001b[0;32mTrue\u001b[0m\u001b[0;34m,\u001b[0m\u001b[0;34m\u001b[0m\u001b[0;34m\u001b[0m\u001b[0m\n\u001b[0;32m-> 2056\u001b[0;31m                         **kwargs)\n\u001b[0m\u001b[1;32m   2057\u001b[0m                     \u001b[0mrenderer\u001b[0m \u001b[0;34m=\u001b[0m \u001b[0mself\u001b[0m\u001b[0;34m.\u001b[0m\u001b[0mfigure\u001b[0m\u001b[0;34m.\u001b[0m\u001b[0m_cachedRenderer\u001b[0m\u001b[0;34m\u001b[0m\u001b[0;34m\u001b[0m\u001b[0m\n\u001b[1;32m   2058\u001b[0m                     \u001b[0mbbox_artists\u001b[0m \u001b[0;34m=\u001b[0m \u001b[0mkwargs\u001b[0m\u001b[0;34m.\u001b[0m\u001b[0mpop\u001b[0m\u001b[0;34m(\u001b[0m\u001b[0;34m\"bbox_extra_artists\"\u001b[0m\u001b[0;34m,\u001b[0m \u001b[0;32mNone\u001b[0m\u001b[0;34m)\u001b[0m\u001b[0;34m\u001b[0m\u001b[0;34m\u001b[0m\u001b[0m\n",
      "\u001b[0;32m/opt/anaconda3/lib/python3.7/site-packages/matplotlib/backends/backend_agg.py\u001b[0m in \u001b[0;36mprint_png\u001b[0;34m(self, filename_or_obj, metadata, pil_kwargs, *args, **kwargs)\u001b[0m\n\u001b[1;32m    525\u001b[0m \u001b[0;34m\u001b[0m\u001b[0m\n\u001b[1;32m    526\u001b[0m         \u001b[0;32melse\u001b[0m\u001b[0;34m:\u001b[0m\u001b[0;34m\u001b[0m\u001b[0;34m\u001b[0m\u001b[0m\n\u001b[0;32m--> 527\u001b[0;31m             \u001b[0mFigureCanvasAgg\u001b[0m\u001b[0;34m.\u001b[0m\u001b[0mdraw\u001b[0m\u001b[0;34m(\u001b[0m\u001b[0mself\u001b[0m\u001b[0;34m)\u001b[0m\u001b[0;34m\u001b[0m\u001b[0;34m\u001b[0m\u001b[0m\n\u001b[0m\u001b[1;32m    528\u001b[0m             \u001b[0mrenderer\u001b[0m \u001b[0;34m=\u001b[0m \u001b[0mself\u001b[0m\u001b[0;34m.\u001b[0m\u001b[0mget_renderer\u001b[0m\u001b[0;34m(\u001b[0m\u001b[0;34m)\u001b[0m\u001b[0;34m\u001b[0m\u001b[0;34m\u001b[0m\u001b[0m\n\u001b[1;32m    529\u001b[0m             \u001b[0;32mwith\u001b[0m \u001b[0mcbook\u001b[0m\u001b[0;34m.\u001b[0m\u001b[0m_setattr_cm\u001b[0m\u001b[0;34m(\u001b[0m\u001b[0mrenderer\u001b[0m\u001b[0;34m,\u001b[0m \u001b[0mdpi\u001b[0m\u001b[0;34m=\u001b[0m\u001b[0mself\u001b[0m\u001b[0;34m.\u001b[0m\u001b[0mfigure\u001b[0m\u001b[0;34m.\u001b[0m\u001b[0mdpi\u001b[0m\u001b[0;34m)\u001b[0m\u001b[0;34m,\u001b[0m\u001b[0;31m \u001b[0m\u001b[0;31m\\\u001b[0m\u001b[0;34m\u001b[0m\u001b[0;34m\u001b[0m\u001b[0m\n",
      "\u001b[0;32m/opt/anaconda3/lib/python3.7/site-packages/matplotlib/backends/backend_agg.py\u001b[0m in \u001b[0;36mdraw\u001b[0;34m(self)\u001b[0m\n\u001b[1;32m    386\u001b[0m         \u001b[0mself\u001b[0m\u001b[0;34m.\u001b[0m\u001b[0mrenderer\u001b[0m \u001b[0;34m=\u001b[0m \u001b[0mself\u001b[0m\u001b[0;34m.\u001b[0m\u001b[0mget_renderer\u001b[0m\u001b[0;34m(\u001b[0m\u001b[0mcleared\u001b[0m\u001b[0;34m=\u001b[0m\u001b[0;32mTrue\u001b[0m\u001b[0;34m)\u001b[0m\u001b[0;34m\u001b[0m\u001b[0;34m\u001b[0m\u001b[0m\n\u001b[1;32m    387\u001b[0m         \u001b[0;32mwith\u001b[0m \u001b[0mRendererAgg\u001b[0m\u001b[0;34m.\u001b[0m\u001b[0mlock\u001b[0m\u001b[0;34m:\u001b[0m\u001b[0;34m\u001b[0m\u001b[0;34m\u001b[0m\u001b[0m\n\u001b[0;32m--> 388\u001b[0;31m             \u001b[0mself\u001b[0m\u001b[0;34m.\u001b[0m\u001b[0mfigure\u001b[0m\u001b[0;34m.\u001b[0m\u001b[0mdraw\u001b[0m\u001b[0;34m(\u001b[0m\u001b[0mself\u001b[0m\u001b[0;34m.\u001b[0m\u001b[0mrenderer\u001b[0m\u001b[0;34m)\u001b[0m\u001b[0;34m\u001b[0m\u001b[0;34m\u001b[0m\u001b[0m\n\u001b[0m\u001b[1;32m    389\u001b[0m             \u001b[0;31m# A GUI class may be need to update a window using this draw, so\u001b[0m\u001b[0;34m\u001b[0m\u001b[0;34m\u001b[0m\u001b[0;34m\u001b[0m\u001b[0m\n\u001b[1;32m    390\u001b[0m             \u001b[0;31m# don't forget to call the superclass.\u001b[0m\u001b[0;34m\u001b[0m\u001b[0;34m\u001b[0m\u001b[0;34m\u001b[0m\u001b[0m\n",
      "\u001b[0;32m/opt/anaconda3/lib/python3.7/site-packages/matplotlib/artist.py\u001b[0m in \u001b[0;36mdraw_wrapper\u001b[0;34m(artist, renderer, *args, **kwargs)\u001b[0m\n\u001b[1;32m     36\u001b[0m                 \u001b[0mrenderer\u001b[0m\u001b[0;34m.\u001b[0m\u001b[0mstart_filter\u001b[0m\u001b[0;34m(\u001b[0m\u001b[0;34m)\u001b[0m\u001b[0;34m\u001b[0m\u001b[0;34m\u001b[0m\u001b[0m\n\u001b[1;32m     37\u001b[0m \u001b[0;34m\u001b[0m\u001b[0m\n\u001b[0;32m---> 38\u001b[0;31m             \u001b[0;32mreturn\u001b[0m \u001b[0mdraw\u001b[0m\u001b[0;34m(\u001b[0m\u001b[0martist\u001b[0m\u001b[0;34m,\u001b[0m \u001b[0mrenderer\u001b[0m\u001b[0;34m,\u001b[0m \u001b[0;34m*\u001b[0m\u001b[0margs\u001b[0m\u001b[0;34m,\u001b[0m \u001b[0;34m**\u001b[0m\u001b[0mkwargs\u001b[0m\u001b[0;34m)\u001b[0m\u001b[0;34m\u001b[0m\u001b[0;34m\u001b[0m\u001b[0m\n\u001b[0m\u001b[1;32m     39\u001b[0m         \u001b[0;32mfinally\u001b[0m\u001b[0;34m:\u001b[0m\u001b[0;34m\u001b[0m\u001b[0;34m\u001b[0m\u001b[0m\n\u001b[1;32m     40\u001b[0m             \u001b[0;32mif\u001b[0m \u001b[0martist\u001b[0m\u001b[0;34m.\u001b[0m\u001b[0mget_agg_filter\u001b[0m\u001b[0;34m(\u001b[0m\u001b[0;34m)\u001b[0m \u001b[0;32mis\u001b[0m \u001b[0;32mnot\u001b[0m \u001b[0;32mNone\u001b[0m\u001b[0;34m:\u001b[0m\u001b[0;34m\u001b[0m\u001b[0;34m\u001b[0m\u001b[0m\n",
      "\u001b[0;32m/opt/anaconda3/lib/python3.7/site-packages/matplotlib/figure.py\u001b[0m in \u001b[0;36mdraw\u001b[0;34m(self, renderer)\u001b[0m\n\u001b[1;32m   1707\u001b[0m             \u001b[0mself\u001b[0m\u001b[0;34m.\u001b[0m\u001b[0mpatch\u001b[0m\u001b[0;34m.\u001b[0m\u001b[0mdraw\u001b[0m\u001b[0;34m(\u001b[0m\u001b[0mrenderer\u001b[0m\u001b[0;34m)\u001b[0m\u001b[0;34m\u001b[0m\u001b[0;34m\u001b[0m\u001b[0m\n\u001b[1;32m   1708\u001b[0m             mimage._draw_list_compositing_images(\n\u001b[0;32m-> 1709\u001b[0;31m                 renderer, self, artists, self.suppressComposite)\n\u001b[0m\u001b[1;32m   1710\u001b[0m \u001b[0;34m\u001b[0m\u001b[0m\n\u001b[1;32m   1711\u001b[0m             \u001b[0mrenderer\u001b[0m\u001b[0;34m.\u001b[0m\u001b[0mclose_group\u001b[0m\u001b[0;34m(\u001b[0m\u001b[0;34m'figure'\u001b[0m\u001b[0;34m)\u001b[0m\u001b[0;34m\u001b[0m\u001b[0;34m\u001b[0m\u001b[0m\n",
      "\u001b[0;32m/opt/anaconda3/lib/python3.7/site-packages/matplotlib/image.py\u001b[0m in \u001b[0;36m_draw_list_compositing_images\u001b[0;34m(renderer, parent, artists, suppress_composite)\u001b[0m\n\u001b[1;32m    133\u001b[0m     \u001b[0;32mif\u001b[0m \u001b[0mnot_composite\u001b[0m \u001b[0;32mor\u001b[0m \u001b[0;32mnot\u001b[0m \u001b[0mhas_images\u001b[0m\u001b[0;34m:\u001b[0m\u001b[0;34m\u001b[0m\u001b[0;34m\u001b[0m\u001b[0m\n\u001b[1;32m    134\u001b[0m         \u001b[0;32mfor\u001b[0m \u001b[0ma\u001b[0m \u001b[0;32min\u001b[0m \u001b[0martists\u001b[0m\u001b[0;34m:\u001b[0m\u001b[0;34m\u001b[0m\u001b[0;34m\u001b[0m\u001b[0m\n\u001b[0;32m--> 135\u001b[0;31m             \u001b[0ma\u001b[0m\u001b[0;34m.\u001b[0m\u001b[0mdraw\u001b[0m\u001b[0;34m(\u001b[0m\u001b[0mrenderer\u001b[0m\u001b[0;34m)\u001b[0m\u001b[0;34m\u001b[0m\u001b[0;34m\u001b[0m\u001b[0m\n\u001b[0m\u001b[1;32m    136\u001b[0m     \u001b[0;32melse\u001b[0m\u001b[0;34m:\u001b[0m\u001b[0;34m\u001b[0m\u001b[0;34m\u001b[0m\u001b[0m\n\u001b[1;32m    137\u001b[0m         \u001b[0;31m# Composite any adjacent images together\u001b[0m\u001b[0;34m\u001b[0m\u001b[0;34m\u001b[0m\u001b[0;34m\u001b[0m\u001b[0m\n",
      "\u001b[0;32m/opt/anaconda3/lib/python3.7/site-packages/matplotlib/artist.py\u001b[0m in \u001b[0;36mdraw_wrapper\u001b[0;34m(artist, renderer, *args, **kwargs)\u001b[0m\n\u001b[1;32m     36\u001b[0m                 \u001b[0mrenderer\u001b[0m\u001b[0;34m.\u001b[0m\u001b[0mstart_filter\u001b[0m\u001b[0;34m(\u001b[0m\u001b[0;34m)\u001b[0m\u001b[0;34m\u001b[0m\u001b[0;34m\u001b[0m\u001b[0m\n\u001b[1;32m     37\u001b[0m \u001b[0;34m\u001b[0m\u001b[0m\n\u001b[0;32m---> 38\u001b[0;31m             \u001b[0;32mreturn\u001b[0m \u001b[0mdraw\u001b[0m\u001b[0;34m(\u001b[0m\u001b[0martist\u001b[0m\u001b[0;34m,\u001b[0m \u001b[0mrenderer\u001b[0m\u001b[0;34m,\u001b[0m \u001b[0;34m*\u001b[0m\u001b[0margs\u001b[0m\u001b[0;34m,\u001b[0m \u001b[0;34m**\u001b[0m\u001b[0mkwargs\u001b[0m\u001b[0;34m)\u001b[0m\u001b[0;34m\u001b[0m\u001b[0;34m\u001b[0m\u001b[0m\n\u001b[0m\u001b[1;32m     39\u001b[0m         \u001b[0;32mfinally\u001b[0m\u001b[0;34m:\u001b[0m\u001b[0;34m\u001b[0m\u001b[0;34m\u001b[0m\u001b[0m\n\u001b[1;32m     40\u001b[0m             \u001b[0;32mif\u001b[0m \u001b[0martist\u001b[0m\u001b[0;34m.\u001b[0m\u001b[0mget_agg_filter\u001b[0m\u001b[0;34m(\u001b[0m\u001b[0;34m)\u001b[0m \u001b[0;32mis\u001b[0m \u001b[0;32mnot\u001b[0m \u001b[0;32mNone\u001b[0m\u001b[0;34m:\u001b[0m\u001b[0;34m\u001b[0m\u001b[0;34m\u001b[0m\u001b[0m\n",
      "\u001b[0;32m/opt/anaconda3/lib/python3.7/site-packages/matplotlib/axes/_base.py\u001b[0m in \u001b[0;36mdraw\u001b[0;34m(self, renderer, inframe)\u001b[0m\n\u001b[1;32m   2645\u001b[0m             \u001b[0mrenderer\u001b[0m\u001b[0;34m.\u001b[0m\u001b[0mstop_rasterizing\u001b[0m\u001b[0;34m(\u001b[0m\u001b[0;34m)\u001b[0m\u001b[0;34m\u001b[0m\u001b[0;34m\u001b[0m\u001b[0m\n\u001b[1;32m   2646\u001b[0m \u001b[0;34m\u001b[0m\u001b[0m\n\u001b[0;32m-> 2647\u001b[0;31m         \u001b[0mmimage\u001b[0m\u001b[0;34m.\u001b[0m\u001b[0m_draw_list_compositing_images\u001b[0m\u001b[0;34m(\u001b[0m\u001b[0mrenderer\u001b[0m\u001b[0;34m,\u001b[0m \u001b[0mself\u001b[0m\u001b[0;34m,\u001b[0m \u001b[0martists\u001b[0m\u001b[0;34m)\u001b[0m\u001b[0;34m\u001b[0m\u001b[0;34m\u001b[0m\u001b[0m\n\u001b[0m\u001b[1;32m   2648\u001b[0m \u001b[0;34m\u001b[0m\u001b[0m\n\u001b[1;32m   2649\u001b[0m         \u001b[0mrenderer\u001b[0m\u001b[0;34m.\u001b[0m\u001b[0mclose_group\u001b[0m\u001b[0;34m(\u001b[0m\u001b[0;34m'axes'\u001b[0m\u001b[0;34m)\u001b[0m\u001b[0;34m\u001b[0m\u001b[0;34m\u001b[0m\u001b[0m\n",
      "\u001b[0;32m/opt/anaconda3/lib/python3.7/site-packages/matplotlib/image.py\u001b[0m in \u001b[0;36m_draw_list_compositing_images\u001b[0;34m(renderer, parent, artists, suppress_composite)\u001b[0m\n\u001b[1;32m    133\u001b[0m     \u001b[0;32mif\u001b[0m \u001b[0mnot_composite\u001b[0m \u001b[0;32mor\u001b[0m \u001b[0;32mnot\u001b[0m \u001b[0mhas_images\u001b[0m\u001b[0;34m:\u001b[0m\u001b[0;34m\u001b[0m\u001b[0;34m\u001b[0m\u001b[0m\n\u001b[1;32m    134\u001b[0m         \u001b[0;32mfor\u001b[0m \u001b[0ma\u001b[0m \u001b[0;32min\u001b[0m \u001b[0martists\u001b[0m\u001b[0;34m:\u001b[0m\u001b[0;34m\u001b[0m\u001b[0;34m\u001b[0m\u001b[0m\n\u001b[0;32m--> 135\u001b[0;31m             \u001b[0ma\u001b[0m\u001b[0;34m.\u001b[0m\u001b[0mdraw\u001b[0m\u001b[0;34m(\u001b[0m\u001b[0mrenderer\u001b[0m\u001b[0;34m)\u001b[0m\u001b[0;34m\u001b[0m\u001b[0;34m\u001b[0m\u001b[0m\n\u001b[0m\u001b[1;32m    136\u001b[0m     \u001b[0;32melse\u001b[0m\u001b[0;34m:\u001b[0m\u001b[0;34m\u001b[0m\u001b[0;34m\u001b[0m\u001b[0m\n\u001b[1;32m    137\u001b[0m         \u001b[0;31m# Composite any adjacent images together\u001b[0m\u001b[0;34m\u001b[0m\u001b[0;34m\u001b[0m\u001b[0;34m\u001b[0m\u001b[0m\n",
      "\u001b[0;32m/opt/anaconda3/lib/python3.7/site-packages/matplotlib/artist.py\u001b[0m in \u001b[0;36mdraw_wrapper\u001b[0;34m(artist, renderer, *args, **kwargs)\u001b[0m\n\u001b[1;32m     36\u001b[0m                 \u001b[0mrenderer\u001b[0m\u001b[0;34m.\u001b[0m\u001b[0mstart_filter\u001b[0m\u001b[0;34m(\u001b[0m\u001b[0;34m)\u001b[0m\u001b[0;34m\u001b[0m\u001b[0;34m\u001b[0m\u001b[0m\n\u001b[1;32m     37\u001b[0m \u001b[0;34m\u001b[0m\u001b[0m\n\u001b[0;32m---> 38\u001b[0;31m             \u001b[0;32mreturn\u001b[0m \u001b[0mdraw\u001b[0m\u001b[0;34m(\u001b[0m\u001b[0martist\u001b[0m\u001b[0;34m,\u001b[0m \u001b[0mrenderer\u001b[0m\u001b[0;34m,\u001b[0m \u001b[0;34m*\u001b[0m\u001b[0margs\u001b[0m\u001b[0;34m,\u001b[0m \u001b[0;34m**\u001b[0m\u001b[0mkwargs\u001b[0m\u001b[0;34m)\u001b[0m\u001b[0;34m\u001b[0m\u001b[0;34m\u001b[0m\u001b[0m\n\u001b[0m\u001b[1;32m     39\u001b[0m         \u001b[0;32mfinally\u001b[0m\u001b[0;34m:\u001b[0m\u001b[0;34m\u001b[0m\u001b[0;34m\u001b[0m\u001b[0m\n\u001b[1;32m     40\u001b[0m             \u001b[0;32mif\u001b[0m \u001b[0martist\u001b[0m\u001b[0;34m.\u001b[0m\u001b[0mget_agg_filter\u001b[0m\u001b[0;34m(\u001b[0m\u001b[0;34m)\u001b[0m \u001b[0;32mis\u001b[0m \u001b[0;32mnot\u001b[0m \u001b[0;32mNone\u001b[0m\u001b[0;34m:\u001b[0m\u001b[0;34m\u001b[0m\u001b[0;34m\u001b[0m\u001b[0m\n",
      "\u001b[0;32m/opt/anaconda3/lib/python3.7/site-packages/matplotlib/patches.py\u001b[0m in \u001b[0;36mdraw\u001b[0;34m(self, renderer)\u001b[0m\n\u001b[1;32m    571\u001b[0m                 \u001b[0mself\u001b[0m\u001b[0;34m.\u001b[0m\u001b[0m_bind_draw_path_function\u001b[0m\u001b[0;34m(\u001b[0m\u001b[0mrenderer\u001b[0m\u001b[0;34m)\u001b[0m \u001b[0;32mas\u001b[0m \u001b[0mdraw_path\u001b[0m\u001b[0;34m:\u001b[0m\u001b[0;34m\u001b[0m\u001b[0;34m\u001b[0m\u001b[0m\n\u001b[1;32m    572\u001b[0m             \u001b[0mpath\u001b[0m \u001b[0;34m=\u001b[0m \u001b[0mself\u001b[0m\u001b[0;34m.\u001b[0m\u001b[0mget_path\u001b[0m\u001b[0;34m(\u001b[0m\u001b[0;34m)\u001b[0m\u001b[0;34m\u001b[0m\u001b[0;34m\u001b[0m\u001b[0m\n\u001b[0;32m--> 573\u001b[0;31m             \u001b[0mtransform\u001b[0m \u001b[0;34m=\u001b[0m \u001b[0mself\u001b[0m\u001b[0;34m.\u001b[0m\u001b[0mget_transform\u001b[0m\u001b[0;34m(\u001b[0m\u001b[0;34m)\u001b[0m\u001b[0;34m\u001b[0m\u001b[0;34m\u001b[0m\u001b[0m\n\u001b[0m\u001b[1;32m    574\u001b[0m             \u001b[0mtpath\u001b[0m \u001b[0;34m=\u001b[0m \u001b[0mtransform\u001b[0m\u001b[0;34m.\u001b[0m\u001b[0mtransform_path_non_affine\u001b[0m\u001b[0;34m(\u001b[0m\u001b[0mpath\u001b[0m\u001b[0;34m)\u001b[0m\u001b[0;34m\u001b[0m\u001b[0;34m\u001b[0m\u001b[0m\n\u001b[1;32m    575\u001b[0m             \u001b[0maffine\u001b[0m \u001b[0;34m=\u001b[0m \u001b[0mtransform\u001b[0m\u001b[0;34m.\u001b[0m\u001b[0mget_affine\u001b[0m\u001b[0;34m(\u001b[0m\u001b[0;34m)\u001b[0m\u001b[0;34m\u001b[0m\u001b[0;34m\u001b[0m\u001b[0m\n",
      "\u001b[0;32m/opt/anaconda3/lib/python3.7/site-packages/matplotlib/patches.py\u001b[0m in \u001b[0;36mget_transform\u001b[0;34m(self)\u001b[0m\n\u001b[1;32m    212\u001b[0m         \u001b[0mto\u001b[0m \u001b[0mthe\u001b[0m \u001b[0;34m:\u001b[0m\u001b[0;32mclass\u001b[0m\u001b[0;34m:\u001b[0m\u001b[0;31m`\u001b[0m\u001b[0mPatch\u001b[0m\u001b[0;31m`\u001b[0m\u001b[0;34m.\u001b[0m\u001b[0;34m\u001b[0m\u001b[0;34m\u001b[0m\u001b[0m\n\u001b[1;32m    213\u001b[0m         \"\"\"\n\u001b[0;32m--> 214\u001b[0;31m         \u001b[0;32mreturn\u001b[0m \u001b[0mself\u001b[0m\u001b[0;34m.\u001b[0m\u001b[0mget_patch_transform\u001b[0m\u001b[0;34m(\u001b[0m\u001b[0;34m)\u001b[0m \u001b[0;34m+\u001b[0m \u001b[0martist\u001b[0m\u001b[0;34m.\u001b[0m\u001b[0mArtist\u001b[0m\u001b[0;34m.\u001b[0m\u001b[0mget_transform\u001b[0m\u001b[0;34m(\u001b[0m\u001b[0mself\u001b[0m\u001b[0;34m)\u001b[0m\u001b[0;34m\u001b[0m\u001b[0;34m\u001b[0m\u001b[0m\n\u001b[0m\u001b[1;32m    215\u001b[0m \u001b[0;34m\u001b[0m\u001b[0m\n\u001b[1;32m    216\u001b[0m     \u001b[0;32mdef\u001b[0m \u001b[0mget_data_transform\u001b[0m\u001b[0;34m(\u001b[0m\u001b[0mself\u001b[0m\u001b[0;34m)\u001b[0m\u001b[0;34m:\u001b[0m\u001b[0;34m\u001b[0m\u001b[0;34m\u001b[0m\u001b[0m\n",
      "\u001b[0;32m/opt/anaconda3/lib/python3.7/site-packages/matplotlib/patches.py\u001b[0m in \u001b[0;36mget_patch_transform\u001b[0;34m(self)\u001b[0m\n\u001b[1;32m   1503\u001b[0m \u001b[0;34m\u001b[0m\u001b[0m\n\u001b[1;32m   1504\u001b[0m     \u001b[0;32mdef\u001b[0m \u001b[0mget_patch_transform\u001b[0m\u001b[0;34m(\u001b[0m\u001b[0mself\u001b[0m\u001b[0;34m)\u001b[0m\u001b[0;34m:\u001b[0m\u001b[0;34m\u001b[0m\u001b[0;34m\u001b[0m\u001b[0m\n\u001b[0;32m-> 1505\u001b[0;31m         \u001b[0mself\u001b[0m\u001b[0;34m.\u001b[0m\u001b[0m_recompute_transform\u001b[0m\u001b[0;34m(\u001b[0m\u001b[0;34m)\u001b[0m\u001b[0;34m\u001b[0m\u001b[0;34m\u001b[0m\u001b[0m\n\u001b[0m\u001b[1;32m   1506\u001b[0m         \u001b[0;32mreturn\u001b[0m \u001b[0mself\u001b[0m\u001b[0;34m.\u001b[0m\u001b[0m_patch_transform\u001b[0m\u001b[0;34m\u001b[0m\u001b[0;34m\u001b[0m\u001b[0m\n\u001b[1;32m   1507\u001b[0m \u001b[0;34m\u001b[0m\u001b[0m\n",
      "\u001b[0;32m/opt/anaconda3/lib/python3.7/site-packages/matplotlib/patches.py\u001b[0m in \u001b[0;36m_recompute_transform\u001b[0;34m(self)\u001b[0m\n\u001b[1;32m   1494\u001b[0m             \u001b[0;34m.\u001b[0m\u001b[0mscale\u001b[0m\u001b[0;34m(\u001b[0m\u001b[0mwidth\u001b[0m \u001b[0;34m*\u001b[0m \u001b[0;36m0.5\u001b[0m\u001b[0;34m,\u001b[0m \u001b[0mheight\u001b[0m \u001b[0;34m*\u001b[0m \u001b[0;36m0.5\u001b[0m\u001b[0;34m)\u001b[0m\u001b[0;31m \u001b[0m\u001b[0;31m\\\u001b[0m\u001b[0;34m\u001b[0m\u001b[0;34m\u001b[0m\u001b[0m\n\u001b[1;32m   1495\u001b[0m             \u001b[0;34m.\u001b[0m\u001b[0mrotate_deg\u001b[0m\u001b[0;34m(\u001b[0m\u001b[0mself\u001b[0m\u001b[0;34m.\u001b[0m\u001b[0mangle\u001b[0m\u001b[0;34m)\u001b[0m\u001b[0;31m \u001b[0m\u001b[0;31m\\\u001b[0m\u001b[0;34m\u001b[0m\u001b[0;34m\u001b[0m\u001b[0m\n\u001b[0;32m-> 1496\u001b[0;31m             \u001b[0;34m.\u001b[0m\u001b[0mtranslate\u001b[0m\u001b[0;34m(\u001b[0m\u001b[0;34m*\u001b[0m\u001b[0mcenter\u001b[0m\u001b[0;34m)\u001b[0m\u001b[0;34m\u001b[0m\u001b[0;34m\u001b[0m\u001b[0m\n\u001b[0m\u001b[1;32m   1497\u001b[0m \u001b[0;34m\u001b[0m\u001b[0m\n\u001b[1;32m   1498\u001b[0m     \u001b[0;32mdef\u001b[0m \u001b[0mget_path\u001b[0m\u001b[0;34m(\u001b[0m\u001b[0mself\u001b[0m\u001b[0;34m)\u001b[0m\u001b[0;34m:\u001b[0m\u001b[0;34m\u001b[0m\u001b[0;34m\u001b[0m\u001b[0m\n",
      "\u001b[0;32m/opt/anaconda3/lib/python3.7/site-packages/matplotlib/transforms.py\u001b[0m in \u001b[0;36mtranslate\u001b[0;34m(self, tx, ty)\u001b[0m\n\u001b[1;32m   1969\u001b[0m         \"\"\"\n\u001b[1;32m   1970\u001b[0m         translate_mtx = np.array(\n\u001b[0;32m-> 1971\u001b[0;31m             [[1.0, 0.0, tx], [0.0, 1.0, ty], [0.0, 0.0, 1.0]], float)\n\u001b[0m\u001b[1;32m   1972\u001b[0m         \u001b[0mself\u001b[0m\u001b[0;34m.\u001b[0m\u001b[0m_mtx\u001b[0m \u001b[0;34m=\u001b[0m \u001b[0mnp\u001b[0m\u001b[0;34m.\u001b[0m\u001b[0mdot\u001b[0m\u001b[0;34m(\u001b[0m\u001b[0mtranslate_mtx\u001b[0m\u001b[0;34m,\u001b[0m \u001b[0mself\u001b[0m\u001b[0;34m.\u001b[0m\u001b[0m_mtx\u001b[0m\u001b[0;34m)\u001b[0m\u001b[0;34m\u001b[0m\u001b[0;34m\u001b[0m\u001b[0m\n\u001b[1;32m   1973\u001b[0m         \u001b[0mself\u001b[0m\u001b[0;34m.\u001b[0m\u001b[0minvalidate\u001b[0m\u001b[0;34m(\u001b[0m\u001b[0;34m)\u001b[0m\u001b[0;34m\u001b[0m\u001b[0;34m\u001b[0m\u001b[0m\n",
      "\u001b[0;31mValueError\u001b[0m: setting an array element with a sequence."
     ]
    },
    {
     "data": {
      "text/plain": [
       "<Figure size 1440x720 with 1 Axes>"
      ]
     },
     "metadata": {
      "needs_background": "light"
     },
     "output_type": "display_data"
    }
   ],
   "source": [
    "run(ncyc = 2000000, ensemble = system)"
   ]
  },
  {
   "cell_type": "code",
   "execution_count": 28,
   "metadata": {
    "scrolled": false
   },
   "outputs": [
    {
     "name": "stdout",
     "output_type": "stream",
     "text": [
      "{0: array([28.09334   , 25.58379685]), 1: array([28.1817156, 24.849093 ])}\n",
      "{0: array([ 3.62135081, 19.02324187]), 1: array([ 4.3533935 , 19.13147081])}\n",
      "{0: array([23.3455635, 20.8513533]), 1: array([24.01642345, 20.53902827])}\n",
      "[ 0.08384913 11.64794276]\n",
      "[ 0.95211879 14.4286133 ]\n",
      "{0: array([11.72958549,  5.18187702]), 1: array([12.78546557,  3.96779373])}\n",
      "{0: array([10.17905296,  2.71433552]), 1: array([10.83602431,  4.18310019])}\n",
      "[16.75248315  0.93399619]\n",
      "[ 4.74201431 29.45678758]\n",
      "[1.51365026 6.94910461]\n",
      "[29.24181687 11.87630031]\n",
      "{0: array([28.14139245,  4.67428021]), 1: array([27.90769144,  3.08234276])}\n",
      "{0: array([28.06711281,  3.82983583]), 1: array([29.00981031,  5.13375394])}\n"
     ]
    }
   ],
   "source": [
    "for i in system.configuration:\n",
    "    print(i.pos)"
   ]
  },
  {
   "cell_type": "code",
   "execution_count": 30,
   "metadata": {},
   "outputs": [
    {
     "data": {
      "text/plain": [
       "array([<__main__.H2 object at 0x7fc275d03b00>,\n",
       "       <__main__.H2 object at 0x7fc275d03eb8>,\n",
       "       <__main__.H2 object at 0x7fc275d03400>,\n",
       "       <__main__.Iodide object at 0x7fc275fab7b8>,\n",
       "       <__main__.Iodide object at 0x7fc275fab7f0>,\n",
       "       <__main__.HI object at 0x7fc275fab048>,\n",
       "       <__main__.HI object at 0x7fc275fab8d0>,\n",
       "       <__main__.Iodide object at 0x7fc275d031d0>,\n",
       "       <__main__.Iodide object at 0x7fc275fab710>,\n",
       "       <__main__.Iodide object at 0x7fc275d03f28>,\n",
       "       <__main__.Iodide object at 0x7fc275fab908>,\n",
       "       <__main__.HI object at 0x7fc275fab9e8>,\n",
       "       <__main__.HI object at 0x7fc275fab978>], dtype=object)"
      ]
     },
     "execution_count": 30,
     "metadata": {},
     "output_type": "execute_result"
    }
   ],
   "source": [
    "a = system.configuration\n",
    "a\n",
    "\n"
   ]
  },
  {
   "cell_type": "code",
   "execution_count": 52,
   "metadata": {},
   "outputs": [
    {
     "ename": "PicklingError",
     "evalue": "Can't pickle <class '__main__.H2'>: it's not the same object as __main__.H2",
     "output_type": "error",
     "traceback": [
      "\u001b[0;31m---------------------------------------------------------------------------\u001b[0m",
      "\u001b[0;31mPicklingError\u001b[0m                             Traceback (most recent call last)",
      "\u001b[0;32m<ipython-input-52-dfe5ef12f6bc>\u001b[0m in \u001b[0;36m<module>\u001b[0;34m\u001b[0m\n\u001b[1;32m      2\u001b[0m \u001b[0;34m\u001b[0m\u001b[0m\n\u001b[1;32m      3\u001b[0m \u001b[0;32mwith\u001b[0m \u001b[0mopen\u001b[0m\u001b[0;34m(\u001b[0m\u001b[0;34m\"config_2m.p\"\u001b[0m\u001b[0;34m,\u001b[0m \u001b[0;34m\"wb\"\u001b[0m\u001b[0;34m)\u001b[0m \u001b[0;32mas\u001b[0m \u001b[0mfp\u001b[0m\u001b[0;34m:\u001b[0m\u001b[0;34m\u001b[0m\u001b[0;34m\u001b[0m\u001b[0m\n\u001b[0;32m----> 4\u001b[0;31m     \u001b[0mpickle\u001b[0m\u001b[0;34m.\u001b[0m\u001b[0mdump\u001b[0m\u001b[0;34m(\u001b[0m\u001b[0msystem\u001b[0m\u001b[0;34m.\u001b[0m\u001b[0mconfiguration\u001b[0m\u001b[0;34m,\u001b[0m \u001b[0mfp\u001b[0m\u001b[0;34m)\u001b[0m\u001b[0;34m\u001b[0m\u001b[0;34m\u001b[0m\u001b[0m\n\u001b[0m",
      "\u001b[0;31mPicklingError\u001b[0m: Can't pickle <class '__main__.H2'>: it's not the same object as __main__.H2"
     ]
    }
   ],
   "source": [
    "import pickle\n",
    "\n",
    "with open(\"config_2m.p\", \"wb\") as fp:\n",
    "    pickle.dump(system.configuration, fp)\n"
   ]
  },
  {
   "cell_type": "code",
   "execution_count": 51,
   "metadata": {},
   "outputs": [
    {
     "data": {
      "text/plain": [
       "388566"
      ]
     },
     "execution_count": 51,
     "metadata": {},
     "output_type": "execute_result"
    }
   ],
   "source": [
    "len(system.configuration_total_energies)"
   ]
  },
  {
   "cell_type": "code",
   "execution_count": 61,
   "metadata": {},
   "outputs": [],
   "source": [
    "holo = [{0: np.array([28.09334   , 25.58379685]), 1: np.array([28.1817156, 24.849093 ])},\n",
    "{0: np.array([ 3.62135081, 19.02324187]), 1: np.array([ 4.3533935 , 19.13147081])},\n",
    "{0: np.array([23.3455635, 20.8513533]), 1: np.array([24.01642345, 20.53902827])},\n",
    "[ 0.08384913, 11.64794276],\n",
    "[ 0.95211879, 14.4286133 ],\n",
    "{0: np.array([11.72958549,  5.18187702]), 1: np.array([12.78546557,  3.96779373])},\n",
    "{0: np.array([10.17905296,  2.71433552]), 1: np.array([10.83602431,  4.18310019])},\n",
    "[16.75248315,  0.93399619],\n",
    "[ 4.74201431, 29.45678758],\n",
    "[1.51365026, 6.94910461],\n",
    "[29.24181687, 11.87630031],\n",
    "{0: np.array([28.14139245,  4.67428021]), 1: np.array([27.90769144,  3.08234276])},\n",
    "{0: np.array([28.06711281,  3.82983583]), 1: np.array([29.00981031,  5.13375394])}]"
   ]
  },
  {
   "cell_type": "code",
   "execution_count": 65,
   "metadata": {
    "scrolled": false
   },
   "outputs": [
    {
     "ename": "SyntaxError",
     "evalue": "invalid syntax (<ipython-input-65-1296b79ae464>, line 4)",
     "output_type": "error",
     "traceback": [
      "\u001b[0;36m  File \u001b[0;32m\"<ipython-input-65-1296b79ae464>\"\u001b[0;36m, line \u001b[0;32m4\u001b[0m\n\u001b[0;31m    if holo.index(atom) any([0, 1, 2]):\u001b[0m\n\u001b[0m                          ^\u001b[0m\n\u001b[0;31mSyntaxError\u001b[0m\u001b[0;31m:\u001b[0m invalid syntax\n"
     ]
    }
   ],
   "source": [
    "fig, ax = plt.subplots(figsize=(20,10))\n",
    "for atom in holo:\n",
    "    if isinstance(atom, dict):\n",
    "        if holo.index(atom) any([0, 1, 2]):\n",
    "            plt.scatter(atom[0][0], atom[0][1], c = \"black\", s = 10)\n",
    "            plt.scatter(atom[1][0], atom[1][1], c = \"red\", s = 10)\n",
    "            plt.plot([atom[0][0], atom[1][0]], [atom[0][1], atom[1][1]])\n",
    "            ax.add_artist(plt.Circle((atom[0][0], atom[0][1]), 1, fill = False))\n",
    "            ax.add_artist(plt.Circle((atom[1][0], atom[1][1]), 1, fill = False))\n",
    "        elif holo.index(atom) in [5,6,11,12]:\n",
    "            plt.scatter(atom[0][0], atom[0][1], c = \"black\", s = 10)\n",
    "            plt.scatter(atom[1][0], atom[1][1], c = \"red\", s = 10)\n",
    "            plt.plot([atom[0][0], atom[1][0]], [atom[0][1], atom[1][1]])\n",
    "            ax.add_artist(plt.Circle((atom[0][0], atom[0][1]), 1, fill = False))\n",
    "            ax.add_artist(plt.Circle((atom[1][0], atom[1][1]), 1, fill = False))\n",
    "    else:\n",
    "        plt.scatter(atom[0], atom[1], c = \"black\", s = 1)\n",
    "        ax.add_artist(plt.Circle((atom[0], atom[1]), 2.666, fill = False))\n",
    "plt.xlim([0, 30])\n",
    "plt.ylim([0, 30])\n",
    "#plt.title(title)\n",
    "ax.set_aspect('equal')\n",
    "fig.show()"
   ]
  },
  {
   "cell_type": "code",
   "execution_count": 64,
   "metadata": {},
   "outputs": [
    {
     "data": {
      "text/plain": [
       "1"
      ]
     },
     "execution_count": 64,
     "metadata": {},
     "output_type": "execute_result"
    }
   ],
   "source": [
    "z = [1,2,3]\n",
    "z.index(2)"
   ]
  },
  {
   "cell_type": "markdown",
   "metadata": {},
   "source": [
    "# GUASSIAN"
   ]
  },
  {
   "cell_type": "code",
   "execution_count": null,
   "metadata": {},
   "outputs": [],
   "source": [
    "\n",
    "def pulse(t):\n",
    "    #guassian form\n",
    "    return np.exp(-(1/1500)*t**2)\n",
    "total = integrate(pulse, -120, 120)[0]\n",
    "integrate(pulse, -55, 23)[0]/total"
   ]
  },
  {
   "cell_type": "code",
   "execution_count": null,
   "metadata": {},
   "outputs": [],
   "source": [
    "class Animal():\n",
    "    def __init__(self, a):\n",
    "        self.a = a\n",
    "        self.b = 1\n",
    "        self.c = 1\n",
    "        self.e = 55\n",
    "    def return_c(self):\n",
    "        return self.c\n",
    "    def holo(self):\n",
    "        self.e += 100\n",
    "    \n",
    "class Dog(Animal):\n",
    "    def __init__(self, a):\n",
    "        Animal.__init__(self, a)\n",
    "bob = Dog(5)"
   ]
  },
  {
   "cell_type": "code",
   "execution_count": null,
   "metadata": {},
   "outputs": [],
   "source": [
    "bob.e\n",
    "bob.holo()\n",
    "bob.e\n",
    "type(bob)"
   ]
  },
  {
   "cell_type": "code",
   "execution_count": null,
   "metadata": {},
   "outputs": [],
   "source": [
    "issubclass(type(bob), Diatomic)"
   ]
  },
  {
   "cell_type": "code",
   "execution_count": null,
   "metadata": {},
   "outputs": [],
   "source": [
    "type(bob)"
   ]
  },
  {
   "cell_type": "code",
   "execution_count": null,
   "metadata": {},
   "outputs": [],
   "source": [
    "isinstance(bob, Dog)"
   ]
  },
  {
   "cell_type": "code",
   "execution_count": null,
   "metadata": {},
   "outputs": [],
   "source": [
    "if 5 == 5 == 5:\n",
    "    print(\"a\")"
   ]
  },
  {
   "cell_type": "code",
   "execution_count": null,
   "metadata": {},
   "outputs": [],
   "source": [
    "arr = [1,2,3]\n",
    "\n",
    "def a(arr2):\n",
    "    arr2.append(5)\n",
    "\n",
    "print(arr)\n",
    "a(arr)\n",
    "print(arr)"
   ]
  },
  {
   "cell_type": "code",
   "execution_count": null,
   "metadata": {},
   "outputs": [],
   "source": [
    "arr = np.array([1,2,3])\n",
    "def a(arr2):\n",
    "    arr2[0] += 54\n",
    "a(arr)\n",
    "arr"
   ]
  },
  {
   "cell_type": "code",
   "execution_count": null,
   "metadata": {},
   "outputs": [],
   "source": [
    "def pulse(t):\n",
    "    #guassian form\n",
    "    return 100*np.exp(-(1/500)*(t-60)**2)\n",
    "\n",
    "total_pulse_area = integrate(pulse, 0, 120)[0]"
   ]
  },
  {
   "cell_type": "code",
   "execution_count": null,
   "metadata": {},
   "outputs": [],
   "source": [
    "a = np.arange(0, 120, dt)\n",
    "for t in a:\n",
    "    print((integrate(pulse, t, t+dt)[0]/total_pulse_area) * 100)"
   ]
  },
  {
   "cell_type": "code",
   "execution_count": null,
   "metadata": {},
   "outputs": [],
   "source": [
    "t = 119\n",
    "if t + dt > 120:\n",
    "    t += dt - 120\n",
    "t"
   ]
  },
  {
   "cell_type": "code",
   "execution_count": 85,
   "metadata": {},
   "outputs": [],
   "source": []
  },
  {
   "cell_type": "code",
   "execution_count": 83,
   "metadata": {},
   "outputs": [
    {
     "name": "stdout",
     "output_type": "stream",
     "text": [
      "296 786\n",
      "421.98531513654075 1116.4442017999697\n",
      "1.4256260646504755 1.420412470483422\n"
     ]
    },
    {
     "data": {
      "image/png": "[encoded data removed]",
      "text/plain": [
       "<Figure size 360x360 with 1 Axes>"
      ]
     },
     "metadata": {
      "needs_background": "light"
     },
     "output_type": "display_data"
    },
    {
     "data": {
      "image/png": "[encoded data removed]",
      "text/plain": [
       "<Figure size 360x360 with 1 Axes>"
      ]
     },
     "metadata": {
      "needs_background": "light"
     },
     "output_type": "display_data"
    }
   ],
   "source": [
    "times = 10000000\n",
    "dist = []\n",
    "for i in range(times):\n",
    "    x = rand_vel_comp(4.652e-26, 300)\n",
    "    y = rand_vel_comp(4.652e-26, 300)\n",
    "    dist.append(math.sqrt(x**2 + y**2))\n",
    "\n",
    "plt.figure(figsize=(5,5))\n",
    "plt.hist(dist)\n",
    "plt.xlim(0, 5000)\n",
    "\n",
    "dist2 = []\n",
    "for i in range(times):\n",
    "    x = rand_vel_comp(6.646e-27, 300)\n",
    "    y = rand_vel_comp(6.646e-27, 300)\n",
    "    dist2.append(math.sqrt(x**2 + y**2))\n",
    "plt.figure(figsize=(5,5))\n",
    "plt.hist(dist2)\n",
    "plt.xlim(0, 5000)\n",
    "\n",
    "counts = np.bincount(dist)\n",
    "n2max=np.argmax(counts)\n",
    "counts2 = np.bincount(dist2)\n",
    "h2max = np.argmax(counts2)\n",
    "\n",
    "\n",
    "vmph2 = math.sqrt((2*(1.38064852e-23)*300)/(6.646e-27))\n",
    "vmpn2 = math.sqrt((2*(1.38064852e-23)*300)/(4.652e-26))\n",
    "print(n2max, h2max)\n",
    "print(vmpn2, vmph2)\n",
    "print(vmpn2/n2max, vmph2/h2max)"
   ]
  },
  {
   "cell_type": "code",
   "execution_count": 84,
   "metadata": {},
   "outputs": [
    {
     "name": "stdout",
     "output_type": "stream",
     "text": [
      "2.0324096762108015 2.0175715863048183\n"
     ]
    }
   ],
   "source": [
    "print((vmpn2/n2max)**2, (vmph2/h2max)**2)"
   ]
  },
  {
   "cell_type": "code",
   "execution_count": 91,
   "metadata": {},
   "outputs": [
    {
     "data": {
      "text/plain": [
       "'\\ndist2 = []\\nfor i in range(times):\\n    x = rand_vel_comp(H2, 300)\\n    y = rand_vel_comp(H2, 300)\\n    z = rand_vel_comp(H2, 300)\\n    dist2.append(math.sqrt(x**2 + y**2 + z**2))\\nplt.figure(figsize=(5,5))\\nplt.hist(dist2)\\nplt.xlim(0, 2000)\\n'"
      ]
     },
     "execution_count": 91,
     "metadata": {},
     "output_type": "execute_result"
    },
    {
     "data": {
      "image/png": "[encoded data removed]",
      "text/plain": [
       "<Figure size 360x360 with 1 Axes>"
      ]
     },
     "metadata": {
      "needs_background": "light"
     },
     "output_type": "display_data"
    }
   ],
   "source": [
    "N2 = 4.652e-26\n",
    "O2 = (2.6566962e-26)*2\n",
    "H2 = 6.646e-27\n",
    "Ar = 6.6335209e-26\n",
    "times = 1000000\n",
    "dist = []\n",
    "for i in range(times):\n",
    "    x = rand_vel_comp(O2, 300)\n",
    "    y = rand_vel_comp(O2, 300)\n",
    "    z = rand_vel_comp(O2, 300)\n",
    "    dist.append(math.sqrt(x**2 + y**2 + z**2))\n",
    "\n",
    "plt.figure(figsize=(5,5))\n",
    "plt.hist(dist)\n",
    "plt.xlim(0, 1200)\n",
    "\n",
    "'''\n",
    "dist2 = []\n",
    "for i in range(times):\n",
    "    x = rand_vel_comp(H2, 300)\n",
    "    y = rand_vel_comp(H2, 300)\n",
    "    z = rand_vel_comp(H2, 300)\n",
    "    dist2.append(math.sqrt(x**2 + y**2 + z**2))\n",
    "plt.figure(figsize=(5,5))\n",
    "plt.hist(dist2)\n",
    "plt.xlim(0, 2000)\n",
    "'''"
   ]
  },
  {
   "cell_type": "code",
   "execution_count": 93,
   "metadata": {},
   "outputs": [
    {
     "name": "stdout",
     "output_type": "stream",
     "text": [
      "0.9996181898511626\n"
     ]
    }
   ],
   "source": [
    "counts = np.bincount(dist)\n",
    "o2max=np.argmax(counts)\n",
    "vmpo2 = math.sqrt((2*(1.38064852e-23)*300)/(O2))\n",
    "print(vmpo2/o2max)"
   ]
  },
  {
   "cell_type": "code",
   "execution_count": 135,
   "metadata": {},
   "outputs": [],
   "source": [
    "Ar = 6.6335209e-26\n",
    "dist = []\n",
    "for i in range(1000000):\n",
    "    x = rand_vel_comp(Ar, 300)\n",
    "    y = rand_vel_comp(Ar, 300)\n",
    "    z = rand_vel_comp(Ar, 300)\n",
    "    dist.append(math.sqrt(x**2 + y**2 + z**2))"
   ]
  },
  {
   "cell_type": "code",
   "execution_count": 136,
   "metadata": {},
   "outputs": [
    {
     "name": "stdout",
     "output_type": "stream",
     "text": [
      "\n"
     ]
    },
    {
     "data": {
      "image/png": "[encoded data removed]",
      "text/plain": [
       "<Figure size 360x360 with 1 Axes>"
      ]
     },
     "metadata": {
      "needs_background": "light"
     },
     "output_type": "display_data"
    }
   ],
   "source": [
    "plt.figure(figsize=(5,5))\n",
    "maximum = max(np.bincount(dist))\n",
    "plt.hist(dist, bins=range(int(min(dist)), int(max(dist)), 1), density = True)\n",
    "print()"
   ]
  },
  {
   "cell_type": "code",
   "execution_count": 125,
   "metadata": {},
   "outputs": [
    {
     "data": {
      "text/plain": [
       "400"
      ]
     },
     "execution_count": 125,
     "metadata": {},
     "output_type": "execute_result"
    }
   ],
   "source": [
    "maximum"
   ]
  },
  {
   "cell_type": "code",
   "execution_count": 128,
   "metadata": {},
   "outputs": [
    {
     "data": {
      "text/plain": [
       "3994"
      ]
     },
     "execution_count": 128,
     "metadata": {},
     "output_type": "execute_result"
    }
   ],
   "source": [
    "max(np.bincount(dist))"
   ]
  },
  {
   "cell_type": "code",
   "execution_count": null,
   "metadata": {},
   "outputs": [],
   "source": []
  }
 ],
 "metadata": {
  "kernelspec": {
   "display_name": "Python 3",
   "language": "python",
   "name": "python3"
  },
  "language_info": {
   "codemirror_mode": {
    "name": "ipython",
    "version": 3
   },
   "file_extension": ".py",
   "mimetype": "text/x-python",
   "name": "python",
   "nbconvert_exporter": "python",
   "pygments_lexer": "ipython3",
   "version": "3.7.3"
  }
 },
 "nbformat": 4,
 "nbformat_minor": 2
}
