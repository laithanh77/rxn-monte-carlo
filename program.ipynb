{
 "cells": [
  {
   "cell_type": "markdown",
   "metadata": {},
   "source": [
    "class Particle3D():\n",
    "    def __init__(self, system, spawn = False):\n",
    "        '''\n",
    "        Calls the spawn method\n",
    "        Parameters:\n",
    "        system is a reference to a list that contains information of all the particles and their coordinates\n",
    "        '''\n",
    "        self.mass = 1\n",
    "        self.vdw = 1\n",
    "        if spawn:\n",
    "            self.Spawn()\n",
    "\n",
    "    def Draw(self):\n",
    "        '''\n",
    "        draw the particle. returns none\n",
    "        '''\n",
    "        ax = fig.gca(projection='3d')\n",
    "        ax.scatter(self.x, self.y, self.z, c = \"black\", s = 0.5)\n",
    "        #ax.add_artist(plt.Circle((self.x, self.y), self.vdw, fill = False))\n",
    "        #plt.axis([0, xlim, 0, ylim])\n",
    "        #plt.axis('equal')\n",
    "        \n",
    "    \n",
    "    def Check_VDW_Collision(self, particle, k = 1):\n",
    "        '''\n",
    "        Parameters: k is a scaling factor for collision\n",
    "        returns True if there exists a particle within self's vdw radius\n",
    "        '''\n",
    "        return ((particle.x - self.x)**2 + (particle.y - self.y)**2 + (particle.z - self.z)**2)**(1/2) <= (self.vdw + particle.vdw)*k\n",
    "\n",
    "    def Spawn(self):\n",
    "        '''\n",
    "        Attempts to generate valid x,y positions for itself. Uses system list to identify valid positions. If no valid position\n",
    "        is found, the particle is garbage collected(?)\n",
    "\n",
    "        Spawning will either no longer consider vdw radius or some fractional vdw radius if a decent equilibration method for the system is used\n",
    "        '''\n",
    "        global error_spawn_ct\n",
    "        for attempt in range(N+50):\n",
    "            self.x = rand.uniform(0, xlim)\n",
    "            self.y = rand.uniform(0, ylim)\n",
    "            self.z = rand.uniform(0, zlim)\n",
    "            if not any((self.x, self.y, self.z) == (particle.x, particle.y, particle.z) or self.Check_VDW_Collision(particle) for particle in system):\n",
    "                #if particle spawns on top of another one or it is too close to another particle then attempt a new spawn\n",
    "                break\n",
    "\n",
    "        else:\n",
    "            #print(\"Molecule failed to spawn!\")\n",
    "            error_spawn_ct += 1\n",
    "            return None #i think so long as system doesnt append the object when it fails to spawn, no reference therefore will be garbage collected??\n",
    "        system.append(self)\n",
    "        #print(\"Particle spawned!\")\n",
    "\n",
    "class Water():\n",
    "    def __init__(self):\n",
    "        #atom: [[connected to atom 2, connected to atom 3],[distance to atom 2, distance to atom 3], [angle to NEXT atom]]\n",
    "        #initial coordinates\n",
    "        self.xi = rand.uniform(xlim)\n",
    "        self.yi = rand.uniform(ylim)\n",
    "        self.zi = rand.uniform(zlim)\n",
    "        matrix = OrderedDict({Particle3D: [[1],[0.96], [180]], Particle3D: [[0,2], [0.96, 0.96], [104.50]], Particle3D: [[1],[0.96], [180]]})\n",
    "\n",
    "    \n",
    "    def Draw(self):\n",
    "        ax = fig.gca(projection='3d')\n",
    "        for i,atom in enumerate(matrix.keys()):\n",
    "            if i == 0:\n",
    "                #the reference coordinate (randomized upon instantiation) is given to the first atom of the matrix.continue\n",
    "                #then, the reference coordinate is changed by bond length of the next connected atom, and theta/phi is randomized\n",
    "                ax.scatter(self.xi, self.yi, self.zi, c = \"black\", s = atom.vdw)\n",
    "                coord[atom] = [xi, yi, zi]\n",
    "                th = rand.random(0, 2*math.pi)\n",
    "                phi = rand.random(0, 2*math.pi)\n",
    "                r = matrix[atom][1]\n",
    "                self.xi += r * math.cos(th) * math.sin(phi) #change the reference coordinates by some random theta and phi with experimental bond length\n",
    "                self.yi += r * math.sin(th) * math.sin(phi)\n",
    "                self.zi += r * math.cos(phi)\n",
    "                continue\n",
    "            #building on subsequent atoms\n",
    "            \n",
    "\n",
    "            "
   ]
  },
  {
   "cell_type": "code",
   "execution_count": 4,
   "metadata": {},
   "outputs": [],
   "source": [
    "%%capture\n",
    "from tqdm import tqdm_notebook as tqdm\n",
    "tqdm().pandas()\n",
    "from tqdm import tnrange\n",
    "from tqdm import trange"
   ]
  },
  {
   "cell_type": "code",
   "execution_count": 5,
   "metadata": {},
   "outputs": [],
   "source": [
    "%matplotlib inline\n",
    "from collections import OrderedDict\n",
    "import matplotlib.pyplot as plt\n",
    "from IPython.display import display, clear_output\n",
    "import time\n",
    "import random as rand\n",
    "import math\n",
    "from math import exp\n",
    "from mpl_toolkits.mplot3d import Axes3D as plt3d\n",
    "import numpy as np\n",
    "import time\n",
    "#fig, ax = plt.subplots(figsize=(20,10))"
   ]
  },
  {
   "cell_type": "code",
   "execution_count": 6,
   "metadata": {},
   "outputs": [],
   "source": [
    "#simulation parameters\n",
    "xlim = 10 #angstrom\n",
    "ylim = 10\n",
    "zlim = 10\n",
    "N = 3 #particles\n",
    "error_spawn_ct = 0 #count of failed spawn\n",
    "T = 300 #temperature, Kelvin\n",
    "kb = 1.38064852e-23 #boltzmann constant J/K\n",
    "B = (kb*T)**-1 #beta"
   ]
  },
  {
   "cell_type": "code",
   "execution_count": 7,
   "metadata": {},
   "outputs": [],
   "source": [
    "def distance(atom1, atom2):\n",
    "    #gives distance between atom\n",
    "    return ((atom1.x - atom2.x)**2 + (atom1.y - atom2.y)**2)**(1/2)\n",
    "\n",
    "class Ensemble():\n",
    "    #basically a numpy array containing objects but with more functionalities\n",
    "    def __init__(self):\n",
    "        self.configuration = np.array([])\n",
    "        self.configuration_total_energies = np.array([]) #during sampling, any accepted configuration will have its energy sotred in this list.\n",
    "    \n",
    "    def __getitem__(self, key):\n",
    "        return self.configuration[key]\n",
    "    \n",
    "    def __setitem__(self, key, value):\n",
    "        self.configuration[key] = value\n",
    "\n",
    "    def append(self, value):\n",
    "        self.configuration = np.append(self.configuration, value)\n",
    "\n",
    "    def Calculate_VDW(self):\n",
    "        #pairwise calculation & i != j\n",
    "        for i in self.configuration:\n",
    "            i.V = 0\n",
    "            for j in self.configuration:\n",
    "                if i == j:\n",
    "                    continue\n",
    "                d = distance(i, j)\n",
    "                #Lorentz-Berthelot mixing rule\n",
    "                si = (i.sigma + j.sigma)/2 \n",
    "                ep = (i.epsilon * j.epsilon)**1/2\n",
    "                i.V += (4 * ep * ((si/d)**12 - (si/d)**6)) #joules\n",
    "    \n",
    "    def Energy_Total(self):\n",
    "        self.Calculate_VDW()\n",
    "        return sum(atom.V for atom in self.configuration)\n",
    "    \n",
    "    def AcceptanceRule(self, Uo, Ut):\n",
    "        #Canonical acceptance function\n",
    "        try:\n",
    "            return min(1, exp((-1)*B*(Ut - Uo)))\n",
    "        except OverflowError:\n",
    "            print(\"Overflow error! - Ensemble.AcceptanceRule()\")\n",
    "            return 1\n",
    "\n",
    "    def Cycle(self):\n",
    "        atom = self.configuration[rand.randint(0, len(self.configuration) - 1)] #in the current configuration (system), select a random atom\n",
    "        #rigid translation\n",
    "        low = -0.001\n",
    "        high = 0.001\n",
    "        xo = atom.x #old/current x of the selected atom\n",
    "        yo = atom.y\n",
    "        xt = atom.x + rand.uniform(low, high) #x trial\n",
    "        yt = atom.x + rand.uniform(low, high) #y trial\n",
    "\n",
    "        while True:\n",
    "            while xt < 0 or xt > xlim:\n",
    "                #print('2')\n",
    "                xt = atom.x + rand.uniform(low, high)\n",
    "                while any((xt, yt) == (particle.x, particle.y) for particle in self.configuration):\n",
    "                    #print('1')\n",
    "                    xt = atom.x + rand.uniform(low, high) #x trial\n",
    "                    yt = atom.x + rand.uniform(low, high) #y trial\n",
    "            #else:\n",
    "                #print('2e')\n",
    "                    \n",
    "            while yt < 0 or yt > ylim:\n",
    "                #print('3')\n",
    "                yt = atom.x + rand.uniform(low, high)\n",
    "                while any((xt, yt) == (particle.x, particle.y) for particle in self.configuration):\n",
    "                    #print('1')\n",
    "                    xt = atom.x + rand.uniform(low, high) #x trial\n",
    "                    yt = atom.x + rand.uniform(low, high) #y trial\n",
    "            #else:\n",
    "                #print('3e')\n",
    "\n",
    "            break\n",
    "        \n",
    "        Uo = self.Energy_Total() # Uo is total system of OLD/current configuration\n",
    "        atom.x = xt #change atom coordinates to trial ones\n",
    "        atom.y = yt\n",
    "        Ut = self.Energy_Total()\n",
    "        if rand.uniform(0,1) < self.AcceptanceRule(Uo, Ut):\n",
    "            #accept Ut\n",
    "            self.configuration_total_energies = np.append(self.configuration_total_energies, Ut)\n",
    "            return\n",
    "        else:\n",
    "            #reject Ut\n",
    "            atom.x = xo\n",
    "            atom.y = yo\n",
    "            self.configuration_total_energies = np.append(self.configuration_total_energies, Uo)\n",
    "\n",
    "\n",
    "    def Average(self, configuration_energies):\n",
    "        #takes in an array containing energies corresponding to a sampled configuration\n",
    "        #evaluates average energy by probaility weighting\n",
    "        numerator = 0\n",
    "        denominator = 0\n",
    "        for i in range(len(configuration_energies)):\n",
    "            numerator += (configuration_energies[i] * exp((-1)*B*self.configuration_total_energies[i]))\n",
    "            denominator += exp((-1)*B*self.configuration_total_energies[i])\n",
    "        return numerator/denominator\n",
    "\n",
    "        \n",
    "\n",
    "\n",
    "\n",
    "class Particle():\n",
    "    def __init__(self, ensemble):\n",
    "        '''\n",
    "        Calls the spawn method\n",
    "        Parameters:\n",
    "        ensemble is a reference to a list that contains information of all the particles and their coordinates\n",
    "        '''\n",
    "        self.mass = 1\n",
    "        self.vdw = 0.38 #angstrom\n",
    "        self.sigma = 2.782 #angstrom; Ramírez and Herrero: http://www.sklogwiki.org/SklogWiki/index.php/Neon\n",
    "        self.epsilon = 5.1485944e-13 #joules\n",
    "        self.V = 0\n",
    "        self.Spawn()\n",
    "\n",
    "    def Draw(self):\n",
    "        '''\n",
    "        draw the particle. returns none\n",
    "        '''\n",
    "\n",
    "        plt.scatter(self.x, self.y, c = \"black\", s = 1)\n",
    "        ax.add_artist(plt.Circle((self.x, self.y), self.vdw, fill = False))\n",
    "        plt.axis([0, xlim, 0, ylim])\n",
    "        plt.axis('equal')\n",
    "        \n",
    "    \n",
    "    def Check_VDW_Collision(self, particle, k = 1):\n",
    "        '''\n",
    "        Parameters: k is a scaling factor for collision\n",
    "        returns True if there exists a particle within self's vdw radius\n",
    "        '''\n",
    "        return distance(self, particle) <= (self.vdw + particle.vdw)*k\n",
    "\n",
    "    def Spawn(self):\n",
    "        '''\n",
    "        Attempts to generate valid x,y positions for itself. Uses ensemble list to identify valid positions. If no valid position\n",
    "        is found, the particle is garbage collected(?)\n",
    "\n",
    "        Spawning will either no longer consider vdw radius or some fractional vdw radius if a decent equilibration method for the ensemble is used\n",
    "        '''\n",
    "        global error_spawn_ct\n",
    "        for attempt in range(N+50):\n",
    "            self.x = rand.uniform(0, xlim)\n",
    "            self.y = rand.uniform(0, ylim)\n",
    "            if not any((self.x, self.y) == (particle.x, particle.y) or self.Check_VDW_Collision(particle) for particle in ensemble):\n",
    "                #if particle spawns on top of another one or it is too close to another particle then attempt a new spawn\n",
    "                break\n",
    "\n",
    "        else:\n",
    "            #print(\"Molecule failed to spawn!\")\n",
    "            error_spawn_ct += 1\n",
    "            return None #i think so long as system doesnt append the object when it fails to spawn, no reference therefore will be garbage collected??\n",
    "        ensemble.append(self)\n",
    "        #print(\"Particle spawned!\")"
   ]
  },
  {
   "cell_type": "markdown",
   "metadata": {},
   "source": [
    "fig, ax = plt.subplots(figsize=(20,10))\n",
    "plt.axis('off')\n",
    "#plt.xlim(0, 100)\n",
    "#plt.ylim(0, 100)\n",
    "system = [] #list containing all obj\n",
    "\n",
    "#randomly generate 50 particles\n",
    "\n",
    "#if force field -> vdw; if electrostatics then must have charges. can do inert gases (vdw only). or just use partition fnctions to get average energies for each molecule\n",
    "for i in range(N):\n",
    "    Particle(system)\n",
    "\n",
    "for particle in system:\n",
    "    particle.Draw()\n",
    "\n",
    "print(\"Failed to spawn:\", error_spawn_ct)\n",
    "print(\"Spawned:\", N-error_spawn_ct)"
   ]
  },
  {
   "cell_type": "markdown",
   "metadata": {},
   "source": [
    "fig = plt.figure()\n",
    "fig, ax = plt.subplots(figsize=(20,10))\n",
    "ax = fig.gca(projection='3d')\n",
    "ax.grid(True)\n",
    "ax.scatter(1,2,3)"
   ]
  },
  {
   "cell_type": "code",
   "execution_count": 5,
   "metadata": {},
   "outputs": [
    {
     "data": {
      "image/png": "[encoded data removed]",
      "text/plain": [
       "<Figure size 1440x720 with 1 Axes>"
      ]
     },
     "metadata": {
      "needs_background": "light"
     },
     "output_type": "display_data"
    }
   ],
   "source": [
    "fig, ax = plt.subplots(figsize=(20,10))\n",
    "plt.axis('off')\n",
    "plt.xlim(0, 100)\n",
    "plt.ylim(0, 100)\n",
    "\n",
    "\n",
    "ensemble = Ensemble()\n",
    "N = 10\n",
    "for i in range(N):\n",
    "    Particle(ensemble)\n",
    "for particle in ensemble:\n",
    "    particle.Draw()"
   ]
  },
  {
   "cell_type": "code",
   "execution_count": 6,
   "metadata": {},
   "outputs": [
    {
     "name": "stderr",
     "output_type": "stream",
     "text": [
      "100%|██████████| 1000000/1000000 [1:18:08<00:00, 213.27it/s]\n"
     ]
    },
    {
     "name": "stdout",
     "output_type": "stream",
     "text": [
      "Initial: 1.6914939868275361e-18 Joules\n",
      "Final: 2.0085058468003923e-20 Joules\n",
      "Elapsed time (simulation): 4688.824090003967\n",
      "Ensemble Average: 1.5158280828833766e-20 Joules\n",
      "Elapsed time (averaging): 1.8153250217437744\n"
     ]
    },
    {
     "data": {
      "text/plain": [
       "[<matplotlib.lines.Line2D at 0x7f93f915af60>]"
      ]
     },
     "execution_count": 6,
     "metadata": {},
     "output_type": "execute_result"
    },
    {
     "data": {
      "image/png": "[encoded data removed]",
      "text/plain": [
       "<Figure size 1440x720 with 1 Axes>"
      ]
     },
     "metadata": {
      "needs_background": "light"
     },
     "output_type": "display_data"
    }
   ],
   "source": [
    "#ensemble = Ensemble()\n",
    "#N = 30\n",
    "#for i in range(N):\n",
    "#    Particle(ensemble)\n",
    "ncyc =1000000\n",
    "y = [ensemble.Energy_Total()]\n",
    "start_time = time.time()\n",
    "\n",
    "\n",
    "for i in trange(ncyc):\n",
    "    #print(i)\n",
    "    ensemble.Cycle()\n",
    "    y.append(ensemble.Energy_Total()) m\n",
    "\n",
    "    \n",
    "elapsed_time = time.time() - start_time\n",
    "print(\"Initial:\", y[0], \"Joules\")\n",
    "print(\"Final:\", y[-1], \"Joules\")\n",
    "print(\"Elapsed time (simulation):\", elapsed_time)\n",
    "start_time = time.time()\n",
    "print(\"Ensemble Average:\", ensemble.Average(ensemble.configuration_total_energies), \"Joules\")\n",
    "elapsed_time = time.time() - start_time\n",
    "print(\"Elapsed time (averaging):\", elapsed_time)\n",
    "\n",
    "x = range(0, len(y))\n",
    "\n",
    "fig, ax = plt.subplots(figsize=(20,10))\n",
    "plt.plot(x,y)"
   ]
  },
  {
   "cell_type": "code",
   "execution_count": 8,
   "metadata": {},
   "outputs": [
    {
     "ename": "NameError",
     "evalue": "name 'ensemble' is not defined",
     "output_type": "error",
     "traceback": [
      "\u001b[0;31m---------------------------------------------------------------------------\u001b[0m",
      "\u001b[0;31mNameError\u001b[0m                                 Traceback (most recent call last)",
      "\u001b[0;32m<ipython-input-8-09c5ac9c9790>\u001b[0m in \u001b[0;36m<module>\u001b[0;34m\u001b[0m\n\u001b[1;32m      3\u001b[0m \u001b[0mplt\u001b[0m\u001b[0;34m.\u001b[0m\u001b[0mxlim\u001b[0m\u001b[0;34m(\u001b[0m\u001b[0;36m0\u001b[0m\u001b[0;34m,\u001b[0m \u001b[0;36m100\u001b[0m\u001b[0;34m)\u001b[0m\u001b[0;34m\u001b[0m\u001b[0;34m\u001b[0m\u001b[0m\n\u001b[1;32m      4\u001b[0m \u001b[0mplt\u001b[0m\u001b[0;34m.\u001b[0m\u001b[0mylim\u001b[0m\u001b[0;34m(\u001b[0m\u001b[0;36m0\u001b[0m\u001b[0;34m,\u001b[0m \u001b[0;36m100\u001b[0m\u001b[0;34m)\u001b[0m\u001b[0;34m\u001b[0m\u001b[0;34m\u001b[0m\u001b[0m\n\u001b[0;32m----> 5\u001b[0;31m \u001b[0;32mfor\u001b[0m \u001b[0mparticle\u001b[0m \u001b[0;32min\u001b[0m \u001b[0mensemble\u001b[0m\u001b[0;34m:\u001b[0m\u001b[0;34m\u001b[0m\u001b[0;34m\u001b[0m\u001b[0m\n\u001b[0m\u001b[1;32m      6\u001b[0m     \u001b[0mparticle\u001b[0m\u001b[0;34m.\u001b[0m\u001b[0mDraw\u001b[0m\u001b[0;34m(\u001b[0m\u001b[0;34m)\u001b[0m\u001b[0;34m\u001b[0m\u001b[0;34m\u001b[0m\u001b[0m\n",
      "\u001b[0;31mNameError\u001b[0m: name 'ensemble' is not defined"
     ]
    },
    {
     "data": {
      "image/png": "[encoded data removed]",
      "text/plain": [
       "<Figure size 1440x720 with 1 Axes>"
      ]
     },
     "metadata": {
      "needs_background": "light"
     },
     "output_type": "display_data"
    }
   ],
   "source": [
    "fig, ax = plt.subplots(figsize=(20,10))\n",
    "plt.axis('off')\n",
    "plt.xlim(0, 100)\n",
    "plt.ylim(0, 100)\n",
    "for particle in ensemble:\n",
    "    particle.Draw()"
   ]
  },
  {
   "cell_type": "code",
   "execution_count": null,
   "metadata": {},
   "outputs": [],
   "source": [
    "my_list = list(range(100))\n",
    "for x in tqdm(my_list):\n",
    "    x+=1"
   ]
  },
  {
   "cell_type": "code",
   "execution_count": null,
   "metadata": {},
   "outputs": [],
   "source": []
  }
 ],
 "metadata": {
  "kernelspec": {
   "display_name": "Python 3",
   "language": "python",
   "name": "python3"
  },
  "language_info": {
   "codemirror_mode": {
    "name": "ipython",
    "version": 3
   },
   "file_extension": ".py",
   "mimetype": "text/x-python",
   "name": "python",
   "nbconvert_exporter": "python",
   "pygments_lexer": "ipython3",
   "version": "3.7.3"
  }
 },
 "nbformat": 4,
 "nbformat_minor": 2
}
