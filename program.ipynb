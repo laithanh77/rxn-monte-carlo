{
 "cells": [
  {
   "cell_type": "code",
   "execution_count": 1,
   "metadata": {},
   "outputs": [],
   "source": [
    "%%capture\n",
    "from tqdm import tqdm_notebook as tqdm\n",
    "tqdm().pandas()\n",
    "from tqdm import tnrange\n",
    "from tqdm import trange"
   ]
  },
  {
   "cell_type": "code",
   "execution_count": 2,
   "metadata": {},
   "outputs": [],
   "source": [
    "%matplotlib inline\n",
    "from collections import OrderedDict\n",
    "import matplotlib.pyplot as plt\n",
    "from IPython.display import display, clear_output\n",
    "import time\n",
    "import random as rand\n",
    "import math\n",
    "from math import exp\n",
    "from mpl_toolkits.mplot3d import Axes3D as plt3d\n",
    "import numpy as np\n",
    "import time\n",
    "#fig, ax = plt.subplots(figsize=(20,10))"
   ]
  },
  {
   "cell_type": "code",
   "execution_count": 130,
   "metadata": {},
   "outputs": [],
   "source": [
    "#avg dt = 2.9116223400000000865\n",
    "\n",
    "def distance(atom1, atom2):\n",
    "    #gives distance between atom\n",
    "    return ((atom1.x - atom2.x)**2 + (atom1.y - atom2.y)**2)**(1/2)\n",
    "\n",
    "class Ensemble():\n",
    "    #basically a numpy array containing objects but with more functionalities\n",
    "    def __init__(self, N = 1, lim = (20, 20), T = 300):\n",
    "        self.configuration = np.array([])\n",
    "        self.lim = lim\n",
    "        self.T = T\n",
    "        self.B = ((1.38064852e-23) * T)**-1\n",
    "        #for i in range(N):\n",
    "        #    self.Spawn(N)\n",
    "        for i in range(N):\n",
    "            self.Spawn_Diatomic(N)\n",
    "        #during sampling, any accepted configuration will have its energy sotred in this list.\n",
    "        self.configuration_total_energies = np.array([self.Energy_Total()])\n",
    "    def __getitem__(self, key):\n",
    "        return self.configuration[key]\n",
    "    \n",
    "    def __setitem__(self, key, value):\n",
    "        self.configuration[key] = value\n",
    "\n",
    "    def append(self, value):\n",
    "        self.configuration = np.append(self.configuration, value)\n",
    "    \n",
    "    def Distance(self, atom1, atom2):\n",
    "    #gives distance between atom\n",
    "        return ((atom1.x - atom2.x)**2 + (atom1.y - atom2.y)**2)**(1/2)\n",
    "    \n",
    "    def Check_VDW_Collision(self, testAtom, atom, k = 1):\n",
    "        '''\n",
    "        Parameters: k is a scaling factor for collision\n",
    "        returns True if there exists a atom within testAtom's vdw radius\n",
    "        '''\n",
    "        return self.Distance(testAtom, atom) <= (testAtom.vdw + atom.vdw)*k\n",
    "    \n",
    "    def Spawn(self, N):\n",
    "        #deprecated\n",
    "        for attempt in range(N+50):\n",
    "            testAtom = Atom(rand.uniform(0, self.lim[0]), rand.uniform(0, self.lim[1]))\n",
    "            if not any((testAtom.x, testAtom.y) == (atom.x, atom.y) or self.Check_VDW_Collision(testAtom, atom) for atom in self.configuration):\n",
    "                self.configuration = np.append(self.configuration, testAtom)\n",
    "                #print(\"INITIAL:\", (testAtom.x, testAtom.y))\n",
    "                break\n",
    "\n",
    "        else:\n",
    "            print(\"Failed to spawn!\")\n",
    "            return None\n",
    "        return None\n",
    "    \n",
    "    def Spawn_Diatomic(self, N):\n",
    "        pos1 = np.array((rand.uniform(0+10, self.lim[0]-10), rand.uniform(0+10, self.lim[1]-10)))\n",
    "        dx = rand.uniform(-2.666, 2.666)\n",
    "        pos2 = np.array((pos1[0]+dx,(2.666**2-(dx)**2)**0.5+pos1[1]))\n",
    "        \n",
    "        \n",
    "        self.configuration = np.append(self.configuration, I2({0: pos1, 1: pos2}))\n",
    "    \n",
    "    def Calculate_VDW(self):\n",
    "        #pairwise calculation & i != j\n",
    "        for i in self.configuration:\n",
    "            i.V = 0\n",
    "            for j in self.configuration:\n",
    "                if i == j:\n",
    "                    continue\n",
    "                d = np.linalg.norm(i.getPosc() - j.getPosc())\n",
    "                #Lorentz-Berthelot mixing rule\n",
    "                si = (i.sigma + j.sigma)/2 \n",
    "                ep = (i.epsilon * j.epsilon)**1/2\n",
    "                i.V += (4 * ep * ((si/d)**12 - (si/d)**6)) #joules\n",
    "    \n",
    "    def Energy_Total(self):\n",
    "        self.Calculate_VDW()\n",
    "        return sum(atom.V for atom in self.configuration)\n",
    "    \n",
    "    def AcceptanceRule(self, Uo, Ut):\n",
    "        #Canonical acceptance function\n",
    "        try:\n",
    "            return min(1, exp((-1)*self.B*(Ut - Uo)))\n",
    "        except OverflowError:\n",
    "            print(\"Overflow error! - Ensemble.AcceptanceRule()\")\n",
    "            return 1\n",
    "    \n",
    "    def Cycle(self):\n",
    "        particle = self.configuration[rand.randint(0, len(self.configuration) - 1)] #select random particle\n",
    "        pos_old = particle.pos\n",
    "        if rand.uniform(0, 1.0) < 0.5: #50% chance for translation\n",
    "            #translation\n",
    "            #print(\"Translation\")\n",
    "            pos_trial = particle.Translate(self.configuration, self.lim)\n",
    "        else:\n",
    "            #rotation\n",
    "            #print(\"Rotation\")\n",
    "            pos_trial = particle.Rotate(self.configuration, self.lim)\n",
    "            \n",
    "        Uo = self.Energy_Total() # Uo is total system of OLD/current configuration\n",
    "        particle.pos = pos_trial \n",
    "        Ut = self.Energy_Total()\n",
    "        if rand.uniform(0,1) < self.AcceptanceRule(Uo, Ut):\n",
    "            #accept Ut\n",
    "            self.configuration_total_energies = np.append(self.configuration_total_energies, Ut)\n",
    "            return\n",
    "        else:\n",
    "            #reject Ut\n",
    "            particle.pos = pos_old\n",
    "            #could it be double-counting if this is uncommented?\n",
    "            #self.configuration_total_energies = np.append(self.configuration_total_energies, Uo)\n",
    "    \n",
    "    def Cycle_deprecated(self):\n",
    "        atom = self.configuration[rand.randint(0, len(self.configuration) - 1)] #in the current configuration (system), select a random atom\n",
    "        #rigid translation\n",
    "        low = -0.01\n",
    "        high = 0.01\n",
    "        xo = atom.x #old/current x of the selected atom\n",
    "        yo = atom.y\n",
    "        xt = atom.x + rand.uniform(low, high) #x trial\n",
    "        yt = atom.y + rand.uniform(low, high) #y trial\n",
    "        #print(\"xt: {0}, yt: {1}\".format(xt, yt))\n",
    "        #print(abs(xo-xt), abs(yo-yt))\n",
    "\n",
    "        while True:\n",
    "            while xt < 0 or xt > self.lim[0]:\n",
    "                #print('2')\n",
    "                xt = atom.x + rand.uniform(low, high)\n",
    "                while any((xt, yt) == (otherAtom.x, otherAtom.y) for otherAtom in self.configuration):\n",
    "                    #print('1')\n",
    "                    xt = atom.x + rand.uniform(low, high) #x trial\n",
    "                    yt = atom.y + rand.uniform(low, high) #y trial\n",
    "            #else:\n",
    "                #print('2e')\n",
    "                    \n",
    "            while yt < 0 or yt > self.lim[1]:\n",
    "                #print('3')\n",
    "                yt = atom.y + rand.uniform(low, high)\n",
    "                while any((xt, yt) == (otherAtom.x, otherAtom.y) for otherAtom in self.configuration):\n",
    "                    #print('1')\n",
    "                    xt = atom.x + rand.uniform(low, high) #x trial\n",
    "                    yt = atom.y + rand.uniform(low, high) #y trial\n",
    "            #else:\n",
    "                #print('3e')\n",
    "\n",
    "            break\n",
    "        \n",
    "        Uo = self.Energy_Total() # Uo is total system of OLD/current configuration\n",
    "        atom.x = xt #change atom coordinates to trial ones\n",
    "        atom.y = yt\n",
    "        Ut = self.Energy_Total()\n",
    "        if rand.uniform(0,1) < self.AcceptanceRule(Uo, Ut):\n",
    "            #accept Ut\n",
    "            self.configuration_total_energies = np.append(self.configuration_total_energies, Ut)\n",
    "            return\n",
    "        else:\n",
    "            #reject Ut\n",
    "            atom.x = xo\n",
    "            atom.y = yo\n",
    "            self.configuration_total_energies = np.append(self.configuration_total_energies, Uo)\n",
    "\n",
    "    \n",
    "    def Average(self):\n",
    "        #takes in an array containing energies corresponding to a sampled configuration\n",
    "        #evaluates average energy by probaility weighting\n",
    "        numerator = 0\n",
    "        denominator = 0\n",
    "        for i in range(len(self.configuration_total_energies)):\n",
    "            numerator += (self.configuration_total_energies[i] * exp((-1)*self.B*self.configuration_total_energies[i]))\n",
    "            denominator += exp((-1)*self.B*self.configuration_total_energies[i])\n",
    "        return numerator/denominator\n",
    "\n",
    "    def Plot(self, title = \"\"):\n",
    "        fig, ax = plt.subplots(figsize=(20,10))\n",
    "        for atom in self.configuration:\n",
    "            if isinstance(atom, Diatomic):\n",
    "                plt.scatter(atom.pos[0][0], atom.pos[0][1], c = \"black\", s = 5)\n",
    "                plt.scatter(atom.pos[1][0], atom.pos[1][1], c = \"red\", s = 10)\n",
    "                plt.plot([atom.pos[0][0], atom.pos[1][0]], [atom.pos[0][1], atom.pos[1][1]])\n",
    "                ax.add_artist(plt.Circle((atom.pos[0][0], atom.pos[0][1]), atom.vdw, fill = False))\n",
    "                ax.add_artist(plt.Circle((atom.pos[1][0], atom.pos[1][1]), atom.vdw, fill = False))\n",
    "            else:\n",
    "                plt.scatter(atom.x, atom.y, c = \"black\", s = 1)\n",
    "                ax.add_artist(plt.Circle((atom.x, atom.y), atom.vdw, fill = False))\n",
    "        plt.xlim([0, self.lim[0]])\n",
    "        plt.ylim([0, self.lim[1]])\n",
    "        plt.title(title)\n",
    "        ax.set_aspect('equal')\n",
    "\n",
    "class Atom():\n",
    "    def __init__(self, pos, sigma, epsilon, vdw, mass):\n",
    "        '''\n",
    "        '''\n",
    "        #default parameters = argon\n",
    "        self.kb = 1.38064852e-23\n",
    "        self.mass = mass\n",
    "        self.vdw = vdw #angstrom...just random value of previous proposed\n",
    "        self.sigma = sigma # mourits and rummens. Can. J. Chem. 55, 3007 (1977)\n",
    "        self.epsilon = epsilon #joules, mourits and rummens. Can. J. Chem. 55, 3007 (1977)\n",
    "        self.V = 0\n",
    "        self.posc = np.array([x,y]) #center position, which is the same as position\n",
    "        #self.x = x\n",
    "        #self.y = y\n",
    "    \n",
    "    def getPosc(self):\n",
    "        #redundant but creating this method so that certain lines of codes are universal regardless of\n",
    "        #Atom or Diatomic type objects.\n",
    "        return self.posc\n",
    "\n",
    "class Iodide(Atom):\n",
    "    def __init__(self, pos):\n",
    "        self.kb = 1.38064852e-23\n",
    "        #initialized with argon parameters...will change later\n",
    "        Atom.__init__(self, pos, sigma = 3.465, epsilon = 113.5*self.kb, vdw = 1.98, mass = 2.1072981168e-25)\n",
    "\n",
    "        \n",
    "class Diatomic():\n",
    "    def __init__(self, pos, sigma, epsilon, bond_length, vdw, mass):\n",
    "        #default parameters = I2\n",
    "        #I2 bond length = 2.666 A\n",
    "        self.kb = 1.38064852e-23\n",
    "        self.sigma = sigma \n",
    "        self.epsilon = epsilon\n",
    "        self.bond_length = bond_length #Angstrom\n",
    "        self.vdw = vdw\n",
    "        self.pos = pos #dictionary. key = atom, value = np.array([x_coord, y_coord])\n",
    "        self.V = 0 #potential energy\n",
    "        self.mass = mass\n",
    "    \n",
    "    def getPosc(self):\n",
    "        #return center position coordinates\n",
    "        return np.array([(self.pos[0][0] + self.pos[1][0])/2,(self.pos[0][1] + self.pos[1][1])/2]) \n",
    "    \n",
    "    def __ccw(self, A,B,C):\n",
    "        # source: https://stackoverflow.com/questions/70528/why-are-pythons-private-methods-not-actually-private\n",
    "        return (C[1]-A[1]) * (B[0]-A[0]) > (B[1]-A[1]) * (C[0]-A[0])\n",
    "\n",
    "    def __If_Intersect(self, A,B,C,D):\n",
    "        # source: https://stackoverflow.com/questions/70528/why-are-pythons-private-methods-not-actually-private\n",
    "        # Return true if line segments AB and CD intersect\n",
    "        return self.__ccw(A,C,D) != self.__ccw(B,C,D) and self.__ccw(A,B,C) != self.__ccw(A,B,D)\n",
    "    \n",
    "    \n",
    "    def __If_Collision(self, pos_test, configuration):\n",
    "        if any(np.array_equal(self.pos[0], otherParticle.pos[0]) for otherParticle in configuration if otherParticle is not self) or \\\n",
    "            any(np.array_equal(self.pos[1], otherParticle.pos[1]) for otherParticle in configuration if otherParticle is not self):\n",
    "            print(\"Collision! Atom overlap\")\n",
    "            return True\n",
    "        if any(self.__If_Intersect(self.pos[0], self.pos[1], otherParticle.pos[0], otherParticle.pos[1]) \\\n",
    "               for otherParticle in configuration if otherParticle is not self):\n",
    "            print(\"Collision! Bond overlap\")\n",
    "            return True\n",
    "        return False\n",
    "    \n",
    "    def Translate(self, configuration, lim):\n",
    "        #return trial coordinates after translation. does not update self's coordinates\n",
    "        low = -0.01\n",
    "        high = 0.01\n",
    "        dx = rand.uniform(low, high)\n",
    "        dy = rand.uniform(low, high)\n",
    "        pos_trial = {0: self.pos[0] + [dx, dy], 1: self.pos[1] + [dx, dy]}\n",
    "        attempts = 0\n",
    "        while self.__If_Collision(pos_trial, configuration) or \\\n",
    "                any(pos_trial[0] + [self.vdw, self.vdw] > lim) or any(pos_trial[1] + [self.vdw,  self.vdw] > lim) or \\\n",
    "                any(pos_trial[0] < [0,0]) or any(pos_trial[1] < [0,0]) or attempts < 100:\n",
    "            #print(\"Rerolling translation coordinates\")\n",
    "            dx = rand.uniform(low, high)\n",
    "            dy = rand.uniform(low, high)\n",
    "            pos_trial = {0: self.pos[0] + [dx, dy], 1: self.pos[1] + [dx, dy]}\n",
    "            attempts += 1\n",
    "        return pos_trial\n",
    "        \n",
    "    def Rotate(self, configuration, lim):\n",
    "        #returns trial coordinates after rotation. does not update self's coordinates\n",
    "        cx = (self.pos[0][0] + self.pos[1][0])/2 #center x\n",
    "        cy = (self.pos[0][1] + self.pos[1][1])/2 #center y\n",
    "        th = rand.uniform(0, 2*math.pi) #random theta\n",
    "        \n",
    "        #trial x coordinate for atom 1\n",
    "        x1t = ((self.pos[0][0] - cx) * math.cos(th) + (self.pos[0][1] - cy) * math.sin(th) ) + cx \n",
    "        #trial y coordinate for atom 1\n",
    "        y1t = (-(self.pos[0][0] - cx) * math.sin(th) + (self.pos[0][1] - cy) * math.cos(th) ) + cy \n",
    "        \n",
    "        #trial x coordinate for atom 2\n",
    "        x2t = ((self.pos[1][0] - cx) * math.cos(th) + (self.pos[1][1] - cy) * math.sin(th) ) + cx \n",
    "        #trial y coordinate for atom 2\n",
    "        y2t = (-(self.pos[1][0] - cx) * math.sin(th) + (self.pos[1][1] - cy) * math.cos(th) ) + cy \n",
    "        \n",
    "        pos_trial = {0: np.array([x1t, y1t]), 1: np.array([x2t, y2t])}\n",
    "        attempts = 0\n",
    "        while self.__If_Collision(pos_trial, configuration) or \\\n",
    "                any(pos_trial[0] + [self.vdw, self.vdw] > lim) or any(pos_trial[1] + [self.vdw,  self.vdw] > lim) or \\\n",
    "                any(pos_trial[0] < [0,0]) or any(pos_trial[1] < [0,0]) or attempts < 100:\n",
    "            #print(\"Rerolling rotation\")\n",
    "            th = rand.uniform(0, 2*math.pi) #random theta\n",
    "        \n",
    "            #trial x coordinate for atom 1\n",
    "            x1t = ((self.pos[0][0] - cx) * math.cos(th) + (self.pos[0][1] - cy) * math.sin(th) ) + cx \n",
    "            #trial y coordinate for atom 1\n",
    "            y1t = (-(self.pos[0][0] - cx) * math.sin(th) + (self.pos[0][1] - cy) * math.cos(th) ) + cy \n",
    "\n",
    "            #trial x coordinate for atom 2\n",
    "            x2t = ((self.pos[1][0] - cx) * math.cos(th) + (self.pos[1][1] - cy) * math.sin(th) ) + cx \n",
    "            #trial y coordinate for atom 2\n",
    "            y2t = (-(self.pos[1][0] - cx) * math.sin(th) + (self.pos[1][1] - cy) * math.cos(th) ) + cy \n",
    "\n",
    "            pos_trial = {0: np.array([x1t, y1t]), 1: np.array([x2t, y2t])}\n",
    "            attempts += 1\n",
    "        return pos_trial\n",
    "    \n",
    "\n",
    "\n",
    "class H2(Diatomic):\n",
    "    def __init__(self, pos):\n",
    "        self.kb = 1.38064852e-23\n",
    "        #parameters from I2...fix later\n",
    "        Diatomic.__init__(self, pos, sigma = 4.630, epsilon = 577.4 * self.kb, bond_length = 2.666, vdw = 1.98, \\\n",
    "                          mass = 4.2145962337e-25)\n",
    "        \n",
    "class HI(Diatomic):\n",
    "    def __init__(self, pos):\n",
    "        self.kb = 1.38064852e-23\n",
    "        #parameters from I2...fix later, except bond length which is 1.609\n",
    "        #pos 1 is H, pos 2 is I\n",
    "        Diatomic.__init__(self, pos, sigma = 4.630, epsilon = 577.4 * self.kb, bond_length = 1.609, vdw = 1.98, \\\n",
    "                          mass = 4.2145962337e-25)\n",
    "\n",
    "\n",
    "class I2(Diatomic):\n",
    "    def __init__(self, pos):\n",
    "        #sigma & epsilon values: Mourits and Rummens. Can. J. Chem. 55, 3007 (1977)\n",
    "        self.kb = 1.38064852e-23\n",
    "        Diatomic.__init__(self, pos, sigma = 4.630, epsilon = 577.4 * self.kb, bond_length = 2.666, vdw = 1.98, \\\n",
    "                          mass = 4.2145962337e-25)\n",
    "        \n",
    "    def Dissociation(self, system, lim):\n",
    "        for particle in system.configuration:\n",
    "            if isinstance(particle, H2):\n",
    "                print(\"holo\")\n",
    "                #add tolerance\n",
    "                #if ((particle.getPosc()[0] - pos[0][0])/(pos[1][0]-pos[0][0]) == \\\n",
    "                #    (particle.getPosc()[1] - pos[0][1])/(pos[1][1]-pos[0][1])):\n",
    "                    #if H2 center is colinear with I2\n",
    "                H_1 = particle.pos[0] #hydrogen 1\n",
    "                H_2 = particle.pos[1] #hydrogen 2\n",
    "\n",
    "                d = (H_1 - H_2)/np.linalg.norm(H_1-H_2) #normalized vector distance between the two hydrogens\n",
    "                #0: H, 1: I\n",
    "                system.configuration = np.append(system.configuration, (HI({0:H_1, 1:H_1+d*1.609})))\n",
    "                system.configuration = np.append(system.configuration, (HI({0:H_2, 1:H_2+d*-1.609})))\n",
    "                #configuration = np.delete(configuration, np.argwhere(configuration == particle))\n",
    "                #|configuration = np.delete(configuration, np.argwhere(configuration == self))\n",
    "        \n",
    "        \n",
    "def run(ncyc, N = 1, lim = (20, 20), T = 300, ensemble = None, animation = False, dframe = 0.001):\n",
    "    #initialize system\n",
    "    if ensemble == None:\n",
    "        ensemble = Ensemble(N, lim, T)\n",
    "        ensemble.Plot(\"Initial Configuration\")\n",
    "    else:\n",
    "        ensemble.Plot(\"Initial Configuration\")\n",
    "    #start simulation\n",
    "    y = [ensemble.Energy_Total()]\n",
    "    start_time = time.time()\n",
    "    for i in trange(ncyc):\n",
    "        ensemble.Cycle()\n",
    "        y.append(ensemble.Energy_Total())\n",
    "        if animation:\n",
    "            fig = ensemble.Plot()\n",
    "            clear_output(wait=True) # Clear output for dynamic display\n",
    "            display(fig)            # Reset display\n",
    "            fig.clear()             # Prevent overlapping and layered plots\n",
    "            time.sleep(dframe)\n",
    "    print(\"Elapsed time:\", time.time() - start_time, \"(s)\")\n",
    "    print(\"Initial energy:\", y[0], \"(J)\")\n",
    "    print(\"Final energy:\", y[-1], \"(J)\")\n",
    "    print(\"Average energy:\", ensemble.Average(),\"(J)\")\n",
    "\n",
    "    ensemble.Plot(\"Final Configuration\")\n",
    "    x = range(0, len(y))\n",
    "    fig, ax = plt.subplots(figsize=(20,10))\n",
    "    plt.plot(x,y)\n",
    "    plt.xlim([0, ncyc])\n",
    "    plt.ylim([min(y), max(y)])\n",
    "    plt.title(\"Total Energy vs. Cycle\")\n",
    "    return ensemble"
   ]
  },
  {
   "cell_type": "code",
   "execution_count": 131,
   "metadata": {},
   "outputs": [
    {
     "data": {
      "text/plain": [
       "array([<__main__.I2 object at 0x7fb08ee11a90>,\n",
       "       <__main__.H2 object at 0x7fb08ee11278>], dtype=object)"
      ]
     },
     "execution_count": 131,
     "metadata": {},
     "output_type": "execute_result"
    },
    {
     "data": {
      "image/png": "[encoded data removed]",
      "text/plain": [
       "<Figure size 1440x720 with 1 Axes>"
      ]
     },
     "metadata": {
      "needs_background": "light"
     },
     "output_type": "display_data"
    }
   ],
   "source": [
    "system = Ensemble(1, lim = (50, 50))\n",
    "system.configuration = np.append(system.configuration, H2({0:np.array([25, 25]), 1:np.array([27,27])}))\n",
    "system.Plot()\n",
    "system.configuration"
   ]
  },
  {
   "cell_type": "code",
   "execution_count": 132,
   "metadata": {},
   "outputs": [
    {
     "name": "stdout",
     "output_type": "stream",
     "text": [
      "holo\n"
     ]
    },
    {
     "data": {
      "image/png": "[encoded data removed]",
      "text/plain": [
       "<Figure size 1440x720 with 1 Axes>"
      ]
     },
     "metadata": {
      "needs_background": "light"
     },
     "output_type": "display_data"
    }
   ],
   "source": [
    "a = [1]\n",
    "system.configuration[0].Dissociation(system, lim = (50, 50))\n",
    "system.Plot()"
   ]
  },
  {
   "cell_type": "code",
   "execution_count": 133,
   "metadata": {},
   "outputs": [
    {
     "data": {
      "text/plain": [
       "array([<__main__.I2 object at 0x7fb08ee11a90>,\n",
       "       <__main__.H2 object at 0x7fb08ee11278>,\n",
       "       <__main__.HI object at 0x7fb08ee19390>,\n",
       "       <__main__.HI object at 0x7fb08ee19ef0>], dtype=object)"
      ]
     },
     "execution_count": 133,
     "metadata": {},
     "output_type": "execute_result"
    }
   ],
   "source": [
    "system.configuration"
   ]
  },
  {
   "cell_type": "code",
   "execution_count": 114,
   "metadata": {},
   "outputs": [
    {
     "data": {
      "text/plain": [
       "[1]"
      ]
     },
     "execution_count": 114,
     "metadata": {},
     "output_type": "execute_result"
    }
   ],
   "source": [
    "a"
   ]
  },
  {
   "cell_type": "code",
   "execution_count": 59,
   "metadata": {},
   "outputs": [
    {
     "name": "stderr",
     "output_type": "stream",
     "text": [
      "/opt/anaconda3/lib/python3.7/site-packages/numpy/linalg/linalg.py:2475: FutureWarning: elementwise comparison failed; returning scalar instead, but in the future will perform elementwise comparison\n",
      "  (ord in ('f', 'fro') and ndim == 2) or\n"
     ]
    },
    {
     "ename": "ValueError",
     "evalue": "The truth value of an array with more than one element is ambiguous. Use a.any() or a.all()",
     "output_type": "error",
     "traceback": [
      "\u001b[0;31m---------------------------------------------------------------------------\u001b[0m",
      "\u001b[0;31mValueError\u001b[0m                                Traceback (most recent call last)",
      "\u001b[0;32m<ipython-input-59-c5462ec133aa>\u001b[0m in \u001b[0;36m<module>\u001b[0;34m\u001b[0m\n\u001b[0;32m----> 1\u001b[0;31m \u001b[0mnp\u001b[0m\u001b[0;34m.\u001b[0m\u001b[0mlinalg\u001b[0m\u001b[0;34m.\u001b[0m\u001b[0mnorm\u001b[0m\u001b[0;34m(\u001b[0m\u001b[0msystem\u001b[0m\u001b[0;34m.\u001b[0m\u001b[0mconfiguration\u001b[0m\u001b[0;34m[\u001b[0m\u001b[0;36m0\u001b[0m\u001b[0;34m]\u001b[0m\u001b[0;34m.\u001b[0m\u001b[0mpos\u001b[0m\u001b[0;34m[\u001b[0m\u001b[0;36m0\u001b[0m\u001b[0;34m]\u001b[0m\u001b[0;34m,\u001b[0m\u001b[0msystem\u001b[0m\u001b[0;34m.\u001b[0m\u001b[0mconfiguration\u001b[0m\u001b[0;34m[\u001b[0m\u001b[0;36m0\u001b[0m\u001b[0;34m]\u001b[0m\u001b[0;34m.\u001b[0m\u001b[0mpos\u001b[0m\u001b[0;34m[\u001b[0m\u001b[0;36m1\u001b[0m\u001b[0;34m]\u001b[0m\u001b[0;34m)\u001b[0m\u001b[0;34m\u001b[0m\u001b[0;34m\u001b[0m\u001b[0m\n\u001b[0m",
      "\u001b[0;32m<__array_function__ internals>\u001b[0m in \u001b[0;36mnorm\u001b[0;34m(*args, **kwargs)\u001b[0m\n",
      "\u001b[0;32m/opt/anaconda3/lib/python3.7/site-packages/numpy/linalg/linalg.py\u001b[0m in \u001b[0;36mnorm\u001b[0;34m(x, ord, axis, keepdims)\u001b[0m\n\u001b[1;32m   2474\u001b[0m         if ((ord is None) or\n\u001b[1;32m   2475\u001b[0m             \u001b[0;34m(\u001b[0m\u001b[0mord\u001b[0m \u001b[0;32min\u001b[0m \u001b[0;34m(\u001b[0m\u001b[0;34m'f'\u001b[0m\u001b[0;34m,\u001b[0m \u001b[0;34m'fro'\u001b[0m\u001b[0;34m)\u001b[0m \u001b[0;32mand\u001b[0m \u001b[0mndim\u001b[0m \u001b[0;34m==\u001b[0m \u001b[0;36m2\u001b[0m\u001b[0;34m)\u001b[0m \u001b[0;32mor\u001b[0m\u001b[0;34m\u001b[0m\u001b[0;34m\u001b[0m\u001b[0m\n\u001b[0;32m-> 2476\u001b[0;31m             (ord == 2 and ndim == 1)):\n\u001b[0m\u001b[1;32m   2477\u001b[0m \u001b[0;34m\u001b[0m\u001b[0m\n\u001b[1;32m   2478\u001b[0m             \u001b[0mx\u001b[0m \u001b[0;34m=\u001b[0m \u001b[0mx\u001b[0m\u001b[0;34m.\u001b[0m\u001b[0mravel\u001b[0m\u001b[0;34m(\u001b[0m\u001b[0morder\u001b[0m\u001b[0;34m=\u001b[0m\u001b[0;34m'K'\u001b[0m\u001b[0;34m)\u001b[0m\u001b[0;34m\u001b[0m\u001b[0;34m\u001b[0m\u001b[0m\n",
      "\u001b[0;31mValueError\u001b[0m: The truth value of an array with more than one element is ambiguous. Use a.any() or a.all()"
     ]
    }
   ],
   "source": [
    "np.linalg.norm(system.configuration[0].pos[0],system.configuration[0].pos[1])"
   ]
  },
  {
   "cell_type": "code",
   "execution_count": 63,
   "metadata": {},
   "outputs": [
    {
     "data": {
      "text/plain": [
       "1.0"
      ]
     },
     "execution_count": 63,
     "metadata": {},
     "output_type": "execute_result"
    }
   ],
   "source": [
    "a = system.configuration[0].pos[0]\n",
    "b = system.configuration[0].pos[1]\n",
    "np.linalg.norm(a-b)\n",
    "np.linalg.norm((a-b)/2.666)"
   ]
  },
  {
   "cell_type": "code",
   "execution_count": 64,
   "metadata": {},
   "outputs": [
    {
     "data": {
      "image/png": "[encoded data removed]",
      "text/plain": [
       "<Figure size 1440x720 with 1 Axes>"
      ]
     },
     "metadata": {
      "needs_background": "light"
     },
     "output_type": "display_data"
    }
   ],
   "source": [
    "H1 = system.configuration[0].pos[0]\n",
    "H2 = system.configuration[0].pos[1]\n",
    "\n",
    "d = (H1 - H2)/np.linalg.norm(H1-H2)\n",
    "#0: H, 1: I\n",
    "pos1 = {0:H1, 1:H1+d*1.609}\n",
    "pos2 = {0:H2, 1:H2+d*-1.609}\n",
    "\n",
    "system.configuration = np.append(system.configuration, HI(pos1))\n",
    "system.configuration = np.append(system.configuration, HI(pos2))\n",
    "\n",
    "system.Plot()"
   ]
  },
  {
   "cell_type": "markdown",
   "metadata": {},
   "source": [
    "# GUASSIAN"
   ]
  },
  {
   "cell_type": "code",
   "execution_count": 5,
   "metadata": {},
   "outputs": [
    {
     "data": {
      "text/plain": [
       "0.7772055902877706"
      ]
     },
     "execution_count": 5,
     "metadata": {},
     "output_type": "execute_result"
    }
   ],
   "source": [
    "import numpy as np\n",
    "from scipy.integrate import quad as integrate\n",
    "def pulse(t):\n",
    "    return np.exp(-(1/1500)*t**2)\n",
    "total = integrate(pulse, -120, 120)[0]\n",
    "integrate(pulse, -55, 23)[0]/total"
   ]
  },
  {
   "cell_type": "code",
   "execution_count": 20,
   "metadata": {},
   "outputs": [],
   "source": [
    "class Animal():\n",
    "    def __init__(self, a):\n",
    "        self.a = a\n",
    "        self.b = 1\n",
    "        self.c = 1\n",
    "        self.e = 55\n",
    "    def return_c(self):\n",
    "        return self.c\n",
    "    def holo(self):\n",
    "        self.e += 100\n",
    "    \n",
    "class Dog(Animal):\n",
    "    def __init__(self, a):\n",
    "        Animal.__init__(self, a)\n",
    "bob = Dog(5)"
   ]
  },
  {
   "cell_type": "code",
   "execution_count": 25,
   "metadata": {},
   "outputs": [
    {
     "data": {
      "text/plain": [
       "__main__.Dog"
      ]
     },
     "execution_count": 25,
     "metadata": {},
     "output_type": "execute_result"
    }
   ],
   "source": [
    "bob.e\n",
    "bob.holo()\n",
    "bob.e\n",
    "type(bob)"
   ]
  },
  {
   "cell_type": "code",
   "execution_count": 36,
   "metadata": {},
   "outputs": [
    {
     "data": {
      "text/plain": [
       "False"
      ]
     },
     "execution_count": 36,
     "metadata": {},
     "output_type": "execute_result"
    }
   ],
   "source": [
    "issubclass(type(bob), Diatomic)"
   ]
  },
  {
   "cell_type": "code",
   "execution_count": 35,
   "metadata": {},
   "outputs": [
    {
     "data": {
      "text/plain": [
       "__main__.Dog"
      ]
     },
     "execution_count": 35,
     "metadata": {},
     "output_type": "execute_result"
    }
   ],
   "source": [
    "type(bob)"
   ]
  },
  {
   "cell_type": "code",
   "execution_count": 40,
   "metadata": {},
   "outputs": [
    {
     "data": {
      "text/plain": [
       "True"
      ]
     },
     "execution_count": 40,
     "metadata": {},
     "output_type": "execute_result"
    }
   ],
   "source": [
    "isinstance(bob, Dog)"
   ]
  },
  {
   "cell_type": "code",
   "execution_count": 42,
   "metadata": {},
   "outputs": [
    {
     "name": "stdout",
     "output_type": "stream",
     "text": [
      "a\n"
     ]
    }
   ],
   "source": [
    "if 5 == 5 == 5:\n",
    "    print(\"a\")"
   ]
  },
  {
   "cell_type": "code",
   "execution_count": 43,
   "metadata": {},
   "outputs": [
    {
     "name": "stdout",
     "output_type": "stream",
     "text": [
      "[1, 2, 3]\n",
      "[1, 2, 3, 5]\n"
     ]
    }
   ],
   "source": [
    "arr = [1,2,3]\n",
    "\n",
    "def a(arr2):\n",
    "    arr2.append(5)\n",
    "\n",
    "print(arr)\n",
    "a(arr)\n",
    "print(arr)"
   ]
  },
  {
   "cell_type": "code",
   "execution_count": 126,
   "metadata": {},
   "outputs": [
    {
     "data": {
      "text/plain": [
       "array([55,  2,  3])"
      ]
     },
     "execution_count": 126,
     "metadata": {},
     "output_type": "execute_result"
    }
   ],
   "source": [
    "arr = np.array([1,2,3])\n",
    "def a(arr2):\n",
    "    arr2[0] += 54\n",
    "a(arr)\n",
    "arr"
   ]
  },
  {
   "cell_type": "code",
   "execution_count": null,
   "metadata": {},
   "outputs": [],
   "source": []
  }
 ],
 "metadata": {
  "kernelspec": {
   "display_name": "Python 3",
   "language": "python",
   "name": "python3"
  },
  "language_info": {
   "codemirror_mode": {
    "name": "ipython",
    "version": 3
   },
   "file_extension": ".py",
   "mimetype": "text/x-python",
   "name": "python",
   "nbconvert_exporter": "python",
   "pygments_lexer": "ipython3",
   "version": "3.7.3"
  }
 },
 "nbformat": 4,
 "nbformat_minor": 2
}
