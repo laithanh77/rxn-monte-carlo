{
 "cells": [
  {
   "cell_type": "code",
   "execution_count": 141,
   "metadata": {},
   "outputs": [],
   "source": [
    "%matplotlib inline\n",
    "import matplotlib.pyplot as plt\n",
    "from IPython.display import display, clear_output\n",
    "import time\n",
    "import random as rand\n",
    "import math\n",
    "#fig, ax = plt.subplots(figsize=(20,10))"
   ]
  },
  {
   "cell_type": "code",
   "execution_count": 269,
   "metadata": {},
   "outputs": [],
   "source": [
    "#simulation parameters\n",
    "xlim = 4\n",
    "ylim = 4\n",
    "N = 2 #particles\n",
    "error_spawn_ct = 0 #count of failed spawns"
   ]
  },
  {
   "cell_type": "code",
   "execution_count": 275,
   "metadata": {},
   "outputs": [],
   "source": [
    "class Atom():\n",
    "    def __init__(self, x, y):\n",
    "        pass\n",
    "        \n",
    "\n",
    "class Hydrogen(Atom):\n",
    "    def __init__(self, x, y):\n",
    "        self.x = x\n",
    "        self.y = y\n",
    "\n",
    "class Oxygen(Atom):\n",
    "    def __init__(self, x, y):\n",
    "        self.x = x\n",
    "        self.y = y\n",
    "\n",
    "class Particle():\n",
    "    def __init__(self, system):\n",
    "        '''\n",
    "        Calls the spawn method\n",
    "        Parameters:\n",
    "        system is a reference to a list that contains information of all the particles and their coordinates\n",
    "        '''\n",
    "        self.vdw = 3\n",
    "        self.Spawn()\n",
    "\n",
    "    def Draw(self):\n",
    "        '''\n",
    "        draw the particle. returns none\n",
    "        '''\n",
    "        plt.scatter(self.x, self.y)\n",
    "        plt.axis([0, xlim, 0, ylim])\n",
    "    \n",
    "    def Check_VDW(self):\n",
    "        '''\n",
    "        returns True if there exists a particle within self's vdw radius\n",
    "        '''\n",
    "        return ((particle.x - self.x)**2 + (particle.y - self.y)**2)**(1/2) <= (self.vdw + particle.vdw)\n",
    "\n",
    "    def Spawn(self):\n",
    "        '''\n",
    "        Attempts to generate valid x,y positions for itself. Uses system list to identify valid positions. If no valid position\n",
    "        is found, the particle is garbage collected(?)\n",
    "        '''\n",
    "        for attempt in range(N+50):\n",
    "            self.x = rand.uniform(0, xlim)\n",
    "            self.y = rand.uniform(0, ylim)\n",
    "            if not any((self.x, self.y) == (particle.x, particle.y) or self.Check_VDW() for particle in system):\n",
    "                #if particle spawns on top of another one or it is too close to another particle then attempt a new spawn\n",
    "                break\n",
    "\n",
    "        else:\n",
    "            print(\"Molecule failed to spawn!\")\n",
    "            return None #i think so long as system doesnt append the object when it fails to spawn, no reference therefore will be garbage collected??\n",
    "        system.append(self)\n",
    "        print(\"Particle spawned!\")\n"
   ]
  },
  {
   "cell_type": "code",
   "execution_count": 278,
   "metadata": {},
   "outputs": [
    {
     "name": "stdout",
     "output_type": "stream",
     "text": "Particle spawned!\nMolecule failed to spawn!\n"
    },
    {
     "data": {
      "image/png": "[encoded data removed]",
      "image/svg+xml": "<?xml version=\"1.0\" encoding=\"utf-8\" standalone=\"no\"?>\r\n<!DOCTYPE svg PUBLIC \"-//W3C//DTD SVG 1.1//EN\"\r\n  \"http://www.w3.org/Graphics/SVG/1.1/DTD/svg11.dtd\">\r\n<!-- Created with matplotlib (https://matplotlib.org/) -->\r\n<svg height=\"558pt\" version=\"1.1\" viewBox=\"0 0 1130.4 558\" width=\"1130.4pt\" xmlns=\"http://www.w3.org/2000/svg\" xmlns:xlink=\"http://www.w3.org/1999/xlink\">\r\n <defs>\r\n  <style type=\"text/css\">\r\n*{stroke-linecap:butt;stroke-linejoin:round;}\r\n  </style>\r\n </defs>\r\n <g id=\"figure_1\">\r\n  <g id=\"patch_1\">\r\n   <path d=\"M 0 558 \r\nL 1130.4 558 \r\nL 1130.4 0 \r\nL 0 0 \r\nz\r\n\" style=\"fill:none;\"/>\r\n  </g>\r\n  <g id=\"axes_1\">\r\n   <g id=\"PathCollection_1\">\r\n    <defs>\r\n     <path d=\"M 0 3 \r\nC 0.795609 3 1.55874 2.683901 2.12132 2.12132 \r\nC 2.683901 1.55874 3 0.795609 3 0 \r\nC 3 -0.795609 2.683901 -1.55874 2.12132 -2.12132 \r\nC 1.55874 -2.683901 0.795609 -3 0 -3 \r\nC -0.795609 -3 -1.55874 -2.683901 -2.12132 -2.12132 \r\nC -2.683901 -1.55874 -3 -0.795609 -3 0 \r\nC -3 0.795609 -2.683901 1.55874 -2.12132 2.12132 \r\nC -1.55874 2.683901 -0.795609 3 0 3 \r\nz\r\n\" id=\"m539e1c9362\" style=\"stroke:#1f77b4;\"/>\r\n    </defs>\r\n    <g clip-path=\"url(#p94d19ca703)\">\r\n     <use style=\"fill:#1f77b4;stroke:#1f77b4;\" x=\"435.380982\" xlink:href=\"#m539e1c9362\" y=\"149.506683\"/>\r\n    </g>\r\n   </g>\r\n  </g>\r\n </g>\r\n <defs>\r\n  <clipPath id=\"p94d19ca703\">\r\n   <rect height=\"543.6\" width=\"1116\" x=\"7.2\" y=\"7.2\"/>\r\n  </clipPath>\r\n </defs>\r\n</svg>\r\n",
      "text/plain": "<Figure size 1440x720 with 1 Axes>"
     },
     "metadata": {
      "needs_background": "light"
     },
     "output_type": "display_data"
    }
   ],
   "source": [
    "fig, ax = plt.subplots(figsize=(20,10))\n",
    "plt.axis('off')\n",
    "plt.xlim(0, 100)\n",
    "plt.ylim(0, 100)\n",
    "system = [] #list containing all obj\n",
    "\n",
    "#randomly generate 50 particles\n",
    "for i in range(N):\n",
    "    Particle(system)\n",
    "\n",
    "for particle in system:\n",
    "    particle.Draw()\n",
    "\n",
    "if len(system) > 1:\n",
    "    print(((system[0].x - system[1].x)**2 + (system[0].y - system[1].y)**2)**(1/2))"
   ]
  },
  {
   "cell_type": "code",
   "execution_count": null,
   "metadata": {},
   "outputs": [],
   "source": []
  }
 ],
 "metadata": {
  "kernelspec": {
   "display_name": "Python 3",
   "language": "python",
   "name": "python3"
  },
  "language_info": {
   "codemirror_mode": {
    "name": "ipython",
    "version": 3
   },
   "file_extension": ".py",
   "mimetype": "text/x-python",
   "name": "python",
   "nbconvert_exporter": "python",
   "pygments_lexer": "ipython3",
   "version": "3.7.5-final"
  }
 },
 "nbformat": 4,
 "nbformat_minor": 2
}